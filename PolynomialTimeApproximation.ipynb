{
 "cells": [
  {
   "cell_type": "code",
   "execution_count": 2,
   "id": "8a8c50a6-9f16-4b49-986f-9ca28a393752",
   "metadata": {},
   "outputs": [],
   "source": [
    "import numpy as np"
   ]
  },
  {
   "cell_type": "code",
   "execution_count": 53,
   "id": "aef0b522-5514-4464-9b2b-c7a6bed7f1ab",
   "metadata": {},
   "outputs": [],
   "source": []
  },
  {
   "cell_type": "code",
   "execution_count": 50,
   "id": "1623249e-93bd-4089-8778-6646f64948cf",
   "metadata": {},
   "outputs": [],
   "source": []
  },
  {
   "cell_type": "code",
   "execution_count": 100,
   "id": "f17528b3-3a0b-4b24-a8e4-9e80f92b68f0",
   "metadata": {},
   "outputs": [],
   "source": []
  },
  {
   "cell_type": "code",
   "execution_count": 506,
   "id": "24588c27-36a4-464a-a679-e248e608245b",
   "metadata": {},
   "outputs": [],
   "source": []
  },
  {
   "cell_type": "code",
   "execution_count": 507,
   "id": "828dd135-6f6d-44c2-b0c3-055f6e472312",
   "metadata": {},
   "outputs": [],
   "source": [
    "# next free\n"
   ]
  },
  {
   "cell_type": "code",
   "execution_count": 508,
   "id": "ffd00764-29f0-4ab6-968f-7793bba2bd49",
   "metadata": {},
   "outputs": [],
   "source": [
    "closest_neighbors = np.array([[1,2], [2,0], [1,0], [4,5],[5,3],[3,4]], dtype=np.int64)"
   ]
  },
  {
   "cell_type": "code",
   "execution_count": 509,
   "id": "63a89514-b4db-4bc3-99d0-d1a3b13075a4",
   "metadata": {},
   "outputs": [
    {
     "data": {
      "text/plain": [
       "([array([1, 2, 0]), array([3, 5, 4])],\n",
       " array([[2, 1],\n",
       "        [5, 3],\n",
       "        [0, 1],\n",
       "        [4, 5]]))"
      ]
     },
     "execution_count": 509,
     "metadata": {},
     "output_type": "execute_result"
    }
   ],
   "source": [
    "np.random.seed(2)\n",
    "forest2(closest_neighbors)"
   ]
  },
  {
   "cell_type": "code",
   "execution_count": 510,
   "id": "4d45850d-4ab9-4271-b2df-8da5ab783c2b",
   "metadata": {},
   "outputs": [
    {
     "data": {
      "text/plain": [
       "(array([0, 0, 0, 1, 1, 1]),\n",
       " ListType[array(int64, 1d, C)]([[2 1 0], [4 5 3], ...]),\n",
       " array([[2, 1],\n",
       "        [1, 0],\n",
       "        [4, 5],\n",
       "        [5, 3]]))"
      ]
     },
     "execution_count": 510,
     "metadata": {},
     "output_type": "execute_result"
    }
   ],
   "source": [
    "np.random.seed(1)\n",
    "forest(closest_neighbors)"
   ]
  },
  {
   "cell_type": "code",
   "execution_count": 511,
   "id": "344445dc-2d1e-47f4-8808-5efe12643324",
   "metadata": {},
   "outputs": [],
   "source": [
    "from numba import njit\n",
    "from numba.types import int16, int32, int64"
   ]
  },
  {
   "cell_type": "code",
   "execution_count": 512,
   "id": "68604f07-819c-45fa-9064-2e0882eabf58",
   "metadata": {},
   "outputs": [],
   "source": [
    "@njit([(int16[:], int32), (int32[:], int32), (int64[:], int64)],cache=True)\n",
    "def my_bincount(arr, min_lenght):\n",
    "    \"\"\"The same as numpy bincount, but works on unsigned integers as well\"\"\"\n",
    "    if min_lenght <= 0:\n",
    "        m=arr.max() # pragma: no cover\n",
    "    else:\n",
    "        m = min_lenght\n",
    "    out = np.zeros(m+1, dtype=arr.dtype)\n",
    "    for i in range(len(arr)):\n",
    "        out[arr[i]]+=np.int32(1)\n",
    "    return out"
   ]
  },
  {
   "cell_type": "code",
   "execution_count": 609,
   "id": "8ea3a87b-1a2f-4e1b-8df8-5641e70b6bb3",
   "metadata": {},
   "outputs": [],
   "source": [
    "def filter_edges(edges, keep_nodes):\n",
    "    out_edges = np.empty_like(edges)\n",
    "    n = 0\n",
    "    for i in range(edges.shape[0]):\n",
    "        l = edges[i,0]\n",
    "        r = edges[i,1]\n",
    "        if l in keep_nodes and r in keep_nodes:\n",
    "            out_edges[n,0]=l\n",
    "            out_edges[n,1]=r\n",
    "            n+=1\n",
    "    return out_edges[:n,:]"
   ]
  },
  {
   "cell_type": "code",
   "execution_count": 642,
   "id": "51f56b87-2b26-4340-be07-4a56552cfb6a",
   "metadata": {},
   "outputs": [],
   "source": []
  },
  {
   "cell_type": "code",
   "execution_count": 763,
   "id": "2a66e4e6-6d31-4cdf-b463-394e1a4e5e3a",
   "metadata": {},
   "outputs": [],
   "source": [
    "\n",
    "def split_component(steiners, component, k, start_pos, neighbors, messages_still_pending, sub_tree_size):\n",
    "    component = np.random.permutation(component)\n",
    "    # print(component)\n",
    "    s = len(component) - len(steiners)\n",
    "    l = list()\n",
    "\n",
    "    if s <= max(2*k-1, 3*k-5):\n",
    "        l.append((steiners, component))\n",
    "        return l\n",
    "    steiners1 = steiners.copy()\n",
    "    steiners2 = steiners.copy()\n",
    "    for i, pivot in enumerate(component):\n",
    "        degree_pivot = start_pos[pivot+1]-start_pos[pivot]\n",
    "        if pivot in steiners:\n",
    "            continue\n",
    "        if degree_pivot==1:\n",
    "            continue\n",
    "        sub_tree_sizes = hang_tree(pivot, component, start_pos, neighbors, messages_still_pending, sub_tree_size, steiners)\n",
    "        j = np.argmax(sub_tree_sizes[:,1])\n",
    "        v = sub_tree_sizes[j,0]\n",
    "        phi = sub_tree_sizes[j,1]\n",
    "        #print(\"phi\", pivot, phi)\n",
    "        # print(sub_tree_sizes)\n",
    "        if s-phi < k-1:\n",
    "            continue\n",
    "        if phi>=k and s-phi >=k:\n",
    "            comp1 = find_subtree(pivot, v, start_pos, neighbors, sub_tree_size, component)\n",
    "            comp2 = find_subtree(v, pivot, start_pos, neighbors, sub_tree_size, component)\n",
    "            l.append((steiners1, comp1))\n",
    "            l.append((steiners2, comp2))\n",
    "            # print(\"A\", pivot, list(l))\n",
    "            return l\n",
    "        elif s-phi == k-1:\n",
    "            if v in steiners:\n",
    "                continue\n",
    "            comp1_p = find_subtree(pivot, v, start_pos, neighbors, sub_tree_size, component)\n",
    "            # print(\"B1\", comp1_p)\n",
    "            comp1 = np.empty(len(comp1_p)+1, dtype=comp1_p.dtype)\n",
    "            comp1[0]=v\n",
    "            comp1[1:]=comp1_p[:]\n",
    "            comp2 = find_subtree(v, pivot, start_pos, neighbors, sub_tree_size, component)\n",
    "            # print(\"B\", v, pivot, comp1, comp2)\n",
    "            steiners2.append(v)\n",
    "            l.append((steiners1, comp1))\n",
    "            l.append((steiners2, comp2))\n",
    "            #print(\"B\", pivot, v, list(l))\n",
    "            return l\n",
    "        elif s-phi == k-1:\n",
    "            comp1 = find_subtree(pivot, v, start_pos, neighbors, sub_tree_size, component)\n",
    "            comp2 = find_subtree(v, pivot, start_pos, neighbors, sub_tree_size, component)\n",
    "            comp2_p = np.empty(len(comp2)+1, dtype=comp1.dtype)\n",
    "            comp2[0]=pivot\n",
    "            comp2[1:]=comp2_p\n",
    "            steiners2.append(v)\n",
    "            l.append((steiners1, comp1))\n",
    "            l.append((steiners2, comp2))\n",
    "            # print(\"C\", pivot, list(l))\n",
    "            return l\n",
    "        else:\n",
    "            # print(\"D\", pivot, list(l))\n",
    "            num_subtrees = sub_tree_sizes.shape[0]\n",
    "            order = np.random.permutation(num_subtrees)\n",
    "            i_order = 0\n",
    "            tree_size = 0\n",
    "            while tree_size < k-1:\n",
    "                tree_size+=sub_tree_sizes[order[i_order],1]\n",
    "                i_order+=1\n",
    "            #print(sub_tree_sizes)\n",
    "            #print(tree_size)\n",
    "            add_pivot_to_1 = True\n",
    "            if s-tree_size == k-1:\n",
    "                add_pivot_to_1=False\n",
    "            else:\n",
    "                add_pivot_to_1=True\n",
    "            comp1 = np.empty(tree_size+1, dtype=np.int64)\n",
    "            comp2 = np.empty(s-tree_size+1, dtype=np.int64)\n",
    "            comp1[0]=pivot\n",
    "            comp2[0]=pivot\n",
    "            i_comp1 = 1\n",
    "            i_comp2 = 1\n",
    "            if add_pivot_to_1:\n",
    "                steiners2.append(pivot) # the pivot is assigned to comp1, thus 2 is steiner\n",
    "            else:\n",
    "                steiners1.append(pivot)\n",
    "            \n",
    "            for j in range(num_subtrees):\n",
    "                sub_node = sub_tree_sizes[order[j],0]\n",
    "                comp_tmp = find_subtree(sub_node, pivot, start_pos, neighbors, sub_tree_size, component)\n",
    "                #print(j, sub_node, comp_tmp)\n",
    "                for sub_tree_member in comp_tmp:\n",
    "                    if j < i_order:\n",
    "                        comp1[i_comp1] = sub_tree_member\n",
    "                        i_comp1+=1\n",
    "                    else:\n",
    "                        comp2[i_comp2] = sub_tree_member\n",
    "                        i_comp2+=1\n",
    "            l.append((steiners1, comp1))\n",
    "            l.append((steiners2, comp2))\n",
    "            return l\n",
    "        # l1 = split_component(steiners1, comp1, k, start_pos, neighbors, messages_still_pending, sub_tree_size, component)\n",
    "        # l.extend(l1)    \n",
    "        # l2 = split_component(steiners2, comp2, k, start_pos, neighbors, messages_still_pending, sub_tree_size, component)\n",
    "        # l.extend(l2)\n",
    "        \n",
    "        return l\n",
    "    assert False  \n",
    "        "
   ]
  },
  {
   "cell_type": "code",
   "execution_count": 764,
   "id": "add707ed-86ed-42f8-b533-2197c0c4a8ef",
   "metadata": {},
   "outputs": [],
   "source": [
    "\n",
    " def hang_tree(pivot, nodes, start_pos, neighbors, messages_still_pending, sub_tree_size, steiners):\n",
    "    # print()\n",
    "    degree_pivot = start_pos[pivot+1]-start_pos[pivot]\n",
    "    out = np.empty((degree_pivot, 2), dtype=np.int64)\n",
    "    num_out=0\n",
    "    leaves = np.empty_like(nodes)\n",
    "    num_leaves=0\n",
    "\n",
    "    # Fill initial leaves\n",
    "    for node in nodes:\n",
    "        if node not in steiners:\n",
    "            sub_tree_size[node] = 1\n",
    "        else:\n",
    "            sub_tree_size[node] = 0\n",
    "        degree_node = start_pos[node+1]-start_pos[node]\n",
    "        if degree_node!=1:\n",
    "            continue\n",
    "        leaves[num_leaves]=node\n",
    "        num_leaves+=1\n",
    "        messages_still_pending[node]=0 # leaf nodes need no messages\n",
    "    # print(\"pivot\", pivot)\n",
    "    # print(messages_still_pending)\n",
    "    while num_leaves > 0:\n",
    "        # pop node from the queue\n",
    "        num_leaves -=1\n",
    "        node = leaves[num_leaves]\n",
    "        # print(\"node\", node)\n",
    "        if node == pivot: # pivot never needs to send messages\n",
    "            continue\n",
    "        # propagate to neighbors\n",
    "        start = start_pos[node]\n",
    "        stop = start_pos[node+1]\n",
    "        # print(node, start, stop, neighbors[start:stop], len(neighbors))\n",
    "        for neigh in neighbors[start:stop]:\n",
    "            if messages_still_pending[neigh]<=1:\n",
    "                continue\n",
    "            # print(\"  \", node, neigh)\n",
    "            sub_tree_size[neigh]+=sub_tree_size[node]\n",
    "            \n",
    "            if neigh == pivot:\n",
    "                out[num_out,0]=node\n",
    "                out[num_out,1]=sub_tree_size[node]\n",
    "                num_out+=1\n",
    "                #print(\"root\", node)\n",
    "                break\n",
    "            if messages_still_pending[neigh]>2:\n",
    "                messages_still_pending[neigh]-=1\n",
    "            elif messages_still_pending[neigh]==2: # this node is now a leaf so enqueu\n",
    "                messages_still_pending[neigh]-=1\n",
    "                # print(node, neigh, sub_tree_size[node], sub_tree_size[neigh])\n",
    "                \n",
    "                leaves[num_leaves] = neigh\n",
    "                num_leaves+=1\n",
    "                # print(\"new_leaf\", neigh)\n",
    "            break\n",
    "    #print(messages_still_pending, pivot)\n",
    "    # reset global arrays\n",
    "    for node in nodes:\n",
    "        degree = start_pos[node+1]-start_pos[node]\n",
    "        messages_still_pending[node]=degree\n",
    "        sub_tree_size[node]=0\n",
    "    assert num_out == degree_pivot, (pivot, num_out, degree_pivot)\n",
    "    return out       "
   ]
  },
  {
   "cell_type": "code",
   "execution_count": null,
   "id": "0b8d7008-35a2-453f-b73a-99d476ff99b7",
   "metadata": {},
   "outputs": [],
   "source": []
  },
  {
   "cell_type": "code",
   "execution_count": null,
   "id": "74251c4f-9ed4-4461-9fa7-1220517c2c9e",
   "metadata": {},
   "outputs": [],
   "source": []
  },
  {
   "cell_type": "code",
   "execution_count": 765,
   "id": "4f667535-136e-427d-8c57-02e06821c6d6",
   "metadata": {},
   "outputs": [],
   "source": [
    "from itertools import chain"
   ]
  },
  {
   "cell_type": "code",
   "execution_count": 766,
   "id": "4cc6167d-17c7-4875-8853-342ebca7f42e",
   "metadata": {},
   "outputs": [
    {
     "name": "stdout",
     "output_type": "stream",
     "text": [
      "[([], array([ 5,  8, 10])), ([np.int64(5)], array([1, 9, 0])), ([np.int64(5), np.int64(1)], array([1, 2, 3, 5, 7, 6, 4]))]\n",
      "[] [5, 8, 10]\n",
      "[5] [1, 9, 0]\n",
      "[5, 1] [1, 2, 3, 5, 7, 6, 4]\n",
      "25\n",
      "[] [5, 8, 10]\n",
      "[5] [1, 9, 0]\n",
      "[5, 1] [1, 2, 3, 5, 7, 6, 4]\n"
     ]
    }
   ],
   "source": [
    "seed = 25\n",
    "np.random.seed(seed)\n",
    "result = decompose_components(components, edges, 3, len(df))\n",
    "print(result)\n",
    "for steiner, comp in result:\n",
    "    print(list(map(int, steiner)), list(map(int, comp)))\n",
    "for steiner, comp in result:\n",
    "    assert len(set(comp)-set(steiner))>=3, seed\n",
    "comps = [comp for steiner, comp in result]\n",
    "assert len(set(chain.from_iterable(comps)))==11 \n",
    "if len(result)>2:\n",
    "    print(seed)\n",
    "    for steiner, comp in result:\n",
    "        print(list(map(int, steiner)), list(map(int, comp)))"
   ]
  },
  {
   "cell_type": "code",
   "execution_count": null,
   "id": "ac1d6a6e-2151-4fa2-ac64-450a8c6cdba9",
   "metadata": {},
   "outputs": [],
   "source": []
  },
  {
   "cell_type": "code",
   "execution_count": null,
   "id": "fc82622b-e315-47e5-a669-22f51c8f5fe9",
   "metadata": {},
   "outputs": [],
   "source": []
  },
  {
   "cell_type": "code",
   "execution_count": null,
   "id": "bfd0acb4-8610-49d9-8e7d-275b57ebf0aa",
   "metadata": {},
   "outputs": [],
   "source": []
  },
  {
   "cell_type": "code",
   "execution_count": null,
   "id": "b53df7a2-caf1-4eee-8eb0-cb88deb37e7f",
   "metadata": {},
   "outputs": [],
   "source": []
  },
  {
   "cell_type": "code",
   "execution_count": null,
   "id": "0b8bbd11-595a-455e-9b9a-43b20709e89f",
   "metadata": {},
   "outputs": [],
   "source": []
  },
  {
   "cell_type": "code",
   "execution_count": 767,
   "id": "fcd2d646-97c1-4260-8123-8f9e9e566409",
   "metadata": {},
   "outputs": [],
   "source": [
    "target_result = set([frozenset([0,9,1]), frozenset([2,3,4]), frozenset([6,7,5,8,10])])"
   ]
  },
  {
   "cell_type": "code",
   "execution_count": 768,
   "id": "f3f0423e-3941-4053-8dba-58a6ba70830d",
   "metadata": {},
   "outputs": [
    {
     "data": {
      "application/vnd.jupyter.widget-view+json": {
       "model_id": "ec704dc6b64e424caae62b2fdc3b0dda",
       "version_major": 2,
       "version_minor": 0
      },
      "text/plain": [
       "  0%|          | 0/1000000 [00:00<?, ?it/s]"
      ]
     },
     "metadata": {},
     "output_type": "display_data"
    }
   ],
   "source": [
    "for seed in tqdm(range(1_000_000)):\n",
    "    np.random.seed(seed)\n",
    "    result = decompose_components(components, edges, 3, len(df))\n",
    "    for steiner, comp in result:\n",
    "        assert len(set(comp)-set(steiner))>=3, seed\n",
    "    comps = [comp for steiner, comp in result]\n",
    "    assert len(set(chain.from_iterable(comps)))==11\n",
    "    if len(result)>1000:\n",
    "        this_set = set()\n",
    "        for steiner, comp in result:\n",
    "            this_set.add(frozenset(list(map(int, comp))))\n",
    "        if target_result == this_set:\n",
    "            print(seed)\n",
    "            for steiner, comp in result:\n",
    "                print(list(map(int, steiner)), list(map(int, comp)))\n",
    "            break"
   ]
  },
  {
   "cell_type": "code",
   "execution_count": null,
   "id": "9a4b5037-5618-48f2-903e-b3152d3b02a7",
   "metadata": {},
   "outputs": [],
   "source": []
  },
  {
   "cell_type": "code",
   "execution_count": null,
   "id": "17dc531e-fd3e-4e60-966d-3396f67a7117",
   "metadata": {},
   "outputs": [],
   "source": []
  },
  {
   "cell_type": "code",
   "execution_count": null,
   "id": "93531a9d-cc82-4f36-bb10-590b738a6a50",
   "metadata": {},
   "outputs": [],
   "source": []
  },
  {
   "cell_type": "code",
   "execution_count": null,
   "id": "e9b3a66c-18a1-48fb-951d-500de95e9281",
   "metadata": {},
   "outputs": [],
   "source": []
  },
  {
   "cell_type": "code",
   "execution_count": null,
   "id": "d5cd7ac3-09f5-41c3-bc55-c41b27c23ca1",
   "metadata": {},
   "outputs": [],
   "source": []
  },
  {
   "cell_type": "code",
   "execution_count": 554,
   "id": "85803345-7614-48f4-bc01-8c344e35bcb9",
   "metadata": {},
   "outputs": [
    {
     "data": {
      "application/vnd.jupyter.widget-view+json": {
       "model_id": "3bb420298fa54f9caf92c49e5e0a5f4a",
       "version_major": 2,
       "version_minor": 0
      },
      "text/plain": [
       "  0%|          | 0/10 [00:00<?, ?it/s]"
      ]
     },
     "metadata": {},
     "output_type": "display_data"
    },
    {
     "name": "stdout",
     "output_type": "stream",
     "text": [
      "[] [1, 9, 0]\n",
      "[] [2, 3, 5, 7, 8, 10, 6, 4]\n",
      "\n",
      "[] [2, 3, 1, 9, 0, 4]\n",
      "[] [5, 7, 8, 10, 6]\n",
      "\n",
      "[] [1, 9, 0]\n",
      "[] [2, 3, 5, 7, 8, 10, 6, 4]\n",
      "\n",
      "[] [1, 9, 0]\n",
      "[1] [1, 2, 3, 5, 7, 8, 10, 6, 4]\n",
      "\n",
      "[] [5, 7, 8, 10, 6]\n",
      "[] [2, 3, 1, 9, 0, 4]\n",
      "\n",
      "[] [1, 9, 0]\n",
      "[1] [1, 2, 3, 5, 7, 8, 10, 6, 4]\n",
      "\n",
      "[] [2, 3, 4]\n",
      "[2] [2, 5, 1, 9, 0, 7, 8, 10, 6]\n",
      "\n",
      "[] [1, 9, 0]\n",
      "[1] [1, 2, 3, 5, 7, 8, 10, 6, 4]\n",
      "\n",
      "[] [5, 7, 6]\n",
      "[5] [5, 2, 8, 10, 3, 1, 9, 0, 4]\n",
      "\n",
      "[] [5, 7, 6]\n",
      "[5] [5, 2, 8, 10, 3, 1, 9, 0, 4]\n",
      "\n"
     ]
    }
   ],
   "source": [
    "for seed in tqdm(range(10)):\n",
    "    np.random.seed(seed)\n",
    "    result = decompose_components(components, edges, 3, len(df))\n",
    "    for steiner, comp in result:\n",
    "        print(list(map(int, steiner)), list(map(int, comp)))\n",
    "    print()"
   ]
  },
  {
   "cell_type": "code",
   "execution_count": 499,
   "id": "8c2f5f3b-b5ef-474d-a721-579d36a18401",
   "metadata": {},
   "outputs": [],
   "source": [
    "records = [\n",
    "[\"A&A Ltd \" ,790 ,55 ,3212334 ,313250],\n",
    "[\"B&B SpA \" ,710 ,44 ,2283340 ,299876],\n",
    "[\"C&C Inc \" ,730 ,32 ,1989233 ,200213],\n",
    "[\"D&D BV  \" ,810 ,17 ,984983  ,143211],\n",
    "[\"E&E SL  \" ,950 ,3  ,194232  ,51233],\n",
    "[\"F&F GmbH\" ,510 ,25 ,119332  ,20333],\n",
    "[\"G&G AG  \" ,400 ,45 ,3012444 ,501233],\n",
    "[\"H&H SA  \" ,330 ,50 ,4233312 ,777882],\n",
    "[\"I&I LLC \" ,510 ,5  ,159999  ,60388 ],\n",
    "[\"J&J Co  \" ,760 ,52 ,5333442 ,1001233],\n",
    "[\"K&K Sarl\" ,50  ,12 ,645223  ,333010],]"
   ]
  },
  {
   "cell_type": "code",
   "execution_count": 348,
   "id": "f32372d8-d0a7-4cc0-a508-1359fac30d83",
   "metadata": {},
   "outputs": [],
   "source": [
    "import pandas as pd"
   ]
  },
  {
   "cell_type": "code",
   "execution_count": 349,
   "id": "89c77f04-ec18-4c24-8671-f680dd273147",
   "metadata": {},
   "outputs": [],
   "source": [
    "df = pd.DataFrame.from_records(records, columns=[\"name\", \"surface\", \"employees\", \"turnover\", \"profit\"])"
   ]
  },
  {
   "cell_type": "code",
   "execution_count": 231,
   "id": "6c3d57cf-05c0-445b-9ad1-f739b451175c",
   "metadata": {},
   "outputs": [
    {
     "data": {
      "text/plain": [
       "<matplotlib.collections.PathCollection at 0x16736ee9e70>"
      ]
     },
     "execution_count": 231,
     "metadata": {},
     "output_type": "execute_result"
    },
    {
     "data": {
      "image/png": "[encoded data removed]",
      "text/plain": [
       "<Figure size 640x480 with 1 Axes>"
      ]
     },
     "metadata": {},
     "output_type": "display_data"
    }
   ],
   "source": [
    "import matplotlib.pyplot as plt\n",
    "plt.scatter(df.surface, df.employees)"
   ]
  },
  {
   "cell_type": "code",
   "execution_count": 232,
   "id": "5a598864-8ee8-46ca-9d32-e9e710986acc",
   "metadata": {},
   "outputs": [],
   "source": [
    "def permutate_closest_neighbors(closest_neighbors):\n",
    "    k = closest_neighbors.shape[1]\n",
    "    for i in range(closest_neighbors.shape[0]):\n",
    "        closest_neighbors[i,:]=closest_neighbors[i,:][np.random.permutation(k)]"
   ]
  },
  {
   "cell_type": "code",
   "execution_count": 308,
   "id": "fdab8c35-51a5-4fc1-b205-12112642a38e",
   "metadata": {},
   "outputs": [],
   "source": [
    "def apply_basic(df, k):\n",
    "    if isinstance(df, pd.DataFrame):\n",
    "        arr = df.to_numpy()\n",
    "    else:\n",
    "        arr = df\n",
    "    # print(arr)\n",
    "    dists = compute_dists(arr)\n",
    "    # print(dists)\n",
    "    closest_neighbors = get_k_closest(dists, k)\n",
    "    permutate_closest_neighbors(closest_neighbors)\n",
    "    # print(closest_neighbors)\n",
    "    components, edges = forest2(closest_neighbors)\n",
    "    return components, edges"
   ]
  },
  {
   "cell_type": "code",
   "execution_count": 309,
   "id": "7ad99dfd-38a1-4dfb-a2bf-c11743d81b0d",
   "metadata": {},
   "outputs": [],
   "source": [
    "@njit(cache=True)\n",
    "def _set_seed(seed):\n",
    "    \"\"\"Set the need. This needs to be done within numba @njit function\"\"\"\n",
    "    np.random.seed(seed)"
   ]
  },
  {
   "cell_type": "code",
   "execution_count": 310,
   "id": "d9719f58-3c9e-44b2-b2b3-5c65f16b8ff2",
   "metadata": {},
   "outputs": [],
   "source": [
    "from tqdm.notebook import tqdm"
   ]
  },
  {
   "cell_type": "code",
   "execution_count": 323,
   "id": "dec1764c-ad39-4ccd-9b11-0928689e0a76",
   "metadata": {},
   "outputs": [
    {
     "data": {
      "application/vnd.jupyter.widget-view+json": {
       "model_id": "0074af7127e84aa797468251a0967943",
       "version_major": 2,
       "version_minor": 0
      },
      "text/plain": [
       "  0%|          | 0/700000 [00:00<?, ?it/s]"
      ]
     },
     "metadata": {},
     "output_type": "display_data"
    },
    {
     "ename": "KeyboardInterrupt",
     "evalue": "",
     "output_type": "error",
     "traceback": [
      "\u001b[1;31m---------------------------------------------------------------------------\u001b[0m",
      "\u001b[1;31mKeyboardInterrupt\u001b[0m                         Traceback (most recent call last)",
      "Cell \u001b[1;32mIn[323], line 7\u001b[0m\n\u001b[0;32m      5\u001b[0m np\u001b[38;5;241m.\u001b[39mrandom\u001b[38;5;241m.\u001b[39mseed(seed)\n\u001b[0;32m      6\u001b[0m _set_seed(seed)\n\u001b[1;32m----> 7\u001b[0m components, edges \u001b[38;5;241m=\u001b[39m \u001b[43mapply_basic\u001b[49m\u001b[43m(\u001b[49m\u001b[43mdf_in\u001b[49m\u001b[43m,\u001b[49m\u001b[43m \u001b[49m\u001b[38;5;241;43m3\u001b[39;49m\u001b[43m)\u001b[49m\n\u001b[0;32m      8\u001b[0m s \u001b[38;5;241m=\u001b[39m \u001b[38;5;28mset\u001b[39m(\u001b[38;5;28mmap\u001b[39m(\u001b[38;5;28mtuple\u001b[39m, edges))\n\u001b[0;32m      9\u001b[0m \u001b[38;5;28;01mif\u001b[39;00m \u001b[38;5;28mall\u001b[39m(x \u001b[38;5;129;01min\u001b[39;00m s \u001b[38;5;28;01mfor\u001b[39;00m x \u001b[38;5;129;01min\u001b[39;00m [(\u001b[38;5;241m6\u001b[39m,\u001b[38;5;241m7\u001b[39m), (\u001b[38;5;241m3\u001b[39m,\u001b[38;5;241m4\u001b[39m), (\u001b[38;5;241m2\u001b[39m,\u001b[38;5;241m3\u001b[39m), (\u001b[38;5;241m8\u001b[39m,\u001b[38;5;241m5\u001b[39m), (\u001b[38;5;241m10\u001b[39m,\u001b[38;5;241m8\u001b[39m), (\u001b[38;5;241m7\u001b[39m,\u001b[38;5;241m5\u001b[39m), (\u001b[38;5;241m5\u001b[39m,\u001b[38;5;241m2\u001b[39m), (\u001b[38;5;241m1\u001b[39m,\u001b[38;5;241m2\u001b[39m)]):\n",
      "Cell \u001b[1;32mIn[308], line 9\u001b[0m, in \u001b[0;36mapply_basic\u001b[1;34m(df, k)\u001b[0m\n\u001b[0;32m      7\u001b[0m dists \u001b[38;5;241m=\u001b[39m compute_dists(arr)\n\u001b[0;32m      8\u001b[0m \u001b[38;5;66;03m# print(dists)\u001b[39;00m\n\u001b[1;32m----> 9\u001b[0m closest_neighbors \u001b[38;5;241m=\u001b[39m \u001b[43mget_k_closest\u001b[49m\u001b[43m(\u001b[49m\u001b[43mdists\u001b[49m\u001b[43m,\u001b[49m\u001b[43m \u001b[49m\u001b[43mk\u001b[49m\u001b[43m)\u001b[49m\n\u001b[0;32m     10\u001b[0m permutate_closest_neighbors(closest_neighbors)\n\u001b[0;32m     11\u001b[0m \u001b[38;5;66;03m# print(closest_neighbors)\u001b[39;00m\n",
      "Cell \u001b[1;32mIn[50], line 2\u001b[0m, in \u001b[0;36mget_k_closest\u001b[1;34m(dist, k)\u001b[0m\n\u001b[0;32m      1\u001b[0m \u001b[38;5;28;01mdef\u001b[39;00m \u001b[38;5;21mget_k_closest\u001b[39m(dist, k):\n\u001b[1;32m----> 2\u001b[0m     partition \u001b[38;5;241m=\u001b[39m \u001b[43mnp\u001b[49m\u001b[38;5;241;43m.\u001b[39;49m\u001b[43margpartition\u001b[49m\u001b[43m(\u001b[49m\u001b[43mdist\u001b[49m\u001b[43m,\u001b[49m\u001b[43mk\u001b[49m\u001b[43m,\u001b[49m\u001b[43m \u001b[49m\u001b[43maxis\u001b[49m\u001b[38;5;241;43m=\u001b[39;49m\u001b[38;5;241;43m1\u001b[39;49m\u001b[43m)\u001b[49m\n\u001b[0;32m      3\u001b[0m     \u001b[38;5;28;01mreturn\u001b[39;00m partition[:,:k]\n",
      "File \u001b[1;32m~\\Desktop\\projects\\microagg1d\\env\\lib\\site-packages\\numpy\\_core\\fromnumeric.py:908\u001b[0m, in \u001b[0;36margpartition\u001b[1;34m(a, kth, axis, kind, order)\u001b[0m\n\u001b[0;32m    828\u001b[0m \u001b[38;5;129m@array_function_dispatch\u001b[39m(_argpartition_dispatcher)\n\u001b[0;32m    829\u001b[0m \u001b[38;5;28;01mdef\u001b[39;00m \u001b[38;5;21margpartition\u001b[39m(a, kth, axis\u001b[38;5;241m=\u001b[39m\u001b[38;5;241m-\u001b[39m\u001b[38;5;241m1\u001b[39m, kind\u001b[38;5;241m=\u001b[39m\u001b[38;5;124m'\u001b[39m\u001b[38;5;124mintroselect\u001b[39m\u001b[38;5;124m'\u001b[39m, order\u001b[38;5;241m=\u001b[39m\u001b[38;5;28;01mNone\u001b[39;00m):\n\u001b[0;32m    830\u001b[0m \u001b[38;5;250m    \u001b[39m\u001b[38;5;124;03m\"\"\"\u001b[39;00m\n\u001b[0;32m    831\u001b[0m \u001b[38;5;124;03m    Perform an indirect partition along the given axis using the\u001b[39;00m\n\u001b[0;32m    832\u001b[0m \u001b[38;5;124;03m    algorithm specified by the `kind` keyword. It returns an array of\u001b[39;00m\n\u001b[1;32m   (...)\u001b[0m\n\u001b[0;32m    906\u001b[0m \n\u001b[0;32m    907\u001b[0m \u001b[38;5;124;03m    \"\"\"\u001b[39;00m\n\u001b[1;32m--> 908\u001b[0m     \u001b[38;5;28;01mreturn\u001b[39;00m \u001b[43m_wrapfunc\u001b[49m\u001b[43m(\u001b[49m\u001b[43ma\u001b[49m\u001b[43m,\u001b[49m\u001b[43m \u001b[49m\u001b[38;5;124;43m'\u001b[39;49m\u001b[38;5;124;43margpartition\u001b[39;49m\u001b[38;5;124;43m'\u001b[39;49m\u001b[43m,\u001b[49m\u001b[43m \u001b[49m\u001b[43mkth\u001b[49m\u001b[43m,\u001b[49m\u001b[43m \u001b[49m\u001b[43maxis\u001b[49m\u001b[38;5;241;43m=\u001b[39;49m\u001b[43maxis\u001b[49m\u001b[43m,\u001b[49m\u001b[43m \u001b[49m\u001b[43mkind\u001b[49m\u001b[38;5;241;43m=\u001b[39;49m\u001b[43mkind\u001b[49m\u001b[43m,\u001b[49m\u001b[43m \u001b[49m\u001b[43morder\u001b[49m\u001b[38;5;241;43m=\u001b[39;49m\u001b[43morder\u001b[49m\u001b[43m)\u001b[49m\n",
      "File \u001b[1;32m~\\Desktop\\projects\\microagg1d\\env\\lib\\site-packages\\numpy\\_core\\fromnumeric.py:57\u001b[0m, in \u001b[0;36m_wrapfunc\u001b[1;34m(obj, method, *args, **kwds)\u001b[0m\n\u001b[0;32m     54\u001b[0m     \u001b[38;5;28;01mreturn\u001b[39;00m _wrapit(obj, method, \u001b[38;5;241m*\u001b[39margs, \u001b[38;5;241m*\u001b[39m\u001b[38;5;241m*\u001b[39mkwds)\n\u001b[0;32m     56\u001b[0m \u001b[38;5;28;01mtry\u001b[39;00m:\n\u001b[1;32m---> 57\u001b[0m     \u001b[38;5;28;01mreturn\u001b[39;00m bound(\u001b[38;5;241m*\u001b[39margs, \u001b[38;5;241m*\u001b[39m\u001b[38;5;241m*\u001b[39mkwds)\n\u001b[0;32m     58\u001b[0m \u001b[38;5;28;01mexcept\u001b[39;00m \u001b[38;5;167;01mTypeError\u001b[39;00m:\n\u001b[0;32m     59\u001b[0m     \u001b[38;5;66;03m# A TypeError occurs if the object does have such a method in its\u001b[39;00m\n\u001b[0;32m     60\u001b[0m     \u001b[38;5;66;03m# class, but its signature is not identical to that of NumPy's. This\u001b[39;00m\n\u001b[1;32m   (...)\u001b[0m\n\u001b[0;32m     64\u001b[0m     \u001b[38;5;66;03m# Call _wrapit from within the except clause to ensure a potential\u001b[39;00m\n\u001b[0;32m     65\u001b[0m     \u001b[38;5;66;03m# exception has a traceback chain.\u001b[39;00m\n\u001b[0;32m     66\u001b[0m     \u001b[38;5;28;01mreturn\u001b[39;00m _wrapit(obj, method, \u001b[38;5;241m*\u001b[39margs, \u001b[38;5;241m*\u001b[39m\u001b[38;5;241m*\u001b[39mkwds)\n",
      "\u001b[1;31mKeyboardInterrupt\u001b[0m: "
     ]
    }
   ],
   "source": [
    "from sklearn import preprocessing\n",
    "df_in = preprocessing.StandardScaler().fit_transform(df[[ \"surface\", \"employees\"]])\n",
    "# df_in = df[[ \"surface\", \"employees\"]]\n",
    "for seed in tqdm(range(300_000, 1_000_000)):\n",
    "    np.random.seed(seed)\n",
    "    _set_seed(seed)\n",
    "    components, edges = apply_basic(df_in, 3)\n",
    "    s = set(map(tuple, edges))\n",
    "    if all(x in s for x in [(6,7), (3,4), (2,3), (8,5), (10,8), (7,5), (5,2), (1,2)]):\n",
    "        print(seed)\n",
    "        print(edges)\n",
    "        break"
   ]
  },
  {
   "cell_type": "code",
   "execution_count": 298,
   "id": "e7fe7e30-aa5b-4e2a-9e5a-c41135a7f588",
   "metadata": {},
   "outputs": [
    {
     "name": "stdout",
     "output_type": "stream",
     "text": [
      "{0: (np.float64(0.7775189605962344), np.float64(1.296684835461171)), 1: (np.float64(0.4577915375473155), np.float64(0.7046136464392778)), 2: (np.float64(0.5377233933095452), np.float64(0.05871780386993977)), 3: (np.float64(0.8574508163584641), np.float64(-0.7486519993417329)), 4: (np.float64(1.416973806694072), np.float64(-1.5021971490059607)), 5: (np.float64(-0.34152702007498165), np.float64(-0.3180547709621741)), 6: (np.float64(-0.781152226767245), np.float64(0.7584382999867227)), 7: (np.float64(-1.060913721935049), np.float64(1.027561567723947)), 8: (np.float64(-0.34152702007498165), np.float64(-1.3945478419110708)), 9: (np.float64(0.6576211769528898), np.float64(1.1352108748188365)), 10: (np.float64(-2.179959702606265), np.float64(-1.017775267078957))}\n"
     ]
    }
   ],
   "source": [
    "df_in = preprocessing.StandardScaler().fit_transform(df[[ \"surface\", \"employees\"]])\n",
    "pos = {}\n",
    "for i in range(len(df)):\n",
    "    pos[i] = (df_in[i,0], df_in[i,1])\n",
    "print(pos)"
   ]
  },
  {
   "cell_type": "code",
   "execution_count": null,
   "id": "193449e4-a682-4fc2-b82f-ae0b65742054",
   "metadata": {},
   "outputs": [],
   "source": []
  },
  {
   "cell_type": "code",
   "execution_count": 328,
   "id": "8db22276-bf74-468f-b1c2-bba3e43461e0",
   "metadata": {},
   "outputs": [
    {
     "data": {
      "image/png": "[encoded data removed]",
      "text/plain": [
       "<Figure size 640x480 with 1 Axes>"
      ]
     },
     "metadata": {},
     "output_type": "display_data"
    }
   ],
   "source": [
    "import networkx as nx\n",
    "\n",
    "seed=373152 # magical seed that procudes the example in the paper :)\n",
    "np.random.seed(seed)\n",
    "_set_seed(seed)\n",
    "components, edges = apply_basic(df_in, 3)\n",
    "\n",
    "G = nx.DiGraph()\n",
    "G.add_nodes_from(df.index)\n",
    "G.add_edges_from(edges)\n",
    "plt.figure()\n",
    "nx.draw_networkx(G, pos = pos, hide_ticks=False)\n",
    "plt.scatter(df_in[:,0], df_in[:,1])\n",
    "plt.draw()"
   ]
  },
  {
   "cell_type": "code",
   "execution_count": 331,
   "id": "a6064471-7668-4fa7-a71c-cc6f65b1da54",
   "metadata": {},
   "outputs": [
    {
     "ename": "NameError",
     "evalue": "name 'degrees' is not defined",
     "output_type": "error",
     "traceback": [
      "\u001b[1;31m---------------------------------------------------------------------------\u001b[0m",
      "\u001b[1;31mNameError\u001b[0m                                 Traceback (most recent call last)",
      "Cell \u001b[1;32mIn[331], line 1\u001b[0m\n\u001b[1;32m----> 1\u001b[0m result \u001b[38;5;241m=\u001b[39m \u001b[43mdecompose_components\u001b[49m\u001b[43m(\u001b[49m\u001b[43mcomponents\u001b[49m\u001b[43m,\u001b[49m\u001b[43m \u001b[49m\u001b[43medges\u001b[49m\u001b[43m,\u001b[49m\u001b[43m \u001b[49m\u001b[38;5;241;43m3\u001b[39;49m\u001b[43m,\u001b[49m\u001b[43m \u001b[49m\u001b[38;5;28;43mlen\u001b[39;49m\u001b[43m(\u001b[49m\u001b[43mdf\u001b[49m\u001b[43m)\u001b[49m\u001b[43m)\u001b[49m\n\u001b[0;32m      2\u001b[0m \u001b[38;5;28;01mfor\u001b[39;00m steiner, comp \u001b[38;5;129;01min\u001b[39;00m result:\n\u001b[0;32m      3\u001b[0m     \u001b[38;5;28mprint\u001b[39m(\u001b[38;5;28mlist\u001b[39m(steiner), \u001b[38;5;28mlist\u001b[39m(comp))\n",
      "Cell \u001b[1;32mIn[330], line 11\u001b[0m, in \u001b[0;36mdecompose_components\u001b[1;34m(components, edges, k, num_nodes)\u001b[0m\n\u001b[0;32m      9\u001b[0m \u001b[38;5;28;01mfor\u001b[39;00m component \u001b[38;5;129;01min\u001b[39;00m components:\n\u001b[0;32m     10\u001b[0m     steiners \u001b[38;5;241m=\u001b[39m s\u001b[38;5;241m.\u001b[39mcopy()\n\u001b[1;32m---> 11\u001b[0m     new_components\u001b[38;5;241m.\u001b[39mextend(\u001b[43msplit_component\u001b[49m\u001b[43m(\u001b[49m\u001b[43msteiners\u001b[49m\u001b[43m,\u001b[49m\u001b[43m \u001b[49m\u001b[43mcomponent\u001b[49m\u001b[43m,\u001b[49m\u001b[43m \u001b[49m\u001b[43mk\u001b[49m\u001b[43m,\u001b[49m\u001b[43m \u001b[49m\u001b[43mstart_pos\u001b[49m\u001b[43m,\u001b[49m\u001b[43m \u001b[49m\u001b[43mneighbors\u001b[49m\u001b[43m,\u001b[49m\u001b[43m \u001b[49m\u001b[43mmessages_still_pending\u001b[49m\u001b[43m,\u001b[49m\u001b[43m \u001b[49m\u001b[43msub_tree_size\u001b[49m\u001b[43m)\u001b[49m)\n\u001b[0;32m     12\u001b[0m \u001b[38;5;28;01mreturn\u001b[39;00m new_components\n",
      "Cell \u001b[1;32mIn[330], line 26\u001b[0m, in \u001b[0;36msplit_component\u001b[1;34m(steiners, component, k, start_pos, neighbors, messages_still_pending, sub_tree_size)\u001b[0m\n\u001b[0;32m     24\u001b[0m \u001b[38;5;28;01mif\u001b[39;00m degree_pivot\u001b[38;5;241m==\u001b[39m\u001b[38;5;241m1\u001b[39m:\n\u001b[0;32m     25\u001b[0m     \u001b[38;5;28;01mcontinue\u001b[39;00m\n\u001b[1;32m---> 26\u001b[0m sub_tree_sizes \u001b[38;5;241m=\u001b[39m \u001b[43mhang_tree\u001b[49m\u001b[43m(\u001b[49m\u001b[43mpivot\u001b[49m\u001b[43m,\u001b[49m\u001b[43m \u001b[49m\u001b[43mcomponent\u001b[49m\u001b[43m,\u001b[49m\u001b[43m \u001b[49m\u001b[43mstart_pos\u001b[49m\u001b[43m,\u001b[49m\u001b[43m \u001b[49m\u001b[43mneighbors\u001b[49m\u001b[43m,\u001b[49m\u001b[43m \u001b[49m\u001b[43mmessages_still_pending\u001b[49m\u001b[43m,\u001b[49m\u001b[43m \u001b[49m\u001b[43msub_tree_size\u001b[49m\u001b[43m)\u001b[49m\n\u001b[0;32m     27\u001b[0m j \u001b[38;5;241m=\u001b[39m np\u001b[38;5;241m.\u001b[39margmax(sub_tree_sizes[:,\u001b[38;5;241m1\u001b[39m])\n\u001b[0;32m     28\u001b[0m v \u001b[38;5;241m=\u001b[39m sub_tree_sizes[j,\u001b[38;5;241m0\u001b[39m]\n",
      "Cell \u001b[1;32mIn[227], line 11\u001b[0m, in \u001b[0;36mhang_tree\u001b[1;34m(pivot, nodes, start_pos, neighbors, messages_still_pending, sub_tree_size)\u001b[0m\n\u001b[0;32m      9\u001b[0m \u001b[38;5;28;01mfor\u001b[39;00m node \u001b[38;5;129;01min\u001b[39;00m nodes:\n\u001b[0;32m     10\u001b[0m     sub_tree_size[node] \u001b[38;5;241m=\u001b[39m \u001b[38;5;241m1\u001b[39m\n\u001b[1;32m---> 11\u001b[0m     \u001b[38;5;28;01mif\u001b[39;00m \u001b[43mdegrees\u001b[49m[node]\u001b[38;5;241m!=\u001b[39m\u001b[38;5;241m1\u001b[39m:\n\u001b[0;32m     12\u001b[0m         \u001b[38;5;28;01mcontinue\u001b[39;00m\n\u001b[0;32m     13\u001b[0m     leaves[num_leaves]\u001b[38;5;241m=\u001b[39mnode\n",
      "\u001b[1;31mNameError\u001b[0m: name 'degrees' is not defined"
     ]
    }
   ],
   "source": [
    "\n"
   ]
  },
  {
   "cell_type": "code",
   "execution_count": null,
   "id": "eeafdbbe-58a7-4b20-82d2-e020bc0decd6",
   "metadata": {},
   "outputs": [],
   "source": []
  }
 ],
 "metadata": {
  "kernelspec": {
   "display_name": "Python 3 (ipykernel)",
   "language": "python",
   "name": "python3"
  },
  "language_info": {
   "codemirror_mode": {
    "name": "ipython",
    "version": 3
   },
   "file_extension": ".py",
   "mimetype": "text/x-python",
   "name": "python",
   "nbconvert_exporter": "python",
   "pygments_lexer": "ipython3",
   "version": "3.10.11"
  }
 },
 "nbformat": 4,
 "nbformat_minor": 5
}
