{
 "cells": [
  {
   "cell_type": "code",
   "execution_count": 1,
   "id": "8a8c50a6-9f16-4b49-986f-9ca28a393752",
   "metadata": {},
   "outputs": [],
   "source": [
    "import numpy as np"
   ]
  },
  {
   "cell_type": "code",
   "execution_count": 4,
   "id": "aef0b522-5514-4464-9b2b-c7a6bed7f1ab",
   "metadata": {},
   "outputs": [],
   "source": [
    "def compute_dists(arr):\n",
    "    n, d = arr.shape\n",
    "    dist = np.ones(n,n,dtype=np.float64)\n",
    "    for i in range(n):\n",
    "        for j in range(i+1, n):\n",
    "            d = np.sum(np.square(arr[i,:]-arr[j,:]))\n",
    "            dist[i,j]=d\n",
    "            dist[j,i]=d\n",
    "    return dist"
   ]
  },
  {
   "cell_type": "code",
   "execution_count": 5,
   "id": "1623249e-93bd-4089-8778-6646f64948cf",
   "metadata": {},
   "outputs": [],
   "source": [
    "def get_k_closest(dist, k):\n",
    "    partition = np.partition(dist,k, axis=1)\n",
    "    return partition[:,:k]"
   ]
  },
  {
   "cell_type": "code",
   "execution_count": 74,
   "id": "f17528b3-3a0b-4b24-a8e4-9e80f92b68f0",
   "metadata": {},
   "outputs": [],
   "source": [
    "from numba.typed import List\n",
    "def forest(closest_neighbors):\n",
    "    n = closest_neighbors.shape[0]\n",
    "    k = closest_neighbors.shape[1]\n",
    "\n",
    "    edges = np.empty((n,2), dtype=np.int64)\n",
    "    current_tree = np.empty(n, dtype=np.int64)\n",
    "    current_size = 0\n",
    "\n",
    "    partition = np.full(n, -1, dtype=np.int64)\n",
    "    components = List()\n",
    "    num_edges = 0\n",
    "    \n",
    "    order = np.random.permutation(n)\n",
    "    for v in order:\n",
    "        if partition[v]>=0:\n",
    "            continue\n",
    "        current_tree[0] = v\n",
    "        current_size = 1\n",
    "        partition[v] = len(components)\n",
    "        other_partition = -1\n",
    "        while current_size < k:\n",
    "            for neigh in closest_neighbors[v]: # this may be randomized as well\n",
    "                if partition[neigh]==len(components):\n",
    "                    continue\n",
    "                edges[num_edges,0] = v\n",
    "                edges[num_edges,1] = neigh\n",
    "                num_edges+=1\n",
    "                if partition[neigh]>=0:\n",
    "                    other_partition = partition[neigh]\n",
    "                    break\n",
    "                current_tree[current_size]=neigh\n",
    "                current_size+=1\n",
    "                v = neigh\n",
    "                partition[v]=len(components)\n",
    "                \n",
    "            if other_partition!=-1:\n",
    "                break\n",
    "        if other_partition == -1:\n",
    "            components.append(current_tree[0:current_size].copy())\n",
    "        else:\n",
    "            for node in current_tree[0:current_size]:\n",
    "                occupied = other_partition\n",
    "    return partition, components, edges[:num_edges,:]"
   ]
  },
  {
   "cell_type": "code",
   "execution_count": 75,
   "id": "ffd00764-29f0-4ab6-968f-7793bba2bd49",
   "metadata": {},
   "outputs": [],
   "source": [
    "closest_neighbors = np.array([[1,2], [2,0], [1,0], [4,5],[5,3],[3,4]], dtype=np.int64)"
   ]
  },
  {
   "cell_type": "code",
   "execution_count": 76,
   "id": "63a89514-b4db-4bc3-99d0-d1a3b13075a4",
   "metadata": {},
   "outputs": [
    {
     "data": {
      "text/plain": [
       "(array([1, 1, 1, 0, 0, 0]),\n",
       " ListType[array(int64, 1d, C)]([[4 5 3], [1 2 0], ...]),\n",
       " array([[4, 5],\n",
       "        [5, 3],\n",
       "        [1, 2],\n",
       "        [2, 0]]))"
      ]
     },
     "execution_count": 76,
     "metadata": {},
     "output_type": "execute_result"
    }
   ],
   "source": [
    "np.random.seed(2)\n",
    "forest(closest_neighbors)"
   ]
  },
  {
   "cell_type": "code",
   "execution_count": 77,
   "id": "4d45850d-4ab9-4271-b2df-8da5ab783c2b",
   "metadata": {},
   "outputs": [
    {
     "data": {
      "text/plain": [
       "(array([0, 0, 0, 1, 1, 1]),\n",
       " ListType[array(int64, 1d, C)]([[2 1 0], [4 5 3], ...]),\n",
       " array([[2, 1],\n",
       "        [1, 0],\n",
       "        [4, 5],\n",
       "        [5, 3]]))"
      ]
     },
     "execution_count": 77,
     "metadata": {},
     "output_type": "execute_result"
    }
   ],
   "source": [
    "np.random.seed(1)\n",
    "forest(closest_neighbors)"
   ]
  },
  {
   "cell_type": "code",
   "execution_count": null,
   "id": "add707ed-86ed-42f8-b533-2197c0c4a8ef",
   "metadata": {},
   "outputs": [],
   "source": [
    "def decompose_components(components, edges):\n",
    "    for component in components:\n",
    "\n",
    "\n",
    "def split_component(component, degrees, k):\n",
    "    if len(component) <= max(2*k-1, 3*k-5):\n",
    "        l = List()\n",
    "        l.append(component)\n",
    "        return l\n",
    "    for u in component:\n",
    "        if degrees[u] == 1:\n",
    "            continue\n",
    "        \n"
   ]
  },
  {
   "cell_type": "code",
   "execution_count": null,
   "id": "74251c4f-9ed4-4461-9fa7-1220517c2c9e",
   "metadata": {},
   "outputs": [],
   "source": []
  }
 ],
 "metadata": {
  "kernelspec": {
   "display_name": "Python 3 (ipykernel)",
   "language": "python",
   "name": "python3"
  },
  "language_info": {
   "codemirror_mode": {
    "name": "ipython",
    "version": 3
   },
   "file_extension": ".py",
   "mimetype": "text/x-python",
   "name": "python",
   "nbconvert_exporter": "python",
   "pygments_lexer": "ipython3",
   "version": "3.10.11"
  }
 },
 "nbformat": 4,
 "nbformat_minor": 5
}
