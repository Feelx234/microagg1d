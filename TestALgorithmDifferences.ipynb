{
 "cells": [
  {
   "cell_type": "code",
   "execution_count": 1,
   "id": "d2e74910-42d5-4b37-9437-53b09ba9c9f1",
   "metadata": {
    "tags": []
   },
   "outputs": [],
   "source": [
    "from microagg1d.wilber import Wilber\n",
    "import numpy as np\n",
    "from numba import njit\n",
    "from numba.experimental import jitclass"
   ]
  },
  {
   "cell_type": "code",
   "execution_count": 2,
   "id": "57f6c35f-5a89-43c2-8e6e-7a566702b0c3",
   "metadata": {
    "tags": []
   },
   "outputs": [],
   "source": [
    "from microagg1d.wilber import *\n",
    "from fast1dkmeans.regularized_kmeans import _smawk_iter"
   ]
  },
  {
   "cell_type": "code",
   "execution_count": 3,
   "id": "a5a614bb-780e-400b-a0b4-57f6a6f2c447",
   "metadata": {
    "tags": []
   },
   "outputs": [],
   "source": [
    "@njit()\n",
    "def reduce_iter(rows, cols, calculator, next_cols):\n",
    "    # https://courses.engr.illinois.edu/cs473/sp2016/notes/06-sparsedynprog.pdf\n",
    "\n",
    "    m = len(rows)\n",
    "    next_cols[0]=cols[0]\n",
    "    stack_size = 0\n",
    "    for k in cols:\n",
    "        if k != next_cols[stack_size]:\n",
    "            while stack_size >= 0:\n",
    "                if rows[stack_size] < next_cols[stack_size]:\n",
    "                    print(\"reduce1\")\n",
    "                if rows[stack_size] < k:\n",
    "                    print(\"reduce2\", rows[stack_size] - k, rows[stack_size], k, rows, cols)\n",
    "                if calculator.calc(rows[stack_size], next_cols[stack_size]) > calculator.calc(rows[stack_size], k):\n",
    "                    stack_size-=1\n",
    "                else:\n",
    "                    break\n",
    "        if stack_size < m-1:\n",
    "            stack_size+=1\n",
    "            next_cols[stack_size]=k\n",
    "    return stack_size+1\n",
    "\n",
    "\n",
    "@njit()\n",
    "def interpolate(rows, cols, calculator, result):\n",
    "    curr=0\n",
    "    for i in range(2, len(rows), 2):\n",
    "        start_col = result[rows[i-1]]\n",
    "        if i+1 < len(rows):\n",
    "            stop_col = result[rows[i+1]]\n",
    "        else:\n",
    "            stop_col = cols[len(cols)-1]\n",
    "        while cols[curr] < start_col:\n",
    "            curr+=1\n",
    "        best = curr\n",
    "        best_val = calculator.calc(rows[i], cols[best])\n",
    "        if rows[i] < cols[best]:\n",
    "            print(\"interpolate1\")\n",
    "        while cols[curr] < stop_col:\n",
    "            tmp = calculator.calc(rows[i], cols[curr+1])\n",
    "            if rows[i] < cols[curr+1]:\n",
    "                print(\"interpolate2\")\n",
    "            if best_val > tmp:\n",
    "                best = curr+1\n",
    "                best_val = tmp\n",
    "\n",
    "            curr+=1\n",
    "        result[rows[i]]=cols[best]\n",
    "\n",
    "@njit\n",
    "def calc_max_col_space(n_rows, n_cols):\n",
    "    max_cols = n_cols\n",
    "    depth=0\n",
    "    col_starts = [0, n_cols]\n",
    "    while True:\n",
    "        row_step_size = 2**depth\n",
    "        n_cols_this_depth = min(n_rows//row_step_size, n_cols)\n",
    "        max_cols+=n_cols_this_depth\n",
    "        col_starts.append(max_cols)\n",
    "        depth+=1\n",
    "        if n_cols_this_depth == 0:\n",
    "            break\n",
    "    return np.array(col_starts), depth\n",
    "\n",
    "@njit()\n",
    "def _smawk_iter(rows_in, cols_in, calculator, result):\n",
    "    col_starts, max_depth = calc_max_col_space(len(rows_in), len(cols_in))\n",
    "    col_ends = col_starts[1:].copy()\n",
    "    #col_buffer= np.empty(col_starts[-1], dtype=cols_in.dtype)\n",
    "    col_buffer= - np.ones(col_starts[-1], dtype=cols_in.dtype)\n",
    "    col_buffer[:len(cols_in)]=cols_in\n",
    "    #print(col_starts)\n",
    "    #print(col_buffer)\n",
    "    #print(max_depth)\n",
    "\n",
    "    depth = 0\n",
    "    for depth in range(0, max_depth):\n",
    "        step_size = 2**depth\n",
    "        rows = rows_in[step_size-1::step_size]\n",
    "        cols = col_buffer[col_starts[depth]:col_ends[depth]]\n",
    "        #print(depth, rows, cols)\n",
    "\n",
    "        if len(rows)==0:\n",
    "            break\n",
    "        if len(cols)==1:\n",
    "            for r in rows:\n",
    "                result[r]=cols[0]\n",
    "            break\n",
    "        S = col_buffer[col_starts[depth+1]:col_ends[depth+1]]\n",
    "        #print(S)\n",
    "        col_ends[depth+1] = col_starts[depth+1]+reduce_iter(rows, cols, calculator, S)\n",
    "\n",
    "        _cols = col_buffer[col_starts[depth+1]:col_ends[depth+1]]\n",
    "        #print(_cols)\n",
    "        #print()\n",
    "        result[rows[0]]=_cols[0]\n",
    "    #print(col_buffer)\n",
    "    #print(\"fill\")\n",
    "    for depth in range(max_depth, -1, -1):\n",
    "        step_size = 2**depth\n",
    "        rows = rows_in[step_size-1::step_size]\n",
    "        #print(rows)\n",
    "        if len(rows)==0:\n",
    "            continue\n",
    "        _cols = col_buffer[col_starts[depth+1]:col_ends[depth+1]]\n",
    "        #print(cols, \"\\n\")\n",
    "        if len(rows)>2:\n",
    "            interpolate(rows, _cols, calculator, result)\n",
    "    #print(result)"
   ]
  },
  {
   "cell_type": "code",
   "execution_count": 4,
   "id": "d577e250-c8db-4b03-8a86-ceacf297b4bc",
   "metadata": {
    "tags": []
   },
   "outputs": [],
   "source": [
    "@njit()\n",
    "def __Wilber(n, wil_calculator):\n",
    "    \"\"\"Solves Univariate Microaggregation problem in O(n)\n",
    "    this is an implementation of the proposed algorithm\n",
    "    from \"The concave least weight subsequence problem revisited\" by Robert Wilber 1987\n",
    "    \"\"\"\n",
    "    print(\"Here\")\n",
    "    F = -np.ones(n, dtype=np.int32) #### TODO: CHANGE to empty\n",
    "    F_vals = wil_calculator.F_vals\n",
    "    H = -np.ones(n, dtype=np.int32) #### TODO: CHANGE to empty\n",
    "    H_vals = -np.ones(n+1, dtype=np.float64)\n",
    "    F_vals[0]=0\n",
    "    c = 0 # columns [0,c] have correct F_vals\n",
    "    r = 0 # rows [r,c] may contain column minima\n",
    "\n",
    "\n",
    "    while c < n:\n",
    "        p = min(2*c-r+1, n)\n",
    "        #print(\"p\", p)\n",
    "        #print(\"F_input\", r, c+1, c, p)\n",
    "        _smawk_iter(np.arange(c, p), np.arange(r, c+1), wil_calculator, F)\n",
    "        #print(\"F\", F)\n",
    "\n",
    "        for j in range(c, p):\n",
    "            assert j >= F[j]\n",
    "            F_vals[j+1] = wil_calculator.calc(j, F[j])\n",
    "        #print(\"F_val\", F_vals)\n",
    "        #print(\"H\", c+1, p, c+1,p)\n",
    "        \n",
    "        # calc values in triangular matrix assuming F_vals contain the coorect min vals\n",
    "        _smawk_iter(np.arange(c+1, p), np.arange(c+1, p), wil_calculator, H)\n",
    "        for j in range(c+1, p):\n",
    "            assert j >= H[j]\n",
    "            H_vals[j+1] = wil_calculator.calc(j, H[j])\n",
    "        #print(\"H_val\", H_vals)\n",
    "        #print(H)\n",
    "        #print(H_vals)\n",
    "        j0=p+1\n",
    "        for j in range(c+2, p+1):\n",
    "            #print(\"<< j\",j, H_vals[j], F_vals[j])\n",
    "            if H_vals[j] < F_vals[j]:\n",
    "                F[j-1] = H[j-1]\n",
    "                j0 = j\n",
    "                break\n",
    "        if j0==p+1: # we were right all along\n",
    "            # F_vals up to p (inclusive) are correct\n",
    "            r = F[p-1]\n",
    "            c = p\n",
    "        else: # our guessing strategy failed\n",
    "            F_vals[j0] = H_vals[j0]\n",
    "            r = c+1\n",
    "            c = j0\n",
    "        #print(F)\n",
    "        #print(F_vals)\n",
    "        #print()\n",
    "\n",
    "    return F\n",
    "\n",
    "\n",
    "@jitclass([('cumsum', float64[:]), ('cumsum2', float64[:]), ('k', int64), (\"F_vals\", float64[:]), (\"SMALL_VAL\", float64), (\"LARGE_VAL\", float64), (\"vals\", int64[:])])\n",
    "class MicroaggWilberCalculator:\n",
    "    \"\"\"An educational variant of the microagg calculator which keeps track of all the states visited in matrix G\"\"\"\n",
    "    def __init__(self, cumsum, cumsum2, k, F_vals):\n",
    "        self.cumsum = cumsum\n",
    "        self.cumsum2 = cumsum2\n",
    "        self.k = k\n",
    "        self.F_vals = F_vals\n",
    "        n = len(cumsum) - 1\n",
    "        self.SMALL_VAL = calc_objective_upper_inclusive(cumsum, cumsum2, 0, n-1)\n",
    "        self.LARGE_VAL = self.SMALL_VAL * (1 + n)\n",
    "        self.vals = np.zeros(4, dtype=np.int64)\n",
    "\n",
    "    def calc(self, j, i): # i <-> j interchanged is not a bug!\n",
    "        if j < i:\n",
    "            self.vals[0]+=1\n",
    "            return np.inf\n",
    "\n",
    "        if not (j+1 - i >= self.k):\n",
    "            self.vals[1]+=1\n",
    "            return self.SMALL_VAL * (len(self.cumsum)+ i)\n",
    "        if not (j+1 - i <= 2 * self.k - 1):\n",
    "            self.vals[2]+=1\n",
    "            return self.SMALL_VAL * (len(self.cumsum) - i)\n",
    "        self.vals[3]+=1\n",
    "        #print(i, j, calc_objective_upper_inclusive(self.cumsum, self.cumsum2, i, j) + self.F_vals[i] , self.F_vals[i])\n",
    "        return calc_objective_upper_inclusive(self.cumsum, self.cumsum2, i, j) + self.F_vals[i]\n",
    "\n",
    "@njit([(float64[:], int64)])\n",
    "def _Wilber(v, k):\n",
    "    n = len(v)\n",
    "    cumsum = calc_cumsum(v)\n",
    "    cumsum2 = calc_cumsum2(v)\n",
    "    wil_calculator = MicroaggWilberCalculator(cumsum, cumsum2, k, -np.ones(n+1, dtype=np.float64))\n",
    "\n",
    "    tmp= relabel_clusters_plus_one(__Wilber(n, wil_calculator))\n",
    "    \n",
    "    print(wil_calculator.vals)\n",
    "    return tmp\n",
    "\n",
    "def Wilber(arr, k : int):\n",
    "    \"\"\"Solves the REGULARIZED 1d kmeans problem in O(n)\n",
    "    this is an implementation of the proposed algorithm\n",
    "    from \"The concave least weight subsequence problem revisited\" by Robert Wilber 1987\n",
    "    \"\"\"\n",
    "\n",
    "    assert k > 0\n",
    "    assert k <= len(arr)\n",
    "    res = trivial_cases(len(arr), k)\n",
    "    if not res is None:\n",
    "        return res\n",
    "    return _Wilber(arr, k)"
   ]
  },
  {
   "cell_type": "code",
   "execution_count": 5,
   "id": "fc823d6c-5863-41b2-b867-d8d1a50de3c6",
   "metadata": {
    "tags": []
   },
   "outputs": [
    {
     "name": "stdout",
     "output_type": "stream",
     "text": [
      "Here\n",
      "[      0 1214903 1906802 5068325]\n",
      "[     0      0      1 ... 430862 430863 430863]\n"
     ]
    }
   ],
   "source": [
    "\n",
    "arr = np.arange(1000001, dtype=np.float64)\n",
    "result = Wilber(arr, 2)\n",
    "print(result)"
   ]
  },
  {
   "cell_type": "code",
   "execution_count": 6,
   "id": "d7563d2b-1cf4-4fec-9644-5fb3e674f8d5",
   "metadata": {},
   "outputs": [
    {
     "name": "stdout",
     "output_type": "stream",
     "text": [
      "Here\n",
      "[     0 133332 183331 516658]\n",
      "[    0     0     1 ... 49999 49999 49999]\n"
     ]
    }
   ],
   "source": [
    "arr = np.arange(100001, dtype=np.float64)\n",
    "result = Wilber(arr, 2)\n",
    "print(result)"
   ]
  },
  {
   "cell_type": "code",
   "execution_count": 7,
   "id": "e0cc60e4-d854-4db6-93ec-e28f95ca66df",
   "metadata": {
    "tags": []
   },
   "outputs": [],
   "source": [
    "from microagg1d.main import _simple_dynamic_program"
   ]
  },
  {
   "cell_type": "code",
   "execution_count": 8,
   "id": "2a72b381-8684-4b27-9689-741f4ca1a132",
   "metadata": {
    "tags": []
   },
   "outputs": [],
   "source": [
    "@njit([(float64[:], float64[:], int64, int64, bool_)], cache=USE_CACHE)\n",
    "def calc_objective_upper_inclusive(cumsum, cumsum2, i, j, val=False):\n",
    "    \"\"\"Compute the cluster cost of clustering points including both i and j\"\"\"\n",
    "    if j <= i:\n",
    "        return 0\n",
    "\n",
    "    #print(\"\\t\", cumsum[j + 1]-cumsum[i])\n",
    "    mu = (cumsum[j + 1]-cumsum[i])/(j + 1 - i)\n",
    "    result = cumsum2[j + 1] - cumsum2[i]\n",
    "    #print(\"\\t\", result)\n",
    "    result -= (2 * mu) * (cumsum[j + 1] - cumsum[i])\n",
    "    result += (j - i + 1) * (mu * mu)\n",
    "\n",
    "    return max(result, 0.0)"
   ]
  },
  {
   "cell_type": "code",
   "execution_count": 9,
   "id": "b3dc4bdf-c189-48dc-8f62-91c4297abe00",
   "metadata": {
    "tags": []
   },
   "outputs": [],
   "source": [
    "@njit([(float64[:], float64[:], float64[:], float64[:], int64, int64)], cache=USE_CACHE)\n",
    "def calc_objective_upper_inclusive_2(i_cumsum, i_cumsum2, j_cumsum, j_cumsum2,  i, j):\n",
    "    \"\"\"Compute the cluster cost of clustering points including both i and j\"\"\"\n",
    "    cell_size = len(i_cumsum)-1\n",
    "    val1 = j_cumsum[j + 1] + i_cumsum[cell_size] - i_cumsum[i]\n",
    "    #print(\"\\t\", val1)\n",
    "    mu = (val1)/(j + 1 + cell_size - i)\n",
    "    result = j_cumsum2[j + 1] + i_cumsum2[cell_size] - i_cumsum2[i]\n",
    "    #print(\"\\t\", result)\n",
    "    result -= (2 * mu) * val1\n",
    "    result += (j - i + 1+ cell_size) * (mu * mu)\n",
    "    #print(\"\\t\", result)\n",
    "    return max(result, 0.0)"
   ]
  },
  {
   "cell_type": "code",
   "execution_count": 39,
   "id": "c800c747-a382-4490-ae19-f51a3d3576a3",
   "metadata": {
    "tags": []
   },
   "outputs": [
    {
     "data": {
      "text/plain": [
       "array([ 1,  3,  6, 10])"
      ]
     },
     "execution_count": 39,
     "metadata": {},
     "output_type": "execute_result"
    }
   ],
   "source": [
    "np.cumsum(np.arange(1,5))"
   ]
  },
  {
   "cell_type": "code",
   "execution_count": 41,
   "id": "86868817-50d2-4af5-a46d-456f16a12351",
   "metadata": {
    "tags": []
   },
   "outputs": [
    {
     "data": {
      "text/plain": [
       "array([[0., 1., 3.],\n",
       "       [0., 3., 7.]])"
      ]
     },
     "execution_count": 41,
     "metadata": {},
     "output_type": "execute_result"
    }
   ],
   "source": [
    "calc_cumsum_cell(np.arange(1,5,dtype=np.float64), 2)"
   ]
  },
  {
   "cell_type": "code",
   "execution_count": 42,
   "id": "ae68cff5-6158-4fb3-88ce-07133eca6ca1",
   "metadata": {
    "tags": []
   },
   "outputs": [
    {
     "data": {
      "text/plain": [
       "array([[0, 1, 3],\n",
       "       [0, 3, 7]])"
      ]
     },
     "execution_count": 42,
     "metadata": {},
     "output_type": "execute_result"
    }
   ],
   "source": [
    "np.array([[0,1,3], [0, 3, 7]])"
   ]
  },
  {
   "cell_type": "code",
   "execution_count": 16,
   "id": "32c7f292-fccd-4c4c-9318-f51143bf0e99",
   "metadata": {
    "tags": []
   },
   "outputs": [],
   "source": [
    "@jitclass([('cumsum', float64[:]), ('cumsum2', float64[:])])\n",
    "class CumsumCalculator:\n",
    "    def __init__(self, v):\n",
    "        self.cumsum = calc_cumsum(v)\n",
    "        self.cumsum2 = calc_cumsum2(v)\n",
    "\n",
    "    def calc(self, i, j):\n",
    "        if i>476357-40:\n",
    "            print(j-i, i,j,calc_objective_upper_inclusive(self.cumsum, self.cumsum2, i, j,False))\n",
    "        return calc_objective_upper_inclusive(self.cumsum, self.cumsum2, i, j,True)\n",
    "\n",
    "\n",
    "    \n",
    "@njit([(float64[:],int64)])\n",
    "def calc_cumsum_cell(v, cell_size):\n",
    "    quotient, remainder = divmod(len(v), cell_size)\n",
    "    num_cells = quotient\n",
    "    if remainder!=0:\n",
    "        num_cells+=1\n",
    "    out = np.zeros((num_cells, cell_size+1), dtype=np.float64)\n",
    "\n",
    "    for i in range(quotient):\n",
    "        curr_out = out[i,:]\n",
    "        curr_out[0] = 0.0\n",
    "        offset = i*cell_size\n",
    "        for j in range(cell_size):\n",
    "            x = v[offset+j]\n",
    "            curr_out[j+1] = curr_out[j] + x\n",
    "    if remainder != 0:\n",
    "        i=quotient\n",
    "        curr_out = out[i,:]\n",
    "        curr_out[0] = 0.0\n",
    "        offset = i*cell_size\n",
    "        for j in range(remainder):\n",
    "            x = v[offset+j]\n",
    "            curr_out[j+1] = curr_out[j] + x\n",
    "    return out\n",
    "    \n",
    "@jitclass([('cumsum', float64[:,:]), ('cumsum2', float64[:,:]), ('cell_size', int64)])\n",
    "class StableCumsumCalculator:\n",
    "    def __init__(self, v, cell_size):\n",
    "        self.cumsum = calc_cumsum_cell(v, cell_size)\n",
    "        self.cumsum2 = calc_cumsum_cell(np.square(v), cell_size)\n",
    "        self.cell_size = cell_size\n",
    "\n",
    "    def calc(self, i, j):\n",
    "        if j==i:\n",
    "            return 0\n",
    "        assert j>i\n",
    "        assert j - i < 2 * self.cell_size\n",
    "\n",
    "    \n",
    "        cell_i, remainder_i = divmod(i, self.cell_size)\n",
    "        cell_j, remainder_j = divmod(j, self.cell_size)\n",
    "        if cell_i  == cell_j: # both are in one cell\n",
    "            return calc_objective_upper_inclusive(self.cumsum[cell_i,:], self.cumsum2[cell_i,:], remainder_i, remainder_j, False)\n",
    "        else:\n",
    "            return calc_objective_upper_inclusive_2(self.cumsum[cell_i,:], self.cumsum2[cell_i,:], self.cumsum[cell_j,:], self.cumsum2[cell_j,:], remainder_i, remainder_j)\n",
    "    \n",
    "@njit\n",
    "def compute_cluster_cost_sorted(v, clusters_sorted):\n",
    "    calculator = CumsumCalculator(v)\n",
    "    s = 0.0\n",
    "    i = 0\n",
    "    j = 1\n",
    "    while j < len(v):\n",
    "        while clusters_sorted[j]==clusters_sorted[i] and  j < len(v):\n",
    "            j+=1\n",
    "        s+=calculator.calc(i, j-1)\n",
    "        i=j\n",
    "        j=i+1\n",
    "    return s"
   ]
  },
  {
   "cell_type": "code",
   "execution_count": 38,
   "id": "b3939581-c1c9-4150-8903-11b689239202",
   "metadata": {
    "tags": []
   },
   "outputs": [
    {
     "data": {
      "text/plain": [
       "array([0, 0, 1, 1, 2, 2, 3, 3, 4, 4])"
      ]
     },
     "execution_count": 38,
     "metadata": {},
     "output_type": "execute_result"
    }
   ],
   "source": [
    "np.repeat(np.arange(5), 2)"
   ]
  },
  {
   "cell_type": "code",
   "execution_count": 17,
   "id": "3fee88ec-33c5-4f1a-97a5-e34aefd19dbd",
   "metadata": {
    "tags": []
   },
   "outputs": [],
   "source": [
    "@njit\n",
    "def test(a, b):\n",
    "    return divmod(a,b)"
   ]
  },
  {
   "cell_type": "code",
   "execution_count": 18,
   "id": "87e9a7f8-dec5-4ce7-b20b-7506016ac4e0",
   "metadata": {
    "tags": []
   },
   "outputs": [
    {
     "name": "stdout",
     "output_type": "stream",
     "text": [
      "[[ 0.  0.  1.  3.  6. 10.]\n",
      " [ 0.  5. 11. 18. 26. 35.]\n",
      " [ 0. 10. 21. 33.  0.  0.]]\n"
     ]
    }
   ],
   "source": [
    "with np.printoptions(linewidth=200, precision=3, suppress=True):\n",
    "    print(calc_cumsum_cell(np.arange(13, dtype=np.float64), 5))"
   ]
  },
  {
   "cell_type": "code",
   "execution_count": 19,
   "id": "14a681b5-d6fa-4f0f-b2bd-078c6e457e2b",
   "metadata": {
    "tags": []
   },
   "outputs": [
    {
     "name": "stdout",
     "output_type": "stream",
     "text": [
      "0.0\n",
      "0.5\n",
      "2.0\n",
      "5.0\n",
      "10.0\n",
      "17.5\n",
      "28.0\n",
      "42.0\n",
      "60.0\n",
      "82.5\n",
      "\n",
      "0.5\n",
      "2.0\n",
      "5.0\n",
      "10.0\n"
     ]
    }
   ],
   "source": [
    "c =  CumsumCalculator(np.arange(13, dtype=np.float64))\n",
    "for j in range(10):\n",
    "    print(c.calc(0,j))\n",
    "print()\n",
    "for j in range(6, 10):\n",
    "    print(c.calc(5,j))"
   ]
  },
  {
   "cell_type": "code",
   "execution_count": 20,
   "id": "c4a371b6-b10c-4453-9ad1-55ce3c987eed",
   "metadata": {
    "tags": []
   },
   "outputs": [],
   "source": [
    "s = StableCumsumCalculator(np.arange(13, dtype=np.float64), 5)\n",
    "\n"
   ]
  },
  {
   "cell_type": "code",
   "execution_count": 21,
   "id": "f052828e-5e09-4e9d-b0cc-9782b687b183",
   "metadata": {
    "tags": []
   },
   "outputs": [
    {
     "name": "stdout",
     "output_type": "stream",
     "text": [
      "0.5\n",
      "2.0\n",
      "5.0\n",
      "10.0\n"
     ]
    }
   ],
   "source": [
    "for j in range(6, 10):\n",
    "    print(s.calc(5,j))"
   ]
  },
  {
   "cell_type": "code",
   "execution_count": 22,
   "id": "f31d8546-6311-4cdb-ac94-3693e0c9e097",
   "metadata": {
    "tags": []
   },
   "outputs": [
    {
     "name": "stdout",
     "output_type": "stream",
     "text": [
      "0.0\n",
      "0.5\n",
      "2.0\n",
      "5.0\n",
      "10.0\n",
      "17.5\n",
      "28.0\n",
      "42.0\n",
      "60.0\n",
      "82.5\n"
     ]
    }
   ],
   "source": [
    "for j in range(10):\n",
    "    print(s.calc(0,j))"
   ]
  },
  {
   "cell_type": "code",
   "execution_count": 23,
   "id": "1bbb3f1f-387c-4bce-84d0-757961bbb48f",
   "metadata": {
    "tags": []
   },
   "outputs": [
    {
     "data": {
      "text/plain": [
       "array([[ 0.,  0.,  1.,  3.,  6., 10.],\n",
       "       [ 0.,  5., 11., 18., 26., 35.],\n",
       "       [ 0., 10., 21., 33.,  0.,  0.]])"
      ]
     },
     "execution_count": 23,
     "metadata": {},
     "output_type": "execute_result"
    }
   ],
   "source": [
    "s.cumsum"
   ]
  },
  {
   "cell_type": "code",
   "execution_count": 24,
   "id": "678a1800-adc3-4f31-9f27-40bcbad469c4",
   "metadata": {
    "tags": []
   },
   "outputs": [
    {
     "data": {
      "text/plain": [
       "array([[  0.,   0.,   1.,   5.,  14.,  30.],\n",
       "       [  0.,  25.,  61., 110., 174., 255.],\n",
       "       [  0., 100., 221., 365.,   0.,   0.]])"
      ]
     },
     "execution_count": 24,
     "metadata": {},
     "output_type": "execute_result"
    }
   ],
   "source": [
    "s.cumsum2"
   ]
  },
  {
   "cell_type": "code",
   "execution_count": 25,
   "id": "f96083bc-a95a-4d43-97bc-5846be724df3",
   "metadata": {
    "tags": []
   },
   "outputs": [],
   "source": [
    "@njit()\n",
    "def calc_num_clusters(result):\n",
    "    \"\"\"Compute the number of clusters encoded in results\n",
    "    Can be used on e.g. _optimal_univariate_microaggregation\n",
    "    \"\"\"\n",
    "    num_clusters = 0\n",
    "    curr_pos = len(result)-1\n",
    "    while result[curr_pos]>=0:\n",
    "        curr_pos = result[curr_pos]\n",
    "        num_clusters+=1\n",
    "    return num_clusters+1\n",
    "\n",
    "\n",
    "@njit()\n",
    "def relabel_clusters(result):\n",
    "    num_clusters = calc_num_clusters(result)-1\n",
    "\n",
    "    out = np.empty_like(result)\n",
    "    curr_pos = len(result)-1\n",
    "    while result[curr_pos]>=0:\n",
    "        out[result[curr_pos]:curr_pos+1] = num_clusters\n",
    "        curr_pos = result[curr_pos]\n",
    "        num_clusters-=1\n",
    "    out[0:curr_pos+1] = num_clusters\n",
    "    return out"
   ]
  },
  {
   "cell_type": "code",
   "execution_count": 26,
   "id": "04c400bb-40d2-4786-8efc-ebc8fa6a9a13",
   "metadata": {
    "tags": []
   },
   "outputs": [],
   "source": [
    "@njit()\n",
    "def _simple_dynamic_program(x, k):\n",
    "    n = len(x)\n",
    "    assert k > 0\n",
    "    if n//2 < k: # there can only be one cluster\n",
    "        return np.zeros(n, dtype=np.int64)\n",
    "    if k==1: # each node has its own cluster\n",
    "        return np.arange(n, dtype=np.int64)\n",
    "    calculator = StableCumsumCalculator(x, 2*k)\n",
    "\n",
    "\n",
    "    back_tracks =  np.zeros(n, dtype=np.int64)\n",
    "    min_vals = np.zeros(n)\n",
    "    for i in range(0, k-1):\n",
    "        min_vals[i] = np.inf\n",
    "        back_tracks[i]=-1\n",
    "    for i in range(k-1, 2*k-1):\n",
    "        min_vals[i] = calculator.calc(0,i)\n",
    "        back_tracks[i]=-1\n",
    "\n",
    "    for i in range(2*k-1, n):\n",
    "        #print(\"i\", i)\n",
    "        min_index = i-2*k+1\n",
    "        #print(\"min\", min_index)\n",
    "        prev_min_val = min_vals[min_index] + calculator.calc(min_index+1, i)\n",
    "        for j in range(i-2*k + 2, i-k+1):\n",
    "            #print(j, min_vals[j], prev_min_val)\n",
    "            new_val = min_vals[j] + calculator.calc(j+1, i)\n",
    "            if  new_val < prev_min_val:\n",
    "                min_index = j\n",
    "                prev_min_val = new_val\n",
    "        #print(\"result\", min_index, prev_min_val)\n",
    "\n",
    "        back_tracks[i] = min_index\n",
    "        min_vals[i] = prev_min_val\n",
    "        #print(back_tracks)\n",
    "    return relabel_clusters(back_tracks)"
   ]
  },
  {
   "cell_type": "code",
   "execution_count": 44,
   "id": "9617b809-f703-4bd0-b6d2-432b1d9686a3",
   "metadata": {},
   "outputs": [
    {
     "name": "stdout",
     "output_type": "stream",
     "text": [
      "[0 0 1 1 2 2 3 3 4 4] [249995 249995 249996 249996 249997 249997 249998 249998 249999 249999]\n"
     ]
    }
   ],
   "source": [
    "#arr = np.arange(476357+3, dtype=np.float64)\n",
    "arr = np.arange(500_000, dtype=np.float64)\n",
    "result = _simple_dynamic_program(arr, 2)\n",
    "print(result[:10], result[-10:])"
   ]
  },
  {
   "cell_type": "code",
   "execution_count": 31,
   "id": "c6d9f145-bbea-45b2-9aec-2c9cb4531ce1",
   "metadata": {
    "tags": []
   },
   "outputs": [],
   "source": [
    "#@njit([(float64[:],)])\n",
    "def cumsum2(v):\n",
    "    out = np.empty(len(v)+1, dtype=np.float64)\n",
    "    out[0]=0.0\n",
    "    out[1]=v[0]*v[0]\n",
    "    s = 1\n",
    "    for i in range(1, len(v)):\n",
    "        x = v[i]\n",
    "        s2 = s*s\n",
    "        out[i+1] = out[i]/s2 + x*x/s2\n",
    "        s+= x\n",
    "    return out"
   ]
  },
  {
   "cell_type": "code",
   "execution_count": 32,
   "id": "01618ca8-bb59-4a5d-a589-26e03fbd3828",
   "metadata": {
    "tags": []
   },
   "outputs": [
    {
     "name": "stdout",
     "output_type": "stream",
     "text": [
      "226899795600.0\n",
      "226900748281.0\n",
      "226901700964.0\n",
      "226902653649.0\n",
      "226903606336.0\n",
      "226904559025.0\n",
      "226905511716.0\n",
      "226906464409.0\n",
      "226907417104.0\n",
      "226908369801.0\n",
      "226909322500.0\n",
      "226910275201.0\n",
      "226911227904.0\n",
      "226912180609.0\n",
      "226913133316.0\n",
      "226914086025.0\n",
      "226915038736.0\n",
      "226915991449.0\n",
      "226916944164.0\n",
      "226917896881.0\n"
     ]
    }
   ],
   "source": [
    "tmp = np.square(np.arange(476357+3, dtype=np.float64))\n",
    "for i in tmp[-20:]:\n",
    "    print(i)"
   ]
  },
  {
   "cell_type": "code",
   "execution_count": 33,
   "id": "803eaa8b-f78b-4580-b263-faec87d0c7eb",
   "metadata": {
    "tags": []
   },
   "outputs": [
    {
     "name": "stdout",
     "output_type": "stream",
     "text": [
      "-7.401848599136923e-17 1.7629001313691914e-11\n",
      "-7.401801982339527e-17 1.7628927295205922e-11\n",
      "-7.401755365865249e-17 1.76288532771861e-11\n",
      "-7.401708749714087e-17 1.762877925963244e-11\n",
      "-7.401662134532278e-17 1.7628705242544943e-11\n",
      "-7.401615518381117e-17 1.7628631225923598e-11\n",
      "-7.40156890416866e-17 1.7628557209768414e-11\n",
      "-7.401522289309968e-17 1.7628483194079372e-11\n",
      "-7.401475675097512e-17 1.762840917885648e-11\n",
      "-7.401429061854407e-17 1.7628335164099728e-11\n",
      "-7.401382447965068e-17 1.762826114980911e-11\n",
      "-7.401335835368198e-17 1.762818713598463e-11\n",
      "-7.401289222771328e-17 1.7628113122626276e-11\n",
      "-7.401242610497576e-17 1.762803910973405e-11\n",
      "-7.401195998870059e-17 1.7627965097307944e-11\n",
      "-7.401149387242542e-17 1.7627891085347955e-11\n",
      "-7.401102776261259e-17 1.7627817073854082e-11\n",
      "-7.401056165926211e-17 1.762774306282632e-11\n",
      "-7.401009555591164e-17 1.762766905226466e-11\n"
     ]
    }
   ],
   "source": [
    "tmp = cumsum2(np.arange(476357+3, dtype=np.float64))\n",
    "for i,j in zip(np.diff(tmp[-20:]), tmp[-20:]):\n",
    "    print(i, j)"
   ]
  },
  {
   "cell_type": "code",
   "execution_count": 34,
   "id": "2e3fb45d-a338-4307-9881-873d018471a8",
   "metadata": {
    "tags": []
   },
   "outputs": [],
   "source": [
    "for i, x in enumerate(tmp):\n",
    "    if x  > 2**53:\n",
    "        print(i, x)\n",
    "        break"
   ]
  },
  {
   "cell_type": "code",
   "execution_count": 35,
   "id": "1fd021bc-36ca-46f6-a0b6-bfedd6fe8188",
   "metadata": {
    "tags": []
   },
   "outputs": [
    {
     "data": {
      "text/plain": [
       "False"
      ]
     },
     "execution_count": 35,
     "metadata": {},
     "output_type": "execute_result"
    }
   ],
   "source": [
    "3.602726299525706e+16 < 2**53"
   ]
  },
  {
   "cell_type": "code",
   "execution_count": 36,
   "id": "96a45709-7c89-42f6-bb52-64c6f85d6538",
   "metadata": {
    "tags": []
   },
   "outputs": [
    {
     "name": "stdout",
     "output_type": "stream",
     "text": [
      "226900748280.0\n",
      "226901700964.0\n",
      "226902653648.0\n",
      "226903606336.0\n",
      "226904559024.0\n",
      "226905511716.0\n",
      "226906464412.0\n",
      "226907417104.0\n",
      "226908369800.0\n",
      "226909322504.0\n",
      "226910275200.0\n",
      "226911227904.0\n",
      "226912180608.0\n",
      "226913133312.0\n",
      "226914086024.0\n",
      "226915038736.0\n",
      "226915991448.0\n",
      "226916944160.0\n",
      "226917896880.0\n"
     ]
    }
   ],
   "source": [
    "c = CumsumCalculator(np.arange(476357+3, dtype=np.float64))\n",
    "for i in np.diff(c.cumsum2[-20:]):\n",
    "    print(i)"
   ]
  },
  {
   "cell_type": "code",
   "execution_count": 37,
   "id": "ca5657ee-6ed4-4ce1-b398-fbbdc76f3168",
   "metadata": {
    "tags": []
   },
   "outputs": [
    {
     "data": {
      "text/plain": [
       "array([3.60272630e+16, 3.60274899e+16, 3.60277168e+16, 3.60279437e+16,\n",
       "       3.60281706e+16, 3.60283975e+16, 3.60286244e+16, 3.60288513e+16,\n",
       "       3.60290782e+16, 3.60293051e+16, 3.60295320e+16, 3.60297590e+16,\n",
       "       3.60299859e+16, 3.60302128e+16, 3.60304397e+16, 3.60306666e+16,\n",
       "       3.60308935e+16, 3.60311204e+16, 3.60313474e+16, 3.60315743e+16])"
      ]
     },
     "execution_count": 37,
     "metadata": {},
     "output_type": "execute_result"
    }
   ],
   "source": [
    "c.cumsum2[-20:]"
   ]
  },
  {
   "cell_type": "code",
   "execution_count": null,
   "id": "c7cd274e-841a-4f88-8428-36971476c48c",
   "metadata": {
    "tags": []
   },
   "outputs": [],
   "source": []
  },
  {
   "cell_type": "code",
   "execution_count": null,
   "id": "16f9215e-1e2a-4ae7-83d4-1cb33860bdcb",
   "metadata": {
    "tags": []
   },
   "outputs": [],
   "source": [
    "2**53"
   ]
  },
  {
   "cell_type": "code",
   "execution_count": null,
   "id": "e591cc13-46a4-4e3d-8eb5-6bcf1a9b74b5",
   "metadata": {},
   "outputs": [],
   "source": [
    "2 476346 476348 5.0\n",
    "\t 1429041.0\n",
    "\t 680719393232.0\n",
    "\tmu 476347.0\n",
    "\t 5.0\n",
    "\t2*mu 1361438786454.0\n",
    "\t 680719393227.0"
   ]
  },
  {
   "cell_type": "code",
   "execution_count": null,
   "id": "1d3dc429-4a1c-416f-84e3-8df36d990a40",
   "metadata": {
    "tags": []
   },
   "outputs": [],
   "source": [
    "680719393232-1361438786454 + 3*476347*476347"
   ]
  },
  {
   "cell_type": "code",
   "execution_count": null,
   "id": "2a6feadc-fd75-487b-94a0-03b3f1fb7000",
   "metadata": {
    "tags": []
   },
   "outputs": [],
   "source": [
    "680719393232\n"
   ]
  },
  {
   "cell_type": "code",
   "execution_count": null,
   "id": "ebac893a-0fa5-40f5-9c77-1087cb329402",
   "metadata": {
    "tags": []
   },
   "outputs": [],
   "source": [
    "val = np.cumsum(np.square(np.arange(1000001, dtype=np.float64)))"
   ]
  },
  {
   "cell_type": "code",
   "execution_count": null,
   "id": "cb0cd9c0-7244-403c-854f-da8ebd985db2",
   "metadata": {},
   "outputs": [],
   "source": [
    "2 476348 476350 5.0\n",
    "\t 1429047.0\n",
    "\t 680725109408.0\n",
    "mu 476349.0\n",
    "-680725109398.0\n",
    "2*mu 1361450218806.0\n",
    "680725109403.0\n",
    "5.0"
   ]
  },
  {
   "cell_type": "code",
   "execution_count": null,
   "id": "aa6607ef-e170-423d-b08b-93ba41b074a9",
   "metadata": {
    "tags": []
   },
   "outputs": [],
   "source": [
    "3*476347*476347"
   ]
  },
  {
   "cell_type": "code",
   "execution_count": null,
   "id": "a429dc59-0b81-4682-8a94-44693687d202",
   "metadata": {
    "tags": []
   },
   "outputs": [],
   "source": [
    "val[-1]==val[-2]"
   ]
  },
  {
   "cell_type": "code",
   "execution_count": null,
   "id": "6ad6fa4c-5993-421a-860d-3c673e8a9ece",
   "metadata": {
    "tags": []
   },
   "outputs": [],
   "source": [
    "for i in range(1, len(result), 2):\n",
    "    if result[i]!=i//2:\n",
    "        print(i)\n",
    "        break"
   ]
  },
  {
   "cell_type": "code",
   "execution_count": null,
   "id": "102704b4-5df2-4797-8eed-57db98ebe234",
   "metadata": {
    "tags": []
   },
   "outputs": [],
   "source": [
    "result[476357-10: 476357+10]"
   ]
  },
  {
   "cell_type": "code",
   "execution_count": null,
   "id": "9ea62e0a-31c4-4690-8e7c-4b6be98d3fe6",
   "metadata": {
    "tags": []
   },
   "outputs": [],
   "source": [
    "v = np.arange(1_000_001, dtype=np.float64)\n",
    "cumsum = calc_cumsum(v)\n",
    "cumsum2 = calc_cumsum2(v)\n",
    "d=5\n",
    "for i in result[476357-d: 476357+d]:\n",
    "    for j in result[476357-d: 476357+d]:\n",
    "        res = calc_objective_upper_inclusive(cumsum, cumsum2, i, j) +0.5*238176\n",
    "        print(i, j, res)"
   ]
  },
  {
   "cell_type": "code",
   "execution_count": null,
   "id": "df8e894b-7a92-4245-a5b2-243ea040bb1b",
   "metadata": {},
   "outputs": [],
   "source": []
  }
 ],
 "metadata": {
  "kernelspec": {
   "display_name": "Python 3 (ipykernel)",
   "language": "python",
   "name": "python3"
  },
  "language_info": {
   "codemirror_mode": {
    "name": "ipython",
    "version": 3
   },
   "file_extension": ".py",
   "mimetype": "text/x-python",
   "name": "python",
   "nbconvert_exporter": "python",
   "pygments_lexer": "ipython3",
   "version": "3.10.10"
  }
 },
 "nbformat": 4,
 "nbformat_minor": 5
}
