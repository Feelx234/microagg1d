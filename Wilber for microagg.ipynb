{
 "cells": [
  {
   "cell_type": "code",
   "execution_count": null,
   "id": "5de795d8",
   "metadata": {},
   "outputs": [],
   "source": []
  },
  {
   "cell_type": "code",
   "execution_count": null,
   "id": "5cb7882f",
   "metadata": {},
   "outputs": [],
   "source": []
  },
  {
   "cell_type": "code",
   "execution_count": null,
   "id": "741f0dbb",
   "metadata": {},
   "outputs": [],
   "source": []
  },
  {
   "cell_type": "code",
   "execution_count": 3,
   "id": "99ea6901",
   "metadata": {},
   "outputs": [],
   "source": [
    "import numpy as np\n",
    "from numba.experimental import jitclass\n",
    "from numba import float64, int64\n",
    "from numba import njit\n",
    "from fast1dkmeans.smawk_iter import _smawk_iter\n",
    "\n",
    "from fast1dkmeans.common import calc_cumsum, calc_cumsum2, calc_objective, CumsumCalculator\n",
    "\n",
    "USE_CACHE=True\n",
    "\n",
    "@njit([(float64[:], float64[:], int64, int64)], cache=USE_CACHE)\n",
    "def calc_objective(cumsum, cumsum2, i, j):\n",
    "    if j <= i:\n",
    "        return 0.0\n",
    "#            raise ValueError(\"j should never be larger than i\")\n",
    "    mu = (cumsum[j]-cumsum[i])/(j-i)\n",
    "    result = cumsum2[j] - cumsum2[i]\n",
    "    result += (j - i) * (mu * mu)\n",
    "    result -= (2 * mu) * (cumsum[j] - cumsum[i])\n",
    "    return max(result, 0)\n",
    " \n",
    "\n",
    "\n",
    "@jitclass([('cumsum', float64[:]), ('cumsum2', float64[:]), ('lambda_', float64)])\n",
    "class LambdaCalculator:\n",
    "    def __init__(self, v, lambda_):\n",
    "        self.cumsum = calc_cumsum(v)\n",
    "        self.cumsum2 = calc_cumsum2(v)\n",
    "        self.lambda_ = lambda_\n",
    "\n",
    "    def calc(self, i, j):\n",
    "        return calc_objective(self.cumsum, self.cumsum2, i, j) + self.lambda_\n",
    "\n",
    "\n",
    "\n",
    "@jitclass([('cumsum', float64[:]), ('cumsum2', float64[:]), ('lambda_', float64), (\"F_vals\", float64[:])])\n",
    "class WilberCalculator:\n",
    "    def __init__(self, cumsum, cumsum2, lambda_, F_vals):\n",
    "        self.cumsum = cumsum\n",
    "        self.cumsum2 = cumsum2\n",
    "        self.lambda_ = lambda_\n",
    "        self.F_vals = F_vals\n",
    "\n",
    "    def calc(self, j, i): # i <-> j interchanged is not a bug!\n",
    "        if j<i:\n",
    "            #print(i, j, np.inf)\n",
    "            return np.inf\n",
    "        #print(i, j, self.calculator.calc(i, j) + self.F_vals[i])\n",
    "        return calc_objective(self.cumsum, self.cumsum2, i, j) + self.lambda_ + self.F_vals[i]\n",
    "\n",
    "\n",
    "\n",
    "\n",
    "\n",
    "\n",
    "\n",
    "\n",
    "\n",
    "\n",
    "\n",
    "\n",
    "@njit([(float64[:], float64)], cache=USE_CACHE)\n",
    "def create_lambda_calculator(arr, lambda_): # pragma: no cover\n",
    "    calculator = LambdaCalculator(arr, lambda_)\n",
    "    print(calculator.calc(0,1))\n",
    "\n",
    "\n",
    "\n",
    "@njit([(float64[:], float64)], cache=USE_CACHE)\n",
    "def create_wilber_calculator(arr, lambda_): # pragma: no cover\n",
    "    calculator = WilberCalculator(arr, arr, lambda_, arr)\n",
    "    print(calculator.calc(0,1))\n",
    "\n",
    "\n",
    "\n",
    "@jitclass([('cumsum', float64[:]), ('cumsum2', float64[:]), ('lambda_', int64), (\"F_vals\", float64[:])])\n",
    "class WilberCalculator2:\n",
    "    def __init__(self, cumsum, cumsum2, k, F_vals):\n",
    "        self.cumsum = cumsum\n",
    "        self.cumsum2 = cumsum2\n",
    "        self.k = k\n",
    "        self.F_vals = F_vals\n",
    "\n",
    "    def calc(self, j, i): # i <-> j interchanged is not a bug!\n",
    "        if j<i:\n",
    "            print(\"\\t\", i, j, \"inf\")\n",
    "            return np.inf\n",
    "        print(\"\\t\", j, i, calc_objective(self.cumsum, self.cumsum2, i, j) + self.lambda_ + self.F_vals[i])\n",
    "        if j - i < k:\n",
    "            return np.inf\n",
    "        if j -i > 2*k -1:\n",
    "            return \n",
    "        return calc_objective(self.cumsum, self.cumsum2, i, j) + self.F_vals[i]\n",
    "\n",
    "\n",
    "@njit([(int64, float64[:], float64[:], float64)], cache=USE_CACHE)\n",
    "def __Wilber(n, cumsum, cumsum2, lambda_):\n",
    "    \"\"\"Solves the REGULARIZED 1d kmeans problem in O(n)\n",
    "    this is an implementation of the proposed algorithm\n",
    "    from \"The concave least weight subsequence problem revisited\" by Robert Wilber 1987\n",
    "    \"\"\"\n",
    "    F = np.empty(n, dtype=np.int32)\n",
    "    F_vals = np.empty(n+1, dtype=np.float64)\n",
    "    H = np.empty(n, dtype=np.int32)\n",
    "    H_vals = np.empty(n+1, dtype=np.float64)\n",
    "    F_vals[0]=0\n",
    "    F[0]=100000 # never acessed\n",
    "    c = 0\n",
    "    r = 0\n",
    "    wil_calculator = WilberCalculator(cumsum, cumsum2, lambda_, F_vals)\n",
    "    while c < n:\n",
    "        p = min(2*c-r+1, n)\n",
    "        #print(\"p\", p)\n",
    "        #print(\"F_input\", r, c+1, c, p)\n",
    "        _smawk_iter(np.arange(c, p), np.arange(r, c+1), wil_calculator, F)\n",
    "        #print(\"F\", F)\n",
    "\n",
    "        for j in range(c, p):\n",
    "            F_vals[j+1] = wil_calculator.calc(j, F[j])\n",
    "        #print(\"F_val\", F_vals)\n",
    "        #print(\"H\", c+1, p, c+1,p)\n",
    "        _smawk_iter(np.arange(c+1, p), np.arange(c+1, p), wil_calculator, H)\n",
    "        for j in range(c+1, p):\n",
    "            H_vals[j+1] = wil_calculator.calc(j, H[j])\n",
    "        #print(\"H_val\", H_vals)\n",
    "        #print()\n",
    "        j0=p+1\n",
    "        for j in range(c+2, p+1):\n",
    "            #print(\"<< j\",j, H_vals[j], F_vals[j])\n",
    "            if H_vals[j] < F_vals[j]:\n",
    "                F[j-1] = H[j-1]\n",
    "                j0 = j\n",
    "                break\n",
    "        if j0==p+1:\n",
    "            c = p\n",
    "        else:\n",
    "            #raise ValueError()\n",
    "            #print(\">>>>>>j0\", j0)\n",
    "            F_vals[j0] = H_vals[j0]\n",
    "            r = c+1\n",
    "            c=j0\n",
    "    return F#relabel(F)\n",
    "\n",
    "@njit([(int64, float64[:], float64)], cache=USE_CACHE)\n",
    "def _Wilber(n, v, lambda_):\n",
    "    cumsum = calc_cumsum(v)\n",
    "    cumsum2 = calc_cumsum2(v)\n",
    "    return __Wilber(n, cumsum, cumsum2, lambda_)\n",
    "\n",
    "\n",
    "\n",
    "def Wilber(arr, lambda_):\n",
    "    \"\"\"Solves the REGULARIZED 1d kmeans problem in O(n)\n",
    "    this is an implementation of the proposed algorithm\n",
    "    from \"The concave least weight subsequence problem revisited\" by Robert Wilber 1987\n",
    "    \"\"\"\n",
    "    n = len(arr)\n",
    "    #calculator = _create_calculator(arr, lambda_)\n",
    "    return _Wilber(n, arr, lambda_)\n",
    "\n",
    "\n",
    "\n",
    "\n",
    "\n",
    "@njit([(int64, float64[:], float64)], cache=USE_CACHE)\n",
    "def _conventional_algorithm(n, vals, lambda_):\n",
    "    \"\"\"Solves the REGULARIZED 1d kmeans problem in O(n^2)\n",
    "    this is an implementation of the conventional algorithm\n",
    "    from \"The concave least weight subsequence problem revisited\" by Robert Wilber 1987\n",
    "    \"\"\"\n",
    "    calculator = LambdaCalculator(vals, lambda_)\n",
    "    g = np.zeros((n,n))\n",
    "    F_val = np.zeros(n+1)\n",
    "    F_val[0]=0\n",
    "    F = np.zeros(n, dtype=np.int32)\n",
    "    for j in range(1,n+1):\n",
    "        for i in range(j):\n",
    "            #print(i, j-1, calculator.calc(i, j-1))\n",
    "            g[i,j-1] = F_val[i]+calculator.calc(i, j-1)\n",
    "        F[j-1] = np.argmin(g[:j,j-1])\n",
    "        F_val[j] = g[F[j-1],j-1]\n",
    "\n",
    "    return F, g\n",
    "\n",
    "\n",
    "\n",
    "\n",
    "\n",
    "@njit(cache=USE_CACHE)\n",
    "def calc_cluster_cost_implicit(result, cumsum, cumsum2):\n",
    "    \"\"\"Compute the number of clusters encoded in results\n",
    "    Can be used on e.g. the result of _conventional_algorithm, Weber\n",
    "    \"\"\"\n",
    "    cost = 0\n",
    "    curr_pos = len(result)-1\n",
    "    while result[curr_pos]>0:\n",
    "        cost+=calc_objective(cumsum, cumsum2, result[curr_pos], curr_pos)\n",
    "        curr_pos = result[curr_pos]-1\n",
    "    cost+=calc_objective(cumsum, cumsum2, 0, curr_pos)\n",
    "    return cost\n",
    "\n",
    "\n",
    "\n",
    "\n",
    "\n",
    "\n",
    "@njit(cache=USE_CACHE)\n",
    "def binary_search(v, k, max_iter=200, epsilon=1e-10, method = 0):\n",
    "    \"\"\"Compute the optimal k-means clustering for sorted v\n",
    "    This function implements the algorithm proposed in\n",
    "        \"Fast Exact k-Means, k-Medians and Bregman Divergence Clustering in 1D\"\n",
    "            by Gronlund et al.\n",
    "\n",
    "    \"\"\"\n",
    "    assert method in (0,1)\n",
    "    if len(v)==k:\n",
    "        return np.arange(len(v), dtype=np.int32)\n",
    "\n",
    "    n = len(v)\n",
    "    calculator = CumsumCalculator(v)\n",
    "    #print(calculator.cumsum)\n",
    "    #print(calculator.cumsum2)\n",
    "    l_low = 0\n",
    "    k_low = n\n",
    "    c_low = 0\n",
    "\n",
    "    l_high = calculator.calc(0, len(v)-1)\n",
    "    k_high = 1\n",
    "    c_high = l_high\n",
    "\n",
    "\n",
    "    for _ in range(max_iter):\n",
    "\n",
    "        lambda_mid = (l_high + l_low)/2\n",
    "        if method == 1:\n",
    "            lambda_test = (c_high - c_low)/(k_low - k_high)\n",
    "            if lambda_test >= l_low and lambda_test <= l_high:\n",
    "                lambda_mid = lambda_test\n",
    "        #print(\"low\", k_low, l_low, c_low)\n",
    "        #print(\"high\", k_high, l_high, c_high)\n",
    "        result = __Wilber(n, calculator.cumsum, calculator.cumsum2, lambda_mid)\n",
    "        k_mid = calc_num_clusters(result)\n",
    "        #print(k_mid, lambda_mid, \"\\n\")\n",
    "        if k_mid == k:\n",
    "            if l_high - l_low < epsilon:\n",
    "                break\n",
    "            l_high =lambda_mid\n",
    "            k_high = k_mid\n",
    "        elif k_mid < k:\n",
    "            # to few clusters, need to decrease lambda\n",
    "            l_high =lambda_mid\n",
    "            k_high = k_mid\n",
    "            if method==1:\n",
    "                c_high = calc_cluster_cost_implicit(result, calculator.cumsum, calculator.cumsum2)\n",
    "                #c_high2 = cost_of_clustering(v, relabel_clusters(result))\n",
    "        else:\n",
    "            # to many clusters, need to increase lambda\n",
    "            l_low =lambda_mid\n",
    "            k_low = k_mid\n",
    "            if method==1:\n",
    "                c_low = calc_cluster_cost_implicit(result, calculator.cumsum, calculator.cumsum2)\n",
    "                #c_low2 = cost_of_clustering(v, relabel_clusters(result))\n",
    "        #print()\n",
    "    return relabel_clusters(result)"
   ]
  },
  {
   "cell_type": "code",
   "execution_count": 200,
   "id": "55d05ee1",
   "metadata": {},
   "outputs": [],
   "source": [
    "def conventional_algorithm(vals, lambda_):\n",
    "    \"\"\"Solves the REGULARIZED 1d kmeans problem in O(n^2)\n",
    "    this is an implementation of the conventional algorithm\n",
    "    from \"The concave least weight subsequence problem revisited\" by Robert Wilber 1987\n",
    "    \"\"\"\n",
    "    n = len(vals)\n",
    "    F, g = _conventional_algorithm(n, vals, lambda_) #pylint: disable=unused-variable\n",
    "    with np.printoptions(linewidth=200, precision=3, suppress=True):\n",
    "        pass\n",
    "        print(g[:, 1:])\n",
    "    return F"
   ]
  },
  {
   "cell_type": "code",
   "execution_count": null,
   "id": "2bc5c40c-da85-40ee-b023-abaee0c2775c",
   "metadata": {
    "tags": []
   },
   "outputs": [],
   "source": []
  },
  {
   "cell_type": "code",
   "execution_count": null,
   "id": "20f813e9",
   "metadata": {},
   "outputs": [],
   "source": []
  },
  {
   "cell_type": "code",
   "execution_count": 201,
   "id": "56cbb5e9-6cd3-4ce7-91bb-a06cf0f2bfda",
   "metadata": {
    "tags": []
   },
   "outputs": [],
   "source": [
    "@njit([(float64[:], float64[:], int64, int64)], cache=False)\n",
    "def calc_objective(cumsum, cumsum2, i, j):\n",
    "    if j <= i:\n",
    "        return 0.0\n",
    "#            raise ValueError(\"j should never be larger than i\")\n",
    "    mu = (cumsum[j]-cumsum[i])/(j-i)\n",
    "    result = cumsum2[j] - cumsum2[i]\n",
    "    result += (j - i) * (mu * mu)\n",
    "    result -= (2 * mu) * (cumsum[j] - cumsum[i])\n",
    "    return max(result, 0)\n",
    "\n",
    "@jitclass([('cumsum', float64[:]), ('cumsum2', float64[:]), ('k', int64)])\n",
    "class RestrictedCalculator:\n",
    "    def __init__(self, v, k):\n",
    "        self.cumsum = calc_cumsum(v)\n",
    "        self.cumsum2 = calc_cumsum2(v)\n",
    "        self.k = k\n",
    "\n",
    "    def calc(self, i, j):\n",
    "        #print(i, j)\n",
    "        if not (j - i >= self.k):\n",
    "            print(\"A\", i, j, self.k)\n",
    "            return np.inf\n",
    "        if not (j - i <= 2*self.k -1):\n",
    "            #print(\"B\", i, j, self.k)\n",
    "            return np.inf\n",
    "        #print(\"C\", i, j)\n",
    "        return calc_objective(self.cumsum, self.cumsum2, i, j)"
   ]
  },
  {
   "cell_type": "code",
   "execution_count": 202,
   "id": "c3d48e67",
   "metadata": {},
   "outputs": [],
   "source": [
    "#@njit([(int64, float64[:], float64)], cache=USE_CACHE)\n",
    "def _conventional_algorithm(n, vals, k):\n",
    "    \"\"\"Solves the univariate microaggregation problem in O(n^2)\n",
    "    this is an implementation of the conventional algorithm\n",
    "    from \"The concave least weight subsequence problem revisited\" by Robert Wilber 1987\n",
    "    \"\"\"\n",
    "    calculator = RestrictedCalculator(vals, k)\n",
    "    g = np.zeros((n,n+1))\n",
    "    g[0,0]=0\n",
    "    min_cost = np.empty(n+1)\n",
    "    min_cost[0]=0\n",
    "    best_pred = np.zeros(n, dtype=np.int32)\n",
    "    for col in range(1,n+1):\n",
    "\n",
    "        lb = max(col-2*k+1, 0)\n",
    "        ub = max(col-k+1, 0)\n",
    "        #for i in range(0, lb):\n",
    "        #    g[i,j] = 999\n",
    "        for row in range(lb,ub):\n",
    "            #print(i, j, calculator.calc(i, j))\n",
    "            g[row, col] = min_cost[row] + calculator.calc(row, col)\n",
    "        if lb == ub:\n",
    "            best_pred[col-1]=0\n",
    "            min_cost[col]=np.inf\n",
    "            \n",
    "        else:\n",
    "            #print(g)\n",
    "            best_pred[col-1] = np.argmin(g[lb:ub, col])+lb\n",
    "            #print(j,  F[j-1])\n",
    "            #print()\n",
    "            min_cost[col] = g[best_pred[col-1],col]\n",
    "\n",
    "    return best_pred, g"
   ]
  },
  {
   "cell_type": "code",
   "execution_count": null,
   "id": "9af889e8-1e0c-4e34-8fca-613864342aeb",
   "metadata": {
    "tags": []
   },
   "outputs": [],
   "source": []
  },
  {
   "cell_type": "code",
   "execution_count": 203,
   "id": "d1ca2c04",
   "metadata": {},
   "outputs": [
    {
     "name": "stdout",
     "output_type": "stream",
     "text": [
      "[[0.    0.005 0.02  0.    0.    0.    0.   ]\n",
      " [0.    0.      inf   inf 0.    0.    0.   ]\n",
      " [0.    0.    0.    0.01  8.892 0.    0.   ]\n",
      " [0.    0.    0.    0.    6.5   8.66  0.   ]\n",
      " [0.    0.    0.    0.    0.    0.01  0.01 ]\n",
      " [0.    0.    0.    0.    0.    0.    6.5  ]\n",
      " [0.    0.    0.    0.    0.    0.    0.   ]]\n"
     ]
    },
    {
     "data": {
      "text/plain": [
       "array([0, 0, 1, 1, 2, 2, 2])"
      ]
     },
     "execution_count": 203,
     "metadata": {},
     "output_type": "execute_result"
    }
   ],
   "source": [
    "relabel_clusters(conventional_algorithm( np.array([1.1, 1.2, 1.3, 1.4, 5, 5, 5]), 2))"
   ]
  },
  {
   "cell_type": "code",
   "execution_count": 111,
   "id": "72d0a8ef-fb4f-4c18-a5f2-0cd22ab177ae",
   "metadata": {
    "tags": []
   },
   "outputs": [],
   "source": [
    "@njit([(float64[:], float64[:], int64, int64)])\n",
    "def calc_objective_1(cumsum, cumsum2, i, j):\n",
    "    if j <= i:\n",
    "        return 0.0\n",
    "#            raise ValueError(\"j should never be larger than i\")\n",
    "    mu = (cumsum[j+1]-cumsum[i])/(j-i+1)\n",
    "    result = cumsum2[j + 1] - cumsum2[i]\n",
    "    result += (j - i + 1) * (mu * mu)\n",
    "    result -= (2 * mu) * (cumsum[j + 1] - cumsum[i])\n",
    "    return result\n"
   ]
  },
  {
   "cell_type": "code",
   "execution_count": 299,
   "id": "850dd645-4524-49c3-b212-a8b4ad3590f4",
   "metadata": {
    "tags": []
   },
   "outputs": [],
   "source": [
    "@jitclass([('cumsum', float64[:]), ('cumsum2', float64[:]), ('k', int64), (\"F_vals\", float64[:]), (\"G\", float64[:,:]), (\"LARGE_VAL\", float64)])\n",
    "class MicroaggWilberCalculator:\n",
    "    def __init__(self, cumsum, cumsum2, k, F_vals):\n",
    "        self.cumsum = cumsum\n",
    "        self.cumsum2 = cumsum2\n",
    "        self.k = k\n",
    "        self.F_vals = F_vals\n",
    "        n = len(cumsum)-1\n",
    "        self.G = -np.ones((n, n))\n",
    "        self.LARGE_VAL = calc_objective_1(cumsum, cumsum2, 0, n-1) + n\n",
    "\n",
    "    def calc(self, j, i): # i <-> j interchanged is not a bug!\n",
    "        #print(j, i)\n",
    "        if j <= i:\n",
    "            self.G[i,j]=np.inf\n",
    "            #print(i, j, np.inf)\n",
    "            return np.inf\n",
    "        \n",
    "        if not (j+1 - i >= self.k):\n",
    "            print(\"A\", i, j, self.LARGE_VAL +i)\n",
    "            self.G[i,j]=self.LARGE_VAL + i\n",
    "            return self.LARGE_VAL + i\n",
    "        if not (j+1 - i <= 2*self.k - 1):\n",
    "            #print(\"B\", i, j)\n",
    "            self.G[i,j]=self.LARGE_VAL +i\n",
    "            return self.LARGE_VAL - i\n",
    "        #print(i, j, self.calculator.calc(i, j) + self.F_vals[i])\n",
    "        self.G[i,j]=calc_objective_1(self.cumsum, self.cumsum2, i, j) + self.F_vals[i]\n",
    "        #print(i, j, calc_objective_1(self.cumsum, self.cumsum2, i, j) + self.F_vals[i])\n",
    "        return calc_objective_1(self.cumsum, self.cumsum2, i, j) + self.F_vals[i]"
   ]
  },
  {
   "cell_type": "code",
   "execution_count": 300,
   "id": "8082582c-347d-4bf5-ac67-4c29dc587e77",
   "metadata": {
    "tags": []
   },
   "outputs": [],
   "source": [
    "#@njit([(int64, float64[:], float64[:], int64)], cache=USE_CACHE)\n",
    "def __Wilber(n, cumsum, cumsum2, k):\n",
    "    \"\"\"Solves Univariate Microaggregation problem in O(n)\n",
    "    this is an implementation of the proposed algorithm\n",
    "    from \"The concave least weight subsequence problem revisited\" by Robert Wilber 1987\n",
    "    \"\"\"\n",
    "    F = np.empty(n, dtype=np.int32)\n",
    "    F_vals = np.empty(n+1, dtype=np.float64)\n",
    "    H = np.empty(n, dtype=np.int32)\n",
    "    H_vals = np.empty(n+1, dtype=np.float64)\n",
    "    F_vals[0]=0\n",
    "    F[0]=100000 # never acessed\n",
    "    c = 0 # columns [0,c] have correct F_vals\n",
    "    r = 0\n",
    "    wil_calculator = MicroaggWilberCalculator(cumsum, cumsum2, k, F_vals)\n",
    "\n",
    "    while c < n:\n",
    "        p = min(2*c-r+1, n)\n",
    "        #print(\"p\", p)\n",
    "        #print(\"F_input\", r, c+1, c, p)\n",
    "        _smawk_iter(np.arange(c, p), np.arange(r, c+1), wil_calculator, F)\n",
    "        #print(\"F\", F)\n",
    "\n",
    "        for j in range(c, p):\n",
    "            F_vals[j+1] = wil_calculator.calc(j, F[j])\n",
    "        #print(\"F_val\", F_vals)\n",
    "        #print(\"H\", c+1, p, c+1,p)\n",
    "        _smawk_iter(np.arange(c+1, p), np.arange(c+1, p), wil_calculator, H)\n",
    "        for j in range(c+1, p):\n",
    "            H_vals[j+1] = wil_calculator.calc(j, H[j])\n",
    "        #print(\"H_val\", H_vals)\n",
    "        #print()\n",
    "        j0=p+1\n",
    "        for j in range(c+2, p+1):\n",
    "            #print(\"<< j\",j, H_vals[j], F_vals[j])\n",
    "            if H_vals[j] <= F_vals[j]:\n",
    "                F[j-1] = H[j-1]\n",
    "                j0 = j\n",
    "                break\n",
    "        if j0==p+1: # we were right all along\n",
    "            c = p\n",
    "        else: # our guessing strategy failed\n",
    "            #raise ValueError()\n",
    "            #print(\">>>>>>j0\", j0)\n",
    "            F_vals[j0] = H_vals[j0]\n",
    "            r = c+1\n",
    "            c = j0\n",
    "    with np.printoptions(linewidth=200, precision=3, suppress=True):\n",
    "        print(wil_calculator.G.T)\n",
    "    return F#relabel(F)\n",
    "\n",
    "#@njit([(int64, float64[:], float64)], cache=USE_CACHE)\n",
    "def _Wilber(n, v, k):\n",
    "    cumsum = calc_cumsum(v)\n",
    "    cumsum2 = calc_cumsum2(v)\n",
    "    return __Wilber(n, cumsum, cumsum2, k)\n",
    "\n",
    "\n",
    "\n",
    "def Wilber(arr, k):\n",
    "    \"\"\"Solves the REGULARIZED 1d kmeans problem in O(n)\n",
    "    this is an implementation of the proposed algorithm\n",
    "    from \"The concave least weight subsequence problem revisited\" by Robert Wilber 1987\n",
    "    \"\"\"\n",
    "\n",
    "    n = len(arr)\n",
    "    assert k>0\n",
    "    assert k<=n\n",
    "    #calculator = _create_calculator(arr, lambda_)\n",
    "    return _Wilber(n, arr, k)"
   ]
  },
  {
   "cell_type": "code",
   "execution_count": 303,
   "id": "ebe74655-1ab2-4aa1-8aea-dba35a013c33",
   "metadata": {
    "tags": []
   },
   "outputs": [
    {
     "name": "stdout",
     "output_type": "stream",
     "text": [
      "[[   inf -1.    -1.    -1.    -1.    -1.    -1.    -1.   ]\n",
      " [ 0.005 -1.    -1.    -1.    -1.    -1.    -1.    -1.   ]\n",
      " [ 0.02     inf    inf -1.    -1.    -1.    -1.    -1.   ]\n",
      " [36.175    inf  0.01     inf -1.    -1.    -1.    -1.   ]\n",
      " [36.175 37.175  8.892  6.5      inf -1.    -1.    -1.   ]\n",
      " [36.175 -1.    -1.     8.66   0.01     inf -1.    -1.   ]\n",
      " [36.175 -1.    -1.    39.175  0.01   6.5      inf -1.   ]\n",
      " [36.175 -1.    -1.    -1.    40.175  6.5    0.01     inf]]\n"
     ]
    },
    {
     "data": {
      "text/plain": [
       "array([0, 0, 1, 1, 2, 2, 3, 3])"
      ]
     },
     "execution_count": 303,
     "metadata": {},
     "output_type": "execute_result"
    }
   ],
   "source": [
    "relabel_clusters(Wilber( np.array([1.1, 1.2, 1.3, 1.4, 5, 5, 5, 5]), 2))"
   ]
  },
  {
   "cell_type": "code",
   "execution_count": 270,
   "id": "391df681-0c28-4d47-a308-15d3dffdfe45",
   "metadata": {
    "tags": []
   },
   "outputs": [
    {
     "ename": "SyntaxError",
     "evalue": "invalid syntax. Perhaps you forgot a comma? (1131146502.py, line 1)",
     "output_type": "error",
     "traceback": [
      "\u001b[1;36m  Cell \u001b[1;32mIn[270], line 1\u001b[1;36m\u001b[0m\n\u001b[1;33m    [[0.    0.005  0.02    0.    0.    0.    0.   ]\u001b[0m\n\u001b[1;37m      ^\u001b[0m\n\u001b[1;31mSyntaxError\u001b[0m\u001b[1;31m:\u001b[0m invalid syntax. Perhaps you forgot a comma?\n"
     ]
    }
   ],
   "source": [
    "[[0.    0.005  0.02    0.    0.    0.    0.   ]\n",
    " [0.    0.      inf    inf   0.    0.    0.   ]\n",
    " [0.    0.     0.      0.01  8.892 0.    0.   ]\n",
    " [0.    0.     0.      0.    6.5   8.66  0.   ]\n",
    " [0.    0.     0.      0.    0.    0.01  0.01 ]\n",
    " [0.    0.     0.      0.    0.    0.    6.5  ]\n",
    " [0.    0.     0.      0.    0.    0.    0.   ]]\n"
   ]
  },
  {
   "cell_type": "code",
   "execution_count": 181,
   "id": "26aaf4ed-c2a0-4ea0-9502-68abf84a1fa7",
   "metadata": {
    "tags": []
   },
   "outputs": [
    {
     "ename": "SyntaxError",
     "evalue": "invalid syntax. Perhaps you forgot a comma? (3923364658.py, line 1)",
     "output_type": "error",
     "traceback": [
      "\u001b[1;36m  Cell \u001b[1;32mIn[181], line 1\u001b[1;36m\u001b[0m\n\u001b[1;33m    [[ 0.   0.     0.02 0.05  inf 0.   0.  ]\u001b[0m\n\u001b[1;37m       ^\u001b[0m\n\u001b[1;31mSyntaxError\u001b[0m\u001b[1;31m:\u001b[0m invalid syntax. Perhaps you forgot a comma?\n"
     ]
    }
   ],
   "source": [
    "[[  0.    0.    0.02  0.05 11.3   0.    0.  ]\n",
    " [  0.    0.    0.     inf   inf   inf  0.  ]\n",
    " [  0.    0.    0.    0.     inf   inf   inf]\n",
    " [  0.    0.    0.    0.    0.    8.66  9.74]\n",
    " [  0.    0.    0.    0.    0.    0.    0.05]\n",
    " [  0.    0.    0.    0.    0.    0.    0.  ]\n",
    " [  0.    0.    0.    0.    0.    0.    0.  ]]\n"
   ]
  },
  {
   "cell_type": "code",
   "execution_count": 182,
   "id": "07405468-9d81-43f6-9330-27dc714e9ee0",
   "metadata": {
    "tags": []
   },
   "outputs": [
    {
     "ename": "SyntaxError",
     "evalue": "invalid syntax. Perhaps you forgot a comma? (1301151517.py, line 2)",
     "output_type": "error",
     "traceback": [
      "\u001b[1;36m  Cell \u001b[1;32mIn[182], line 2\u001b[1;36m\u001b[0m\n\u001b[1;33m    [[0.     0.005 0.02     0.    0.    0.      0.   ]\u001b[0m\n\u001b[1;37m      ^\u001b[0m\n\u001b[1;31mSyntaxError\u001b[0m\u001b[1;31m:\u001b[0m invalid syntax. Perhaps you forgot a comma?\n"
     ]
    }
   ],
   "source": [
    "# K = 2\n",
    "[[0.     0.005 0.02     0.    0.    0.      0.   ]\n",
    " [0.     0.      inf   inf    0.    0.      0.   ]\n",
    " [0.     0.    0.      0.01  8.892  0.      0.   ]\n",
    " [0.     0.    0.       0.    6.5   8.66    0.   ]\n",
    " [0.     0.    0.       0.    0.    0.01    0.01 ]\n",
    " [0.     0.    0.       0.    0.    0.      6.5  ]\n",
    " [0.     0.    0.      0.     0.    0.      0.   ]]\n"
   ]
  },
  {
   "cell_type": "code",
   "execution_count": 178,
   "id": "a985a69b-ef7c-4022-a349-db3adb492189",
   "metadata": {
    "tags": []
   },
   "outputs": [
    {
     "data": {
      "text/plain": [
       "True"
      ]
     },
     "execution_count": 178,
     "metadata": {},
     "output_type": "execute_result"
    }
   ],
   "source": [
    "np.inf==np.inf"
   ]
  },
  {
   "cell_type": "code",
   "execution_count": 210,
   "id": "80223a90-4a61-47fa-a4bf-72c3dc405040",
   "metadata": {
    "tags": []
   },
   "outputs": [
    {
     "data": {
      "text/plain": [
       "2.220446049250313e-16"
      ]
     },
     "execution_count": 210,
     "metadata": {},
     "output_type": "execute_result"
    }
   ],
   "source": [
    "np.finfo(np.float64).eps"
   ]
  },
  {
   "cell_type": "code",
   "execution_count": null,
   "id": "b14d9024-f3bb-4613-b61f-6f519c341b66",
   "metadata": {},
   "outputs": [],
   "source": []
  },
  {
   "cell_type": "code",
   "execution_count": null,
   "id": "d550dc6c-05f3-4ae1-aa41-a3d6f4fb2068",
   "metadata": {},
   "outputs": [],
   "source": []
  },
  {
   "cell_type": "code",
   "execution_count": null,
   "id": "7e897542-ad56-405f-a964-609cebb2ac40",
   "metadata": {},
   "outputs": [],
   "source": []
  },
  {
   "cell_type": "code",
   "execution_count": null,
   "id": "38c157e9-951c-4b8e-8b55-61493c60dec7",
   "metadata": {},
   "outputs": [],
   "source": []
  },
  {
   "cell_type": "code",
   "execution_count": null,
   "id": "ccc0999b-2006-4ac0-9b0d-70ea8a4383eb",
   "metadata": {},
   "outputs": [],
   "source": []
  },
  {
   "cell_type": "code",
   "execution_count": null,
   "id": "bff0ce26-3b1e-45ed-be1f-1b730e7de8b2",
   "metadata": {},
   "outputs": [],
   "source": []
  },
  {
   "cell_type": "code",
   "execution_count": null,
   "id": "1ebe8d7b",
   "metadata": {},
   "outputs": [],
   "source": [
    "relabel_clusters(Wilber( np.array([1, 1, 1, 1.1, 5, 5, 5]), 0.0))"
   ]
  },
  {
   "cell_type": "code",
   "execution_count": null,
   "id": "873400f2",
   "metadata": {},
   "outputs": [],
   "source": [
    "Wilber( np.array([1, 1, 1, 1.1, 5, 5, 5]), 0.1)"
   ]
  },
  {
   "cell_type": "code",
   "execution_count": null,
   "id": "a62d75c1",
   "metadata": {
    "tags": []
   },
   "outputs": [],
   "source": [
    "_cumsum = calc_cumsum(np.array([1, 2], dtype=np.float64))\n",
    "_cumsum2 = calc_cumsum2(np.array([1, 2], dtype=np.float64))\n",
    "calc_objective(_cumsum, _cumsum2, 0, 1)"
   ]
  },
  {
   "cell_type": "code",
   "execution_count": null,
   "id": "b8e977ef-4756-4108-b4de-2c316dbb86a1",
   "metadata": {
    "tags": []
   },
   "outputs": [],
   "source": [
    "list(range(0,1))"
   ]
  },
  {
   "cell_type": "code",
   "execution_count": null,
   "id": "93befae9-8df5-4f62-a522-bf5bbda37837",
   "metadata": {},
   "outputs": [],
   "source": []
  }
 ],
 "metadata": {
  "kernelspec": {
   "display_name": "Python 3 (ipykernel)",
   "language": "python",
   "name": "python3"
  },
  "language_info": {
   "codemirror_mode": {
    "name": "ipython",
    "version": 3
   },
   "file_extension": ".py",
   "mimetype": "text/x-python",
   "name": "python",
   "nbconvert_exporter": "python",
   "pygments_lexer": "ipython3",
   "version": "3.10.10"
  }
 },
 "nbformat": 4,
 "nbformat_minor": 5
}
