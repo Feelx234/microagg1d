{
 "cells": [
  {
   "cell_type": "code",
   "execution_count": 1,
   "id": "ab3192c7-d3f6-4168-860c-6a7b677ebc57",
   "metadata": {
    "tags": []
   },
   "outputs": [],
   "source": [
    "import numpy as np\n",
    "import matplotlib.pyplot as plt\n",
    "import time\n",
    "import pandas as pd\n",
    "from numpy.testing import assert_array_equal\n",
    "from tqdm.notebook import tqdm"
   ]
  },
  {
   "cell_type": "code",
   "execution_count": 3,
   "id": "1f733022-ac21-4bea-a700-9a53117e0017",
   "metadata": {
    "tags": []
   },
   "outputs": [],
   "source": [
    "from microagg1d.main import _simple_dynamic_program,_simple_dynamic_program2,  compute_cluster_cost_sorted\n",
    "from microagg1d.wilber import wilber, _galil_park\n",
    "#from microagg1d.wilber2 import wilber2, _galil_park2"
   ]
  },
  {
   "cell_type": "code",
   "execution_count": 4,
   "id": "4b459579",
   "metadata": {},
   "outputs": [],
   "source": [
    "from functools import partial"
   ]
  },
  {
   "cell_type": "code",
   "execution_count": 5,
   "id": "90f9104b",
   "metadata": {},
   "outputs": [],
   "source": [
    "from microagg1d.smawk_iter2 import __smawk_iter"
   ]
  },
  {
   "cell_type": "code",
   "execution_count": 6,
   "id": "0e653275",
   "metadata": {},
   "outputs": [],
   "source": [
    "from numba import njit, int64, float64\n",
    "from microagg1d.wilber import StableMicroaggWilberCalculator, relabel_clusters_plus_one, calc_cumsum, MicroaggWilberCalculator, MicroaggWilberCalculator_edu"
   ]
  },
  {
   "cell_type": "code",
   "execution_count": 7,
   "id": "d0dfedcb",
   "metadata": {},
   "outputs": [],
   "source": [
    "#@njit([(float64[:], int64)], cache=False)\n",
    "def _diag2(v, k):\n",
    "    stable=0\n",
    "    n = len(v)\n",
    "    if stable==1:\n",
    "        wil_calculator = StableMicroaggWilberCalculator(v, k, -np.ones(n+1, dtype=np.float64), 3*k)\n",
    "        return relabel_clusters_plus_one(__diag2(n, wil_calculator, k))\n",
    "    elif stable==0:\n",
    "        cumsum = calc_cumsum(v)\n",
    "        cumsum2 = calc_cumsum(np.square(v))\n",
    "        wil_calculator = MicroaggWilberCalculator_edu(cumsum, cumsum2, k, -np.ones(n+1, dtype=np.float64))\n",
    "        wil_calculator.LARGE_VAL=100\n",
    "        wil_calculator.SMALL_VAL=1\n",
    "        out = __diag2(n, wil_calculator, k)\n",
    "        with np.printoptions(linewidth=300, precision=3, suppress=True):\n",
    "            M1 = np.vstack((np.arange(wil_calculator.G.shape[1]),wil_calculator.G))\n",
    "            print(M1.shape)\n",
    "            x = np.arange(-1, wil_calculator.G.shape[0]).reshape(wil_calculator.G.shape[0]+1, 1)\n",
    "            print(x.shape)\n",
    "            print(np.concatenate((x, M1),axis=1))\n",
    "        return out #relabel_clusters_plus_one(out)\n",
    "    else:\n",
    "        raise NotImplementedError(\"Only stable in (0,1) supported\")\n",
    "# 3 7 0 4"
   ]
  },
  {
   "cell_type": "code",
   "execution_count": 22,
   "id": "a10f2ff9",
   "metadata": {},
   "outputs": [],
   "source": [
    "@njit()\n",
    "def __staggered2(n, wil_calculator, k):\n",
    "    \"\"\" Solves the dynamic problem in O(n)\n",
    "    \"\"\"\n",
    "    F = np.empty(n, dtype=np.int32)\n",
    "    F_vals = wil_calculator.F_vals\n",
    "    F_vals[0]=0\n",
    "    col_buffer = np.empty(2*n+2, dtype=np.int64)\n",
    "    col_starts = np.empty(2*n+2, dtype=np.int64)\n",
    "\n",
    "    # initial values\n",
    "    for i in range(k-1, min(2*k-1,n)):\n",
    "        F[i] = 0\n",
    "        F_vals[i+1] = wil_calculator.calc(i, 0)\n",
    "    if n<=2*k-1:\n",
    "        return F\n",
    "\n",
    "    def one_round(l, r, u, b):\n",
    "        print(F_vals)\n",
    "        print(F_vals[u:b], u, b)\n",
    "        f_min = np.min(F_vals[u:b])\n",
    "        for j in range(u, b):\n",
    "            F_vals[j]-=f_min\n",
    "\n",
    "        __smawk_iter(l, r, u, b, wil_calculator, F, col_starts, col_buffer)\n",
    "        for j in range(l, r):\n",
    "            F_vals[j+1] = wil_calculator.calc(j, F[j])\n",
    "\n",
    "    # first block\n",
    "    max_col = min(3*k-1,n)\n",
    "    one_round(2*k-1, max_col, k, 2*k)\n",
    "    if n<=max_col:\n",
    "        return F\n",
    "\n",
    "    # remaining blocks\n",
    "    f, R = divmod(n-3*k+1,k)\n",
    "    j=3\n",
    "    for i in range(3,3+f): # do the main blocks\n",
    "        one_round(i*k-1, (i+1)*k-1, max(F[i*k-2], (i-2)*k), i*k)\n",
    "        j=i+1\n",
    "\n",
    "    if R > 0: # deal with the remainder\n",
    "        one_round(j*k-1, (j)*k-1+R, max(F[j*k-2], (j-2)*k), (j-1)*k+R)\n",
    "\n",
    "    return F"
   ]
  },
  {
   "cell_type": "code",
   "execution_count": 23,
   "id": "50fc7804",
   "metadata": {},
   "outputs": [],
   "source": [
    "#@njit([(float64[:], int64)], cache=False)\n",
    "def _staggered2(v, k):\n",
    "    stable=0\n",
    "    n = len(v)\n",
    "    if stable==1:\n",
    "        wil_calculator = StableMicroaggWilberCalculator(v, k, -np.ones(n+1, dtype=np.float64), 3*k)\n",
    "        return relabel_clusters_plus_one(__staggered2(n, wil_calculator, k))\n",
    "    elif stable==0:\n",
    "        cumsum = calc_cumsum(v)\n",
    "        cumsum2 = calc_cumsum(np.square(v))\n",
    "        wil_calculator = MicroaggWilberCalculator_edu(cumsum, cumsum2, k, -np.ones(n+1, dtype=np.float64))\n",
    "        wil_calculator.G[:]=-1\n",
    "        wil_calculator.LARGE_VAL=100\n",
    "        wil_calculator.SMALL_VAL=1\n",
    "        out = __staggered2(n, wil_calculator, k)\n",
    "        with np.printoptions(linewidth=300, precision=3, suppress=True):\n",
    "            M1 = np.vstack((np.arange(wil_calculator.G.shape[1]),wil_calculator.G))\n",
    "            print(M1.shape)\n",
    "            x = np.arange(-1, wil_calculator.G.shape[0]).reshape(wil_calculator.G.shape[0]+1, 1)\n",
    "            print(x.shape)\n",
    "            print(np.concatenate((x, M1),axis=1))\n",
    "        return out #relabel_clusters_plus_one(out)\n",
    "    else:\n",
    "        raise NotImplementedError(\"Only stable in (0,1) supported\")"
   ]
  },
  {
   "cell_type": "code",
   "execution_count": null,
   "id": "57c6c368",
   "metadata": {},
   "outputs": [],
   "source": []
  },
  {
   "cell_type": "code",
   "execution_count": 26,
   "id": "c6b31a9c-59ca-40a4-89a0-4747e06a30f0",
   "metadata": {
    "tags": []
   },
   "outputs": [
    {
     "name": "stdout",
     "output_type": "stream",
     "text": [
      "[ 0.  -1.   0.5  2.  -1.  -1.  -1.  -1.  -1.  -1.  -1.  -1.  -1. ]\n",
      "[0.5 2. ] 2 4\n",
      "[ 0.  -1.   0.   1.5  0.5  2.  -1.  -1.  -1.  -1.  -1.  -1.  -1. ]\n",
      "[0.  1.5 0.5 2. ] 2 6\n",
      "[ 0.  -1.   0.   1.5  0.5  2.   1.   2.5 -1.  -1.  -1.  -1.  -1. ]\n",
      "[0.5 2.  1.  2.5] 4 8\n",
      "[ 0.  -1.   0.   1.5  0.   1.5  0.5  2.   1.   2.5 -1.  -1.  -1. ]\n",
      "[0.5 2.  1.  2.5] 6 10\n",
      "[ 0.  -1.   0.   1.5  0.   1.5  0.   1.5  0.5  2.   1.   2.5 -1. ]\n",
      "[0.5 2.  1. ] 8 11\n",
      "(13, 12)\n",
      "(13, 1)\n",
      "[[ -1.    0.    1.    2.    3.    4.    5.    6.    7.    8.    9.   10.   11. ]\n",
      " [  0.   -1.    0.5   2.   -1.   -1.   -1.   -1.   -1.   -1.   -1.   -1.   -1. ]\n",
      " [  1.   -1.   -1.   -1.   -1.   -1.   -1.   -1.   -1.   -1.   -1.   -1.   -1. ]\n",
      " [  2.   -1.   -1.   -1.    0.5   2.   98.   98.   -1.   -1.   -1.   -1.   -1. ]\n",
      " [  3.   -1.   -1.   -1.   -1.    2.    3.5  97.   -1.   -1.   -1.   -1.   -1. ]\n",
      " [  4.   -1.   -1.   -1.   -1.   -1.    1.    2.5  96.   96.   -1.   -1.   -1. ]\n",
      " [  5.   -1.   -1.   -1.   -1.   -1.  105.    2.5   3.5  95.   -1.   -1.   -1. ]\n",
      " [  6.   -1.   -1.   -1.   -1.   -1.   -1.   -1.    1.    2.5  94.   94.   -1. ]\n",
      " [  7.   -1.   -1.   -1.   -1.   -1.   -1.   -1.  107.    2.5   3.5  93.   -1. ]\n",
      " [  8.   -1.   -1.   -1.   -1.   -1.   -1.   -1.   -1.   -1.    1.    2.5  92. ]\n",
      " [  9.   -1.   -1.   -1.   -1.   -1.   -1.   -1.   -1.   -1.  109.    2.5   3.5]\n",
      " [ 10.   -1.   -1.   -1.   -1.   -1.   -1.   -1.   -1.   -1.   -1.   -1.    1. ]\n",
      " [ 11.   -1.   -1.   -1.   -1.   -1.   -1.   -1.   -1.   -1.   -1.   -1.   -1. ]]\n"
     ]
    }
   ],
   "source": [
    "\n",
    "np.random.seed(1)\n",
    "arr = np.arange(12, dtype=np.float64)#np.random.rand(12)\n",
    "#arr = np.array([1.14374817e-04, 2.73875932e-02, 9.23385948e-02, 1.46755891e-01,\n",
    "#       1.86260211e-01, 2.04452250e-01, 3.02332573e-01, 3.45560727e-01,\n",
    "#       3.96767474e-01, 4.17022005e-01, 4.19194514e-01, 5.38816734e-01,\n",
    "#       6.85219500e-01, 7.20324493e-01, 8.78117436e-01])\n",
    "arr.sort()\n",
    "\n",
    "result1 = _staggered2(arr, 2)\n"
   ]
  },
  {
   "cell_type": "code",
   "execution_count": 11,
   "id": "807f60a3",
   "metadata": {},
   "outputs": [
    {
     "data": {
      "text/plain": [
       "array([-875836469, -875836469,          0,          0,          0,\n",
       "                3,          4,          4,          6,          7,\n",
       "                8,          9])"
      ]
     },
     "execution_count": 11,
     "metadata": {},
     "output_type": "execute_result"
    }
   ],
   "source": [
    "result1"
   ]
  },
  {
   "cell_type": "code",
   "execution_count": 12,
   "id": "7a71cae2",
   "metadata": {},
   "outputs": [],
   "source": [
    "#[0 0 0 0 1 1 1 2 2 2]\n",
    "from numba.experimental import jitclass"
   ]
  },
  {
   "cell_type": "code",
   "execution_count": 13,
   "id": "d5502ab4",
   "metadata": {},
   "outputs": [],
   "source": [
    "@jitclass([('cumsum', float64[:,:]), ('cumsum2', float64[:,:]), ('k', int64), (\"F_vals\", float64[:]), (\"SMALL_VAL\", float64), (\"LARGE_VAL\", float64), (\"cell_size\", int64), (\"count1\", int64), (\"count2\", int64)])\n",
    "class CountStableMicroaggWilberCalculator:\n",
    "    \"\"\"A stable variant of the microagg calculator for wilbers method\"\"\"\n",
    "    def __init__(self, x, k, F_vals, cell_size):\n",
    "        self.cumsum = calc_cumsum_cell(x, cell_size)\n",
    "        x_square = np.square(x)\n",
    "        self.cumsum2 = calc_cumsum_cell(x_square, cell_size)\n",
    "        self.k = k\n",
    "        self.F_vals = F_vals\n",
    "        n = len(x)\n",
    "        self.SMALL_VAL = _calc_objective(np.sum(x), np.sum(x_square), n)\n",
    "        self.LARGE_VAL = self.SMALL_VAL * (1 + n)\n",
    "        self.cell_size = cell_size\n",
    "        self.count1=0\n",
    "        self.count2=0\n",
    "\n",
    "    def calc(self, j, i): # i <-> j interchanged is not a bug!\n",
    "        if j < i:\n",
    "            return np.inf\n",
    "\n",
    "        if not (j+1 - i >= self.k):\n",
    "            self.count2+=1\n",
    "            return self.LARGE_VAL + self.SMALL_VAL*i\n",
    "        if not (j+1 - i <= 2 * self.k - 1):\n",
    "            self.count2+=1\n",
    "            return self.LARGE_VAL - self.SMALL_VAL*i\n",
    "        self.count1+=1\n",
    "        return calc_objective_cell(self.cumsum, self.cumsum2, self.cell_size, i, j) + self.F_vals[i]"
   ]
  },
  {
   "cell_type": "code",
   "execution_count": 14,
   "id": "26ff264d",
   "metadata": {},
   "outputs": [],
   "source": [
    "@jitclass([('cumsum', float64[:]), ('cumsum2', float64[:]), ('k', int64), (\"F_vals\", float64[:]), (\"SMALL_VAL\", float64), (\"LARGE_VAL\", float64), (\"count1\", int64), (\"count2\", int64)])\n",
    "class CountMicroaggWilberCalculator:\n",
    "    \"\"\"The standard microagg calculator for wilbers method\"\"\"\n",
    "    def __init__(self, cumsum, cumsum2, k, F_vals):\n",
    "        self.cumsum = cumsum\n",
    "        self.cumsum2 = cumsum2\n",
    "        self.k = k\n",
    "        self.F_vals = F_vals\n",
    "        n = len(cumsum) - 1\n",
    "        self.SMALL_VAL = calc_objective_upper_inclusive(cumsum, cumsum2, 0, n-1)\n",
    "        self.LARGE_VAL = self.SMALL_VAL * (1 + n)\n",
    "        self.count1=0\n",
    "        self.count2=0\n",
    "\n",
    "    def calc(self, j, i): # i <-> j interchanged is not a bug!\n",
    "        if j < i:\n",
    "            return np.inf\n",
    "\n",
    "        if not (j+1 - i >= self.k):\n",
    "            self.count2+=1\n",
    "            return self.LARGE_VAL + self.SMALL_VAL*i\n",
    "        if not (j+1 - i <= 2 * self.k - 1):\n",
    "            self.count2+=1\n",
    "            return self.LARGE_VAL - self.SMALL_VAL*i\n",
    "        self.count1+=1\n",
    "        return calc_objective_upper_inclusive(self.cumsum, self.cumsum2, i, j) + self.F_vals[i]"
   ]
  },
  {
   "cell_type": "code",
   "execution_count": 15,
   "id": "289686ce",
   "metadata": {},
   "outputs": [],
   "source": [
    "from microagg1d.wilber2 import __galil_park2\n",
    "from microagg1d.common import calc_cumsum, calc_objective_upper_exclusive, calc_objective_upper_inclusive, calc_objective_cell, calc_cumsum_cell, _calc_objective"
   ]
  },
  {
   "cell_type": "code",
   "execution_count": 16,
   "id": "356eec6c",
   "metadata": {},
   "outputs": [],
   "source": [
    "@njit([(float64[:], int64, int64)], cache=False)\n",
    "def _galil_park2(v, k, stable=1):\n",
    "    n = len(v)\n",
    "    if stable==1:\n",
    "        wil_calculator = CountStableMicroaggWilberCalculator(v, k, -np.ones(n+1, dtype=np.float64), 3*k)\n",
    "        out = __galil_park2(n, wil_calculator)\n",
    "        print(k, wil_calculator.count1/n, wil_calculator.count2/n)\n",
    "        return relabel_clusters_plus_one(out)\n",
    "    elif stable==0:\n",
    "        cumsum = calc_cumsum(v)\n",
    "        cumsum2 = calc_cumsum(np.square(v))\n",
    "        wil_calculator = CountMicroaggWilberCalculator(cumsum, cumsum2, k, -np.ones(n+1, dtype=np.float64))\n",
    "        out = __galil_park2(n, wil_calculator)\n",
    "        return relabel_clusters_plus_one(out)\n",
    "    else:\n",
    "        raise NotImplementedError(\"Only stable in (0,1) supported\")"
   ]
  },
  {
   "cell_type": "code",
   "execution_count": 17,
   "id": "5a8b462a",
   "metadata": {},
   "outputs": [],
   "source": [
    "@njit([(float64[:], int64, int64)], cache=False)\n",
    "def _staggered3(v, k, stable=1):\n",
    "    n = len(v)\n",
    "    if stable==1:\n",
    "        wil_calculator = CountStableMicroaggWilberCalculator(v, k, -np.ones(n+1, dtype=np.float64), 3*k)\n",
    "        out = __staggered2(n, wil_calculator, k)\n",
    "        print(k, wil_calculator.count1/n, wil_calculator.count2/n)\n",
    "        return relabel_clusters_plus_one(out)\n",
    "    elif stable==0:\n",
    "        cumsum = calc_cumsum(v)\n",
    "        cumsum2 = calc_cumsum(np.square(v))\n",
    "        wil_calculator = CountMicroaggWilberCalculator(cumsum, cumsum2, k, -np.ones(n+1, dtype=np.float64))\n",
    "        out = __staggered2(n, wil_calculator, k)\n",
    "        print(k, wil_calculator.count1/n, wil_calculator.count2/n)\n",
    "        return relabel_clusters_plus_one(out)\n",
    "    else:\n",
    "        raise NotImplementedError(\"Only stable in (0,1) supported\")"
   ]
  },
  {
   "cell_type": "code",
   "execution_count": 18,
   "id": "f278d065",
   "metadata": {},
   "outputs": [],
   "source": [
    "\n",
    "big_arr = np.arange(1_000_000, dtype=np.float64)\n",
    "\n",
    "np.random.seed(1)\n",
    "big_arr = np.random.rand(1_000_000)\n",
    "big_arr.sort()"
   ]
  },
  {
   "cell_type": "code",
   "execution_count": null,
   "id": "b7ead74b",
   "metadata": {},
   "outputs": [],
   "source": [
    "\n"
   ]
  },
  {
   "cell_type": "code",
   "execution_count": 19,
   "id": "488cff8d",
   "metadata": {},
   "outputs": [],
   "source": [
    "@jitclass([('cumsum', float64[:,:]), ('cumsum2', float64[:,:]), ('cell_size', int64), ('count', int64)])\n",
    "class CountStableCumsumCalculator:\n",
    "    def __init__(self, v, cell_size):\n",
    "        self.cumsum = calc_cumsum_cell(v, cell_size)\n",
    "        self.cumsum2 = calc_cumsum_cell(np.square(v), cell_size)\n",
    "        self.cell_size = cell_size\n",
    "        self.count = 0\n",
    "\n",
    "    def calc(self, i, j):\n",
    "        self.count+=1\n",
    "        if j==i:\n",
    "            return 0\n",
    "        return calc_objective_cell(self.cumsum, self.cumsum2, self.cell_size, i, j)\n",
    "    \n",
    "    \n",
    "@jitclass([('cumsum', float64[:]), ('cumsum2', float64[:]), ('count', int64)])\n",
    "class CountCumsumCalculator:\n",
    "    def __init__(self, v):\n",
    "        self.cumsum = calc_cumsum(v)\n",
    "        self.cumsum2 = calc_cumsum(np.square(v))\n",
    "        self.count = 0\n",
    "\n",
    "    def calc(self, i, j):\n",
    "        self.count+=1\n",
    "        return calc_objective_upper_inclusive(self.cumsum, self.cumsum2, i, j)"
   ]
  },
  {
   "cell_type": "code",
   "execution_count": 20,
   "id": "3ec42ead",
   "metadata": {},
   "outputs": [],
   "source": [
    "from microagg1d.main import __simple_dynamic_program2, CumsumCalculator"
   ]
  },
  {
   "cell_type": "code",
   "execution_count": 21,
   "id": "94ec664a",
   "metadata": {},
   "outputs": [],
   "source": [
    "@njit([(float64[:], int64, int64)], cache=False)\n",
    "def _simple_dynamic_program2(x, k, stable=1):\n",
    "    n = len(x)\n",
    "    assert k > 0\n",
    "    if n//2 < k: # there can only be one cluster\n",
    "        return np.zeros(n, dtype=np.int64)\n",
    "    if k==1: # each node has its own cluster\n",
    "        return np.arange(n)\n",
    "\n",
    "    if stable==1:\n",
    "        calculator = CountStableCumsumCalculator(x, k)\n",
    "        out = __simple_dynamic_program2(n, k, calculator)\n",
    "        print(\"#\", calculator.count/n)\n",
    "        return out\n",
    "    elif stable==0:\n",
    "        calculator = CountCumsumCalculator(x)\n",
    "        out = __simple_dynamic_program2(n, k, calculator)\n",
    "        print(\"#\", calculator.count/n)\n",
    "        return out\n",
    "    else:\n",
    "        assert False"
   ]
  },
  {
   "cell_type": "code",
   "execution_count": 22,
   "id": "f237fa4a",
   "metadata": {},
   "outputs": [
    {
     "data": {
      "text/plain": [
       "36.0"
      ]
     },
     "execution_count": 22,
     "metadata": {},
     "output_type": "execute_result"
    }
   ],
   "source": [
    "18/0.5"
   ]
  },
  {
   "cell_type": "code",
   "execution_count": 23,
   "id": "1f7fba5d",
   "metadata": {},
   "outputs": [
    {
     "data": {
      "text/plain": [
       "27.764705882352942"
      ]
     },
     "execution_count": 23,
     "metadata": {},
     "output_type": "execute_result"
    }
   ],
   "source": [
    "11.8/0.425"
   ]
  },
  {
   "cell_type": "code",
   "execution_count": 24,
   "id": "3d1d38b5",
   "metadata": {},
   "outputs": [
    {
     "name": "stdout",
     "output_type": "stream",
     "text": [
      "10 7.467243 5.166735\n",
      "\t 0.517047643661499\n",
      "100 8.369993 9.272056\n",
      "\t 0.538238525390625\n",
      "1000 8.470119 11.976444\n",
      "\t 0.5570006370544434\n",
      "10000 9.464793 8.635394\n",
      "\t 0.5660004615783691\n"
     ]
    }
   ],
   "source": [
    "\n",
    "for k in [10, 100, 1000, 10000]:\n",
    "    start = time.time()\n",
    "    _galil_park2(big_arr, k, stable=True)\n",
    "    end = time.time()\n",
    "    print(\"\\t\", end-start)\n",
    "#10 8149951 4987435 1.634096684969328\n",
    "#100 8997198 9554434 0.9416777592476959\n",
    "#1000 10018823 11202448 0.8943422901851452\n",
    "#10000 10906281 7632456 1.4289346705699975"
   ]
  },
  {
   "cell_type": "code",
   "execution_count": 25,
   "id": "4727ab64",
   "metadata": {},
   "outputs": [
    {
     "name": "stdout",
     "output_type": "stream",
     "text": [
      "10 7.288854 2.017855\n",
      "\t 0.39138054847717285\n",
      "100 8.462782 3.062973\n",
      "\t 0.41899919509887695\n",
      "1000 8.472159 3.433215\n",
      "\t 0.4180002212524414\n",
      "10000 9.501233 2.304138\n",
      "\t 0.45102858543395996\n"
     ]
    }
   ],
   "source": [
    "for k in [10, 100, 1000, 10000]:\n",
    "    start = time.time()\n",
    "    _staggered3(big_arr, k, stable=True)\n",
    "    end = time.time()\n",
    "    print(\"\\t\", end-start)\n",
    "    \n",
    "# stable\n",
    "#10 7.599915 1.699925\n",
    "#100 8.774565 2.753608\n",
    "#1000 9.555528 2.350685\n",
    "#10000 10.762317 1.040191\n"
   ]
  },
  {
   "cell_type": "code",
   "execution_count": 29,
   "id": "8d500f7a",
   "metadata": {},
   "outputs": [
    {
     "name": "stdout",
     "output_type": "stream",
     "text": [
      "# 4.240748\n",
      "\t 0.22540736198425293\n",
      "# 26.091592\n",
      "\t 1.2300479412078857\n",
      "# 295.721681\n",
      "\t 13.562055826187134\n",
      "# 2879.835166\n",
      "\t 132.80891585350037\n"
     ]
    }
   ],
   "source": [
    "for k in [10, 100, 1000, 10000]:\n",
    "    start = time.time()\n",
    "    _simple_dynamic_program2(big_arr, k, stable=True)\n",
    "    end = time.time()\n",
    "    print(\"\\t\", end-start)\n",
    "    time.sleep(0.2)\n",
    "# stable=False   \n",
    "# 3.976547\n",
    "#\t 0.07240653038024902\n",
    "# 5.648772\n",
    "#\t 0.08900070190429688\n",
    "# 10.991427\n",
    "#\t 0.16099786758422852\n",
    "# 214.374837\n",
    "#\t 2.7751386165618896\n",
    "\n",
    "\n",
    "\n",
    "# stable=True\n",
    "\n",
    "# 4.240748\n",
    "#\t 3.4537150859832764\n",
    "# 26.091592\n",
    "#\t 1.2420427799224854\n",
    "# 295.721681\n",
    "#\t 13.74938154220581\n",
    "# 2879.835166\n",
    "#\t 136.4666247367859\n",
    "\n"
   ]
  },
  {
   "cell_type": "code",
   "execution_count": 27,
   "id": "481c38f1",
   "metadata": {},
   "outputs": [
    {
     "name": "stdout",
     "output_type": "stream",
     "text": [
      "Efficiency in Million QF calculations per second\n"
     ]
    },
    {
     "data": {
      "text/plain": [
       "78.32474862988674"
      ]
     },
     "execution_count": 27,
     "metadata": {},
     "output_type": "execute_result"
    }
   ],
   "source": [
    "print(\"Efficiency in Million QF calculations per second\")\n",
    "214.374837/2.737"
   ]
  },
  {
   "cell_type": "code",
   "execution_count": 28,
   "id": "6dd89d5e",
   "metadata": {},
   "outputs": [
    {
     "data": {
      "text/plain": [
       "68.6875"
      ]
     },
     "execution_count": 28,
     "metadata": {},
     "output_type": "execute_result"
    }
   ],
   "source": [
    "10.99/0.160"
   ]
  },
  {
   "cell_type": "code",
   "execution_count": null,
   "id": "a44d78bf",
   "metadata": {},
   "outputs": [],
   "source": []
  },
  {
   "cell_type": "code",
   "execution_count": null,
   "id": "84beba1a",
   "metadata": {},
   "outputs": [],
   "source": []
  }
 ],
 "metadata": {
  "kernelspec": {
   "display_name": "Python 3 (ipykernel)",
   "language": "python",
   "name": "python3"
  },
  "language_info": {
   "codemirror_mode": {
    "name": "ipython",
    "version": 3
   },
   "file_extension": ".py",
   "mimetype": "text/x-python",
   "name": "python",
   "nbconvert_exporter": "python",
   "pygments_lexer": "ipython3",
   "version": "3.10.11"
  }
 },
 "nbformat": 4,
 "nbformat_minor": 5
}
