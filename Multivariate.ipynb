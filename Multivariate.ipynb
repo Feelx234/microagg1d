{
 "cells": [
  {
   "cell_type": "code",
   "execution_count": null,
   "id": "9198d676",
   "metadata": {},
   "outputs": [],
   "source": []
  },
  {
   "cell_type": "code",
   "execution_count": 1,
   "id": "2d8d00fa",
   "metadata": {},
   "outputs": [],
   "source": [
    "dfs = {}\n",
    "preprocessed = {}"
   ]
  },
  {
   "cell_type": "code",
   "execution_count": 2,
   "id": "2b66fe5d",
   "metadata": {},
   "outputs": [],
   "source": [
    "import rdata\n",
    "\n",
    "converted = rdata.read_rda(\"E:\\projects\\microagg1d\\datasets\\Tarragona.rda\")\n",
    "converted[\"Tarragona\"]\n",
    "dfs[\"Tarragona\"] = converted[\"Tarragona\"]\n",
    "preprocessed[\"Tarragona\"] = converted[\"Tarragona\"]"
   ]
  },
  {
   "cell_type": "code",
   "execution_count": 3,
   "id": "0d093b1c",
   "metadata": {},
   "outputs": [],
   "source": [
    "converted = rdata.read_rda(\"E:\\projects\\microagg1d\\datasets\\EIA.rda\")\n",
    "converted[\"EIA\"]\n",
    "dfs[\"eia\"] = converted[\"EIA\"]\n",
    "preprocessed[\"eia\"]=dfs[\"eia\"][['RESREVENUE', 'RESSALES', 'COMREVENUE', 'COMSALES', 'INDREVENUE', 'INDSALES', 'OTHREVENUE', 'OTHRSALES', 'TOTREVENUE', 'TOTSALES']]"
   ]
  },
  {
   "cell_type": "code",
   "execution_count": 4,
   "id": "db7fa12b",
   "metadata": {},
   "outputs": [],
   "source": [
    "from sklearn.decomposition import PCA\n",
    "from sklearn import preprocessing"
   ]
  },
  {
   "cell_type": "code",
   "execution_count": 5,
   "id": "74eb7e3e",
   "metadata": {},
   "outputs": [],
   "source": [
    "from microagg1d import univariate_microaggregation\n",
    "from microagg1d.common import compute_cluster_cost_sorted\n",
    "from microagg1d.cost import compute_cost\n",
    "from microagg1d.main import undo_argsort\n",
    "import numpy as np"
   ]
  },
  {
   "cell_type": "code",
   "execution_count": 6,
   "id": "b54c086f",
   "metadata": {},
   "outputs": [],
   "source": [
    "def square_sum(x):\n",
    "    return np.sum(np.square(x))\n",
    "\n",
    "def absolute_sum(x):\n",
    "    return np.sum(np.abs(x))\n",
    "\n",
    "def multi_cost(df_in, clusters, cost_name=\"sse\", preprocess=True):\n",
    "    df = do_preprocessing(df_in, preprocess)\n",
    "    average = {\n",
    "        \"sse\" : np.mean,\n",
    "        \"sae\" : np.median,\n",
    "    }[cost_name]\n",
    "    cost_func = {\n",
    "        \"sse\" : square_sum,\n",
    "        \"sae\" : absolute_sum,\n",
    "    }[cost_name]\n",
    "    num_clusters = clusters.max() + 1\n",
    "    total_cost=0\n",
    "    for i in range(num_clusters):\n",
    "        select = clusters == i\n",
    "        df_select = df[select,:]\n",
    "        centroid = average(df_select,axis=0)\n",
    "        total_cost += cost_func(df_select-centroid)\n",
    "    return total_cost"
   ]
  },
  {
   "cell_type": "code",
   "execution_count": 7,
   "id": "3240c897",
   "metadata": {},
   "outputs": [],
   "source": [
    "def do_preprocessing(df_in, preprocess):\n",
    "    if preprocess:\n",
    "        return preprocessing.StandardScaler().fit_transform(df_in)\n",
    "    return df_in"
   ]
  },
  {
   "cell_type": "code",
   "execution_count": 8,
   "id": "c8d4e55c",
   "metadata": {},
   "outputs": [],
   "source": [
    "def compute_multi_pca(df_in, k, cost_name=\"sse\", preprocess=True):\n",
    "    df = do_preprocessing(df_in, preprocess)\n",
    "    pca = PCA(n_components=1)\n",
    "    pca.fit(df)\n",
    "    vec = pca.components_[0,:]\n",
    "    arr = df @ vec\n",
    "    order = np.argsort(arr)\n",
    "    arr = np.array(arr[order], dtype=np.float64)\n",
    "    clusters = univariate_microaggregation(arr, cost=cost_name, k=k)\n",
    "    return undo_argsort(clusters, order), vec, order"
   ]
  },
  {
   "cell_type": "code",
   "execution_count": 9,
   "id": "418c7c65",
   "metadata": {},
   "outputs": [],
   "source": [
    "def compute_multi_random(df_in, k, num_tries=10, cost_name=\"sse\", seed=None, preprocess=True):\n",
    "    df = do_preprocessing(df_in, preprocess)\n",
    "    if seed is not None:\n",
    "        np.random.seed(seed)\n",
    "    best_clusters= None\n",
    "    best_vec = None\n",
    "    best_cost = np.inf\n",
    "    for i in range(num_tries):\n",
    "        vec = np.random.rand(df.shape[1])\n",
    "        arr = df @ vec\n",
    "        order = np.argsort(arr)\n",
    "        arr = np.array(arr[order], dtype=np.float64)\n",
    "        clusters = univariate_microaggregation(arr, cost=cost_name, k=k)\n",
    "        clusters = undo_argsort(clusters, order)\n",
    "        cost = multi_cost(df, clusters, cost_name=cost_name, preprocess=False)\n",
    "        if cost < best_cost:\n",
    "            best_clusters=clusters\n",
    "            best_cost=cost\n",
    "            best_arr = undo_argsort(arr, order)\n",
    "            best_order = undo_argsort(order, order)\n",
    "        \n",
    "    return best_clusters, best_vec, best_order, best_cost"
   ]
  },
  {
   "cell_type": "code",
   "execution_count": 10,
   "id": "e7e27c7d",
   "metadata": {},
   "outputs": [],
   "source": [
    "def k_means_heuristic(df_in, k, n_clusters, seed=None, preprocess=True):\n",
    "    if seed is not None:\n",
    "        np.random.seed(seed)\n",
    "    df = do_preprocessing(df_in, preprocess)\n",
    "    kmeans = KMeans(n_clusters=n_clusters, random_state=seed).fit(df)\n",
    "    all_labels = set(kmeans.labels_)\n",
    "    labels = kmeans.labels_.copy()\n",
    "    centroids = kmeans.cluster_centers_.copy()\n",
    "    changes=False\n",
    "    while True:\n",
    "        group_sizes = np.bincount(labels)\n",
    "        labels_to_iter = np.random.permutation(np.fromiter(all_labels, count=len(all_labels), dtype=np.int64))\n",
    "        if np.all(group_sizes[labels_to_iter] >= k):\n",
    "            break\n",
    "        \n",
    "        \n",
    "        \n",
    "        for group_label in labels_to_iter:\n",
    "            group_size = group_sizes[group_label]\n",
    "            if group_size < k:\n",
    "                this_centroid = centroids[group_label]\n",
    "                min_dist = np.inf\n",
    "                best_neigh = None\n",
    "                for i, centroid in enumerate(centroids):\n",
    "                    if i==group_label or group_sizes[i]==0:\n",
    "                        continue\n",
    "                    \n",
    "                    distance = np.sum(np.square(centroid - this_centroid))\n",
    "                    if distance < min_dist:\n",
    "                        best_neigh = i\n",
    "                        min_dist = distance\n",
    "                centroids[best_neigh] = (centroids[best_neigh]*group_sizes[best_neigh] + \n",
    "                                         centroids[group_label]*group_sizes[group_label])/ (\n",
    "                                        group_sizes[best_neigh] + group_sizes[group_label])\n",
    "                \n",
    "                labels[labels==group_label] = best_neigh\n",
    "                group_sizes[best_neigh] += group_sizes[group_label]\n",
    "                group_sizes[group_label] = 0\n",
    "                all_labels.remove(group_label)\n",
    "                # print(\"removing\", group_label, \"to\", best_neigh)\n",
    "                tmp = np.bincount(labels,minlength=len(group_sizes))\n",
    "                if not np.all(group_sizes == tmp):\n",
    "                    print(group_sizes)\n",
    "                    print(tmp)\n",
    "                    print(group_sizes-tmp)\n",
    "                    raise ValueError()    \n",
    "    final_labels = labels.copy()\n",
    "    \n",
    "    d = {l:i for i, l in enumerate(all_labels)}\n",
    "    for i,l in enumerate(labels):\n",
    "        final_labels[i] = d[l]\n",
    "    return final_labels"
   ]
  },
  {
   "cell_type": "code",
   "execution_count": null,
   "id": "d9a2195b",
   "metadata": {},
   "outputs": [],
   "source": []
  },
  {
   "cell_type": "code",
   "execution_count": null,
   "id": "a7eeecde",
   "metadata": {},
   "outputs": [],
   "source": []
  },
  {
   "cell_type": "code",
   "execution_count": null,
   "id": "e8080c23",
   "metadata": {},
   "outputs": [],
   "source": []
  },
  {
   "cell_type": "code",
   "execution_count": 11,
   "id": "094c6f22",
   "metadata": {},
   "outputs": [],
   "source": [
    "from sklearn.cluster import KMeans"
   ]
  },
  {
   "cell_type": "code",
   "execution_count": 12,
   "id": "4db9cd23",
   "metadata": {},
   "outputs": [],
   "source": [
    "cost_name = \"sse\""
   ]
  },
  {
   "cell_type": "code",
   "execution_count": 13,
   "id": "204d383d",
   "metadata": {},
   "outputs": [],
   "source": [
    "from collections import defaultdict\n",
    "results_pca = defaultdict(list)"
   ]
  },
  {
   "cell_type": "code",
   "execution_count": 14,
   "id": "59d0b38a",
   "metadata": {},
   "outputs": [],
   "source": [
    "the_ks = [2,3,4,5,7,10,20,30,50]\n",
    "num_repeats=10\n",
    "list_num_tries = [10, 50, 100]"
   ]
  },
  {
   "cell_type": "code",
   "execution_count": 15,
   "id": "fe76b843",
   "metadata": {},
   "outputs": [],
   "source": [
    "results = {}"
   ]
  },
  {
   "cell_type": "code",
   "execution_count": 17,
   "id": "b1561338",
   "metadata": {},
   "outputs": [],
   "source": [
    "results[\"pca\"] = defaultdict(list)\n",
    "for name, df in preprocessed.items():\n",
    "    df = preprocessing.StandardScaler().fit_transform(df)\n",
    "    for k in the_ks:\n",
    "        clusters, arr, order = compute_multi_pca(df, k=k, preprocess=False)\n",
    "        cost = multi_cost(df, clusters, cost_name=cost_name)\n",
    "\n",
    "        results[\"pca\"][name].append((k, cost))"
   ]
  },
  {
   "cell_type": "code",
   "execution_count": 18,
   "id": "e2ae4b16",
   "metadata": {},
   "outputs": [],
   "source": [
    "from tqdm.notebook import tqdm"
   ]
  },
  {
   "cell_type": "code",
   "execution_count": null,
   "id": "7fbe1431",
   "metadata": {},
   "outputs": [
    {
     "data": {
      "application/vnd.jupyter.widget-view+json": {
       "model_id": "2a6874634f3f4546b9470e516f6cc08b",
       "version_major": 2,
       "version_minor": 0
      },
      "text/plain": [
       "  0%|          | 0/3 [00:00<?, ?it/s]"
      ]
     },
     "metadata": {},
     "output_type": "display_data"
    },
    {
     "data": {
      "application/vnd.jupyter.widget-view+json": {
       "model_id": "",
       "version_major": 2,
       "version_minor": 0
      },
      "text/plain": [
       "  0%|          | 0/9 [00:00<?, ?it/s]"
      ]
     },
     "metadata": {},
     "output_type": "display_data"
    },
    {
     "data": {
      "application/vnd.jupyter.widget-view+json": {
       "model_id": "",
       "version_major": 2,
       "version_minor": 0
      },
      "text/plain": [
       "  0%|          | 0/10 [00:00<?, ?it/s]"
      ]
     },
     "metadata": {},
     "output_type": "display_data"
    },
    {
     "data": {
      "application/vnd.jupyter.widget-view+json": {
       "model_id": "",
       "version_major": 2,
       "version_minor": 0
      },
      "text/plain": [
       "  0%|          | 0/10 [00:00<?, ?it/s]"
      ]
     },
     "metadata": {},
     "output_type": "display_data"
    },
    {
     "data": {
      "application/vnd.jupyter.widget-view+json": {
       "model_id": "",
       "version_major": 2,
       "version_minor": 0
      },
      "text/plain": [
       "  0%|          | 0/10 [00:00<?, ?it/s]"
      ]
     },
     "metadata": {},
     "output_type": "display_data"
    },
    {
     "data": {
      "application/vnd.jupyter.widget-view+json": {
       "model_id": "",
       "version_major": 2,
       "version_minor": 0
      },
      "text/plain": [
       "  0%|          | 0/10 [00:00<?, ?it/s]"
      ]
     },
     "metadata": {},
     "output_type": "display_data"
    },
    {
     "data": {
      "application/vnd.jupyter.widget-view+json": {
       "model_id": "",
       "version_major": 2,
       "version_minor": 0
      },
      "text/plain": [
       "  0%|          | 0/10 [00:00<?, ?it/s]"
      ]
     },
     "metadata": {},
     "output_type": "display_data"
    },
    {
     "data": {
      "application/vnd.jupyter.widget-view+json": {
       "model_id": "",
       "version_major": 2,
       "version_minor": 0
      },
      "text/plain": [
       "  0%|          | 0/10 [00:00<?, ?it/s]"
      ]
     },
     "metadata": {},
     "output_type": "display_data"
    },
    {
     "data": {
      "application/vnd.jupyter.widget-view+json": {
       "model_id": "",
       "version_major": 2,
       "version_minor": 0
      },
      "text/plain": [
       "  0%|          | 0/10 [00:00<?, ?it/s]"
      ]
     },
     "metadata": {},
     "output_type": "display_data"
    },
    {
     "data": {
      "application/vnd.jupyter.widget-view+json": {
       "model_id": "",
       "version_major": 2,
       "version_minor": 0
      },
      "text/plain": [
       "  0%|          | 0/10 [00:00<?, ?it/s]"
      ]
     },
     "metadata": {},
     "output_type": "display_data"
    },
    {
     "data": {
      "application/vnd.jupyter.widget-view+json": {
       "model_id": "",
       "version_major": 2,
       "version_minor": 0
      },
      "text/plain": [
       "  0%|          | 0/10 [00:00<?, ?it/s]"
      ]
     },
     "metadata": {},
     "output_type": "display_data"
    },
    {
     "data": {
      "application/vnd.jupyter.widget-view+json": {
       "model_id": "a9bc8a6ec38d487ba234c8dfcf4d7f99",
       "version_major": 2,
       "version_minor": 0
      },
      "text/plain": [
       "  0%|          | 0/9 [00:00<?, ?it/s]"
      ]
     },
     "metadata": {},
     "output_type": "display_data"
    },
    {
     "data": {
      "application/vnd.jupyter.widget-view+json": {
       "model_id": "377b4274a5724ec6827d25155542dd6a",
       "version_major": 2,
       "version_minor": 0
      },
      "text/plain": [
       "  0%|          | 0/10 [00:00<?, ?it/s]"
      ]
     },
     "metadata": {},
     "output_type": "display_data"
    }
   ],
   "source": [
    "np.random.seed(0)\n",
    "\n",
    "for num_tries in tqdm(list_num_tries):\n",
    "    label = f\"random_{num_tries}\"\n",
    "    results[label] = defaultdict(list)\n",
    "    for name, df in preprocessed.items():\n",
    "        df = preprocessing.StandardScaler().fit_transform(df)\n",
    "        for k in tqdm(the_ks, leave=False):\n",
    "            costs = []\n",
    "            for seed in tqdm(range(num_repeats), leave=False):\n",
    "                clusters, arr, order, cost = compute_multi_random(df, k=k, num_tries=num_tries, cost_name=cost_name, preprocess=False)\n",
    "                costs.append(cost)\n",
    "            results[label][name].append((k, np.mean(costs), np.std(costs)))"
   ]
  },
  {
   "cell_type": "code",
   "execution_count": null,
   "id": "b127e944",
   "metadata": {},
   "outputs": [],
   "source": [
    "np.random.seed(0)\n",
    "\n",
    "label = f\"merged\"\n",
    "results[label] = defaultdict(list)\n",
    "for name, df in preprocessed.items():\n",
    "    df = preprocessing.StandardScaler().fit_transform(df)\n",
    "    for k in tqdm([2,3,4,5,7,10,20,30,50], leave=False):\n",
    "        costs = []\n",
    "        for seed in tqdm(range(num_repeats), leave=False):\n",
    "            clusters = k_means_heuristic(df, k=k, n_clusters=int(len(df)/k))\n",
    "            cost = multi_cost(df, clusters, cost_name=cost_name, preprocess=True)\n",
    "            costs.append(cost)\n",
    "        results[label][name].append((k, np.mean(costs), np.std(costs)))"
   ]
  },
  {
   "cell_type": "code",
   "execution_count": null,
   "id": "8a8fbc93",
   "metadata": {},
   "outputs": [],
   "source": [
    "for name, df in preprocessed.items():\n",
    "    print(name, len(df))"
   ]
  },
  {
   "cell_type": "code",
   "execution_count": null,
   "id": "2200f540",
   "metadata": {},
   "outputs": [],
   "source": [
    "import matplotlib.pyplot as plt"
   ]
  },
  {
   "cell_type": "code",
   "execution_count": null,
   "id": "9f0eb8e4",
   "metadata": {},
   "outputs": [],
   "source": [
    "for dataset in [\"eia\", \"Tarragona\"]:\n",
    "    plt.figure()\n",
    "    for method in [\"pca\", \"random_10\", \"random_50\", \"random_100\", \"merged\"]:\n",
    "        res = results[method][dataset]\n",
    "        arr = np.array(res)\n",
    "        # print(arr, method, dataset)\n",
    "        if arr.shape[1]==3:\n",
    "            x = arr[:,0]\n",
    "            y = arr[:,1]\n",
    "            yerr = arr[:,2]\n",
    "            plt.errorbar(x, y, yerr=yerr, label=method)\n",
    "        else:\n",
    "            x = arr[:,0]\n",
    "            y = arr[:,1]\n",
    "            plt.plot(x,y, label=method)\n",
    "    plt.legend()\n",
    "    plt.xlabel(\"minimum group size k\")\n",
    "    plt.ylabel(\"Reconstruction Error\")\n",
    "    plt.title(dataset)"
   ]
  },
  {
   "cell_type": "code",
   "execution_count": null,
   "id": "9d6e9e7d",
   "metadata": {},
   "outputs": [],
   "source": []
  }
 ],
 "metadata": {
  "kernelspec": {
   "display_name": "Python 3 (ipykernel)",
   "language": "python",
   "name": "python3"
  },
  "language_info": {
   "codemirror_mode": {
    "name": "ipython",
    "version": 3
   },
   "file_extension": ".py",
   "mimetype": "text/x-python",
   "name": "python",
   "nbconvert_exporter": "python",
   "pygments_lexer": "ipython3",
   "version": "3.10.11"
  }
 },
 "nbformat": 4,
 "nbformat_minor": 5
}
