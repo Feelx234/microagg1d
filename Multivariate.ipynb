{
 "cells": [
  {
   "cell_type": "code",
   "execution_count": null,
   "id": "e8a68ce1",
   "metadata": {},
   "outputs": [],
   "source": []
  },
  {
   "cell_type": "code",
   "execution_count": 1,
   "id": "88b5ee44",
   "metadata": {},
   "outputs": [],
   "source": [
    "dfs = {}\n",
    "preprocessed = {}"
   ]
  },
  {
   "cell_type": "code",
   "execution_count": 2,
   "id": "817f2d56",
   "metadata": {},
   "outputs": [],
   "source": [
    "import rdata\n",
    "\n",
    "converted = rdata.read_rda(\"E:\\projects\\microagg1d\\datasets\\Tarragona.rda\")\n",
    "converted[\"Tarragona\"]\n",
    "dfs[\"Tarragona\"] = converted[\"Tarragona\"]\n",
    "preprocessed[\"Tarragona\"] = converted[\"Tarragona\"]"
   ]
  },
  {
   "cell_type": "code",
   "execution_count": 3,
   "id": "edadc47c",
   "metadata": {},
   "outputs": [],
   "source": [
    "converted = rdata.read_rda(\"E:\\projects\\microagg1d\\datasets\\EIA.rda\")\n",
    "converted[\"EIA\"]\n",
    "dfs[\"EIA\"] = converted[\"EIA\"]\n",
    "preprocessed[\"EIA\"]=dfs[\"EIA\"][['RESREVENUE', 'RESSALES', 'COMREVENUE', 'COMSALES', 'INDREVENUE', 'INDSALES', 'OTHREVENUE', 'OTHRSALES', 'TOTREVENUE', 'TOTSALES']]"
   ]
  },
  {
   "cell_type": "code",
   "execution_count": 4,
   "id": "a7b0b9f0",
   "metadata": {},
   "outputs": [],
   "source": [
    "from sklearn.decomposition import PCA\n",
    "from sklearn import preprocessing"
   ]
  },
  {
   "cell_type": "code",
   "execution_count": 5,
   "id": "a5c8e29f",
   "metadata": {},
   "outputs": [],
   "source": [
    "from microagg1d import univariate_microaggregation\n",
    "from microagg1d.common import compute_cluster_cost_sorted\n",
    "from microagg1d.cost import compute_cost\n",
    "from microagg1d.main import undo_argsort\n",
    "import numpy as np"
   ]
  },
  {
   "cell_type": "code",
   "execution_count": 6,
   "id": "1e532665",
   "metadata": {},
   "outputs": [],
   "source": [
    "def square_sum(x):\n",
    "    return np.sum(np.square(x))\n",
    "\n",
    "def absolute_sum(x):\n",
    "    return np.sum(np.abs(x))\n",
    "\n",
    "def multi_cost(df_in, clusters, cost_name=\"sse\", preprocess=True):\n",
    "    df = do_preprocessing(df_in, preprocess)\n",
    "    average = {\n",
    "        \"sse\" : np.mean,\n",
    "        \"sae\" : np.median,\n",
    "    }[cost_name]\n",
    "    cost_func = {\n",
    "        \"sse\" : square_sum,\n",
    "        \"sae\" : absolute_sum,\n",
    "    }[cost_name]\n",
    "    num_clusters = clusters.max() + 1\n",
    "    total_cost=0\n",
    "    for i in range(num_clusters):\n",
    "        select = clusters == i\n",
    "        df_select = df[select,:]\n",
    "        centroid = average(df_select,axis=0)\n",
    "        total_cost += cost_func(df_select-centroid)\n",
    "    return total_cost"
   ]
  },
  {
   "cell_type": "code",
   "execution_count": 7,
   "id": "e6c88808",
   "metadata": {},
   "outputs": [],
   "source": [
    "def do_preprocessing(df_in, preprocess):\n",
    "    if preprocess:\n",
    "        return preprocessing.StandardScaler().fit_transform(df_in)\n",
    "    return df_in"
   ]
  },
  {
   "cell_type": "code",
   "execution_count": 8,
   "id": "ea12ec13",
   "metadata": {},
   "outputs": [],
   "source": [
    "def compute_multi_pca(df_in, k, cost_name=\"sse\", preprocess=True):\n",
    "    df = do_preprocessing(df_in, preprocess)\n",
    "    pca = PCA(n_components=1)\n",
    "    pca.fit(df)\n",
    "    vec = pca.components_[0,:]\n",
    "    arr = df @ vec\n",
    "    order = np.argsort(arr)\n",
    "    arr = np.array(arr[order], dtype=np.float64)\n",
    "    clusters = univariate_microaggregation(arr, cost=cost_name, k=k)\n",
    "    return undo_argsort(clusters, order), vec, order"
   ]
  },
  {
   "cell_type": "code",
   "execution_count": 9,
   "id": "daae9734",
   "metadata": {},
   "outputs": [],
   "source": [
    "def compute_multi_random(df_in, k, num_tries=10, cost_name=\"sse\", seed=None, preprocess=True):\n",
    "    df = do_preprocessing(df_in, preprocess)\n",
    "    if seed is not None:\n",
    "        np.random.seed(seed)\n",
    "    best_clusters= None\n",
    "    best_vec = None\n",
    "    best_cost = np.inf\n",
    "    for i in range(num_tries):\n",
    "        vec = np.random.rand(df.shape[1])\n",
    "        arr = df @ vec\n",
    "        order = np.argsort(arr)\n",
    "        arr = np.array(arr[order], dtype=np.float64)\n",
    "        clusters = univariate_microaggregation(arr, cost=cost_name, k=k)\n",
    "        clusters = undo_argsort(clusters, order)\n",
    "        cost = multi_cost(df, clusters, cost_name=cost_name, preprocess=False)\n",
    "        if cost < best_cost:\n",
    "            best_clusters=clusters\n",
    "            best_cost=cost\n",
    "            best_arr = undo_argsort(arr, order)\n",
    "            best_order = undo_argsort(order, order)\n",
    "        \n",
    "    return best_clusters, best_vec, best_order, best_cost"
   ]
  },
  {
   "cell_type": "code",
   "execution_count": 10,
   "id": "494df885",
   "metadata": {},
   "outputs": [],
   "source": [
    "def k_means_heuristic(df_in, k, n_clusters, seed=None, preprocess=True):\n",
    "    if seed is not None:\n",
    "        np.random.seed(seed)\n",
    "    df = do_preprocessing(df_in, preprocess)\n",
    "    n_clusters = min(n_cluster, len(df))\n",
    "    kmeans = KMeans(n_clusters=n_clusters, random_state=seed).fit(df)\n",
    "    all_labels = set(kmeans.labels_)\n",
    "    labels = kmeans.labels_.copy()\n",
    "    centroids = kmeans.cluster_centers_.copy()\n",
    "    changes=False\n",
    "    while True:\n",
    "        group_sizes = np.bincount(labels, minlength=len(all_labels)+1)\n",
    "        labels_to_iter = np.random.permutation(np.fromiter(all_labels, count=len(all_labels), dtype=np.int64))\n",
    "        if np.all(group_sizes[labels_to_iter] >= k):\n",
    "            break\n",
    "        \n",
    "        \n",
    "        \n",
    "        for group_label in labels_to_iter:\n",
    "            group_size = group_sizes[group_label]\n",
    "            if group_size < k:\n",
    "                this_centroid = centroids[group_label]\n",
    "                min_dist = np.inf\n",
    "                best_neigh = None\n",
    "                for i in all_labels:\n",
    "                    centroid = centroids[i]\n",
    "                    if i==group_label or group_sizes[i]==0:\n",
    "                        continue\n",
    "                    \n",
    "                    distance = np.sum(np.square(centroid - this_centroid))\n",
    "                    if distance < min_dist:\n",
    "                        best_neigh = i\n",
    "                        min_dist = distance\n",
    "                centroids[best_neigh] = (centroids[best_neigh]*group_sizes[best_neigh] + \n",
    "                                         centroids[group_label]*group_sizes[group_label])/ (\n",
    "                                        group_sizes[best_neigh] + group_sizes[group_label])\n",
    "                \n",
    "                labels[labels==group_label] = best_neigh\n",
    "                group_sizes[best_neigh] += group_sizes[group_label]\n",
    "                group_sizes[group_label] = 0\n",
    "                all_labels.remove(group_label)\n",
    "                # print(\"removing\", group_label, \"to\", best_neigh)\n",
    "                tmp = np.bincount(labels,minlength=len(group_sizes))\n",
    "                if not np.all(group_sizes == tmp):\n",
    "                    print(group_sizes)\n",
    "                    print(tmp)\n",
    "                    print(group_sizes-tmp)\n",
    "                    raise ValueError()    \n",
    "    final_labels = labels.copy()\n",
    "    \n",
    "    d = {l:i for i, l in enumerate(all_labels)}\n",
    "    for i,l in enumerate(labels):\n",
    "        final_labels[i] = d[l]\n",
    "    return final_labels"
   ]
  },
  {
   "cell_type": "code",
   "execution_count": null,
   "id": "99e55936",
   "metadata": {},
   "outputs": [],
   "source": []
  },
  {
   "cell_type": "code",
   "execution_count": null,
   "id": "104fc0f4",
   "metadata": {},
   "outputs": [],
   "source": []
  },
  {
   "cell_type": "code",
   "execution_count": null,
   "id": "206513ad",
   "metadata": {},
   "outputs": [],
   "source": []
  },
  {
   "cell_type": "code",
   "execution_count": 11,
   "id": "0b92de06",
   "metadata": {},
   "outputs": [],
   "source": [
    "from sklearn.cluster import KMeans"
   ]
  },
  {
   "cell_type": "code",
   "execution_count": 12,
   "id": "5e064a49",
   "metadata": {},
   "outputs": [],
   "source": [
    "cost_name = \"sse\""
   ]
  },
  {
   "cell_type": "code",
   "execution_count": 13,
   "id": "2caca9e1",
   "metadata": {},
   "outputs": [],
   "source": [
    "from collections import defaultdict\n",
    "results_pca = defaultdict(list)"
   ]
  },
  {
   "cell_type": "code",
   "execution_count": 14,
   "id": "4db0075a",
   "metadata": {},
   "outputs": [],
   "source": [
    "the_ks = [2,3,4,5,7,10,20,30,40,50]\n",
    "num_repeats=10\n",
    "list_num_tries = [10, 50, 100]"
   ]
  },
  {
   "cell_type": "code",
   "execution_count": 15,
   "id": "8bd7b994",
   "metadata": {},
   "outputs": [],
   "source": [
    "results = {}"
   ]
  },
  {
   "cell_type": "code",
   "execution_count": 16,
   "id": "f7fb18a5",
   "metadata": {},
   "outputs": [],
   "source": [
    "results[\"pca\"] = defaultdict(list)\n",
    "for name, df in preprocessed.items():\n",
    "    df = preprocessing.StandardScaler().fit_transform(df)\n",
    "    for k in the_ks:\n",
    "        clusters, arr, order = compute_multi_pca(df, k=k, preprocess=False)\n",
    "        cost = multi_cost(df, clusters, cost_name=cost_name)\n",
    "\n",
    "        results[\"pca\"][name].append((k, cost))"
   ]
  },
  {
   "cell_type": "code",
   "execution_count": 17,
   "id": "7b4682ff",
   "metadata": {},
   "outputs": [],
   "source": [
    "from tqdm.notebook import tqdm"
   ]
  },
  {
   "cell_type": "code",
   "execution_count": 28,
   "id": "a26c3a51",
   "metadata": {},
   "outputs": [
    {
     "data": {
      "text/plain": [
       "10"
      ]
     },
     "execution_count": 28,
     "metadata": {},
     "output_type": "execute_result"
    }
   ],
   "source": [
    "num_tries#"
   ]
  },
  {
   "cell_type": "code",
   "execution_count": 18,
   "id": "c06e6b58",
   "metadata": {},
   "outputs": [],
   "source": [
    "from microagg1d.multivariate_poly import get_partitions_multivariate_poly, set_both_seeds"
   ]
  },
  {
   "cell_type": "code",
   "execution_count": 20,
   "id": "54be6771",
   "metadata": {},
   "outputs": [
    {
     "data": {
      "application/vnd.jupyter.widget-view+json": {
       "model_id": "",
       "version_major": 2,
       "version_minor": 0
      },
      "text/plain": [
       "  0%|          | 0/10 [00:00<?, ?it/s]"
      ]
     },
     "metadata": {},
     "output_type": "display_data"
    },
    {
     "data": {
      "application/vnd.jupyter.widget-view+json": {
       "model_id": "",
       "version_major": 2,
       "version_minor": 0
      },
      "text/plain": [
       "  0%|          | 0/10 [00:00<?, ?it/s]"
      ]
     },
     "metadata": {},
     "output_type": "display_data"
    },
    {
     "data": {
      "application/vnd.jupyter.widget-view+json": {
       "model_id": "",
       "version_major": 2,
       "version_minor": 0
      },
      "text/plain": [
       "  0%|          | 0/10 [00:00<?, ?it/s]"
      ]
     },
     "metadata": {},
     "output_type": "display_data"
    },
    {
     "data": {
      "application/vnd.jupyter.widget-view+json": {
       "model_id": "0d1d37431532489fa4f9313118174886",
       "version_major": 2,
       "version_minor": 0
      },
      "text/plain": [
       "  0%|          | 0/10 [00:00<?, ?it/s]"
      ]
     },
     "metadata": {},
     "output_type": "display_data"
    },
    {
     "data": {
      "application/vnd.jupyter.widget-view+json": {
       "model_id": "",
       "version_major": 2,
       "version_minor": 0
      },
      "text/plain": [
       "  0%|          | 0/10 [00:00<?, ?it/s]"
      ]
     },
     "metadata": {},
     "output_type": "display_data"
    },
    {
     "data": {
      "application/vnd.jupyter.widget-view+json": {
       "model_id": "",
       "version_major": 2,
       "version_minor": 0
      },
      "text/plain": [
       "  0%|          | 0/10 [00:00<?, ?it/s]"
      ]
     },
     "metadata": {},
     "output_type": "display_data"
    },
    {
     "data": {
      "application/vnd.jupyter.widget-view+json": {
       "model_id": "",
       "version_major": 2,
       "version_minor": 0
      },
      "text/plain": [
       "  0%|          | 0/10 [00:00<?, ?it/s]"
      ]
     },
     "metadata": {},
     "output_type": "display_data"
    },
    {
     "data": {
      "application/vnd.jupyter.widget-view+json": {
       "model_id": "",
       "version_major": 2,
       "version_minor": 0
      },
      "text/plain": [
       "  0%|          | 0/10 [00:00<?, ?it/s]"
      ]
     },
     "metadata": {},
     "output_type": "display_data"
    },
    {
     "data": {
      "application/vnd.jupyter.widget-view+json": {
       "model_id": "",
       "version_major": 2,
       "version_minor": 0
      },
      "text/plain": [
       "  0%|          | 0/10 [00:00<?, ?it/s]"
      ]
     },
     "metadata": {},
     "output_type": "display_data"
    },
    {
     "data": {
      "application/vnd.jupyter.widget-view+json": {
       "model_id": "",
       "version_major": 2,
       "version_minor": 0
      },
      "text/plain": [
       "  0%|          | 0/10 [00:00<?, ?it/s]"
      ]
     },
     "metadata": {},
     "output_type": "display_data"
    },
    {
     "data": {
      "application/vnd.jupyter.widget-view+json": {
       "model_id": "",
       "version_major": 2,
       "version_minor": 0
      },
      "text/plain": [
       "  0%|          | 0/10 [00:00<?, ?it/s]"
      ]
     },
     "metadata": {},
     "output_type": "display_data"
    },
    {
     "data": {
      "application/vnd.jupyter.widget-view+json": {
       "model_id": "",
       "version_major": 2,
       "version_minor": 0
      },
      "text/plain": [
       "  0%|          | 0/10 [00:00<?, ?it/s]"
      ]
     },
     "metadata": {},
     "output_type": "display_data"
    },
    {
     "data": {
      "application/vnd.jupyter.widget-view+json": {
       "model_id": "",
       "version_major": 2,
       "version_minor": 0
      },
      "text/plain": [
       "  0%|          | 0/10 [00:00<?, ?it/s]"
      ]
     },
     "metadata": {},
     "output_type": "display_data"
    },
    {
     "data": {
      "application/vnd.jupyter.widget-view+json": {
       "model_id": "",
       "version_major": 2,
       "version_minor": 0
      },
      "text/plain": [
       "  0%|          | 0/10 [00:00<?, ?it/s]"
      ]
     },
     "metadata": {},
     "output_type": "display_data"
    },
    {
     "data": {
      "application/vnd.jupyter.widget-view+json": {
       "model_id": "",
       "version_major": 2,
       "version_minor": 0
      },
      "text/plain": [
       "  0%|          | 0/10 [00:00<?, ?it/s]"
      ]
     },
     "metadata": {},
     "output_type": "display_data"
    },
    {
     "data": {
      "application/vnd.jupyter.widget-view+json": {
       "model_id": "",
       "version_major": 2,
       "version_minor": 0
      },
      "text/plain": [
       "  0%|          | 0/10 [00:00<?, ?it/s]"
      ]
     },
     "metadata": {},
     "output_type": "display_data"
    },
    {
     "data": {
      "application/vnd.jupyter.widget-view+json": {
       "model_id": "",
       "version_major": 2,
       "version_minor": 0
      },
      "text/plain": [
       "  0%|          | 0/10 [00:00<?, ?it/s]"
      ]
     },
     "metadata": {},
     "output_type": "display_data"
    },
    {
     "data": {
      "application/vnd.jupyter.widget-view+json": {
       "model_id": "",
       "version_major": 2,
       "version_minor": 0
      },
      "text/plain": [
       "  0%|          | 0/10 [00:00<?, ?it/s]"
      ]
     },
     "metadata": {},
     "output_type": "display_data"
    },
    {
     "data": {
      "application/vnd.jupyter.widget-view+json": {
       "model_id": "",
       "version_major": 2,
       "version_minor": 0
      },
      "text/plain": [
       "  0%|          | 0/10 [00:00<?, ?it/s]"
      ]
     },
     "metadata": {},
     "output_type": "display_data"
    },
    {
     "data": {
      "application/vnd.jupyter.widget-view+json": {
       "model_id": "",
       "version_major": 2,
       "version_minor": 0
      },
      "text/plain": [
       "  0%|          | 0/10 [00:00<?, ?it/s]"
      ]
     },
     "metadata": {},
     "output_type": "display_data"
    },
    {
     "data": {
      "application/vnd.jupyter.widget-view+json": {
       "model_id": "",
       "version_major": 2,
       "version_minor": 0
      },
      "text/plain": [
       "  0%|          | 0/10 [00:00<?, ?it/s]"
      ]
     },
     "metadata": {},
     "output_type": "display_data"
    },
    {
     "data": {
      "application/vnd.jupyter.widget-view+json": {
       "model_id": "",
       "version_major": 2,
       "version_minor": 0
      },
      "text/plain": [
       "  0%|          | 0/10 [00:00<?, ?it/s]"
      ]
     },
     "metadata": {},
     "output_type": "display_data"
    }
   ],
   "source": [
    "set_both_seeds(0)\n",
    "\n",
    "\n",
    "label = f\"poly_{num_tries}\"\n",
    "results[label] = defaultdict(list)\n",
    "for name, df in preprocessed.items():\n",
    "    df = preprocessing.StandardScaler().fit_transform(df)\n",
    "    for k in tqdm(the_ks, leave=False):\n",
    "        costs = []\n",
    "        for seed in tqdm(range(num_repeats), leave=False):\n",
    "            set_both_seeds(seed)\n",
    "            clusters = get_partitions_multivariate_poly(df, k)\n",
    "            costs.append(cost)\n",
    "        results[label][name].append((k, np.mean(costs), np.std(costs)))"
   ]
  },
  {
   "cell_type": "code",
   "execution_count": null,
   "id": "437d388a",
   "metadata": {},
   "outputs": [],
   "source": [
    "np.random.seed(0)\n",
    "\n",
    "for num_tries in tqdm(list_num_tries):\n",
    "    label = f\"random_{num_tries}\"\n",
    "    results[label] = defaultdict(list)\n",
    "    for name, df in preprocessed.items():\n",
    "        df = preprocessing.StandardScaler().fit_transform(df)\n",
    "        for k in tqdm(the_ks, leave=False):\n",
    "            costs = []\n",
    "            for seed in tqdm(range(num_repeats), leave=False):\n",
    "                clusters, arr, order, cost = compute_multi_random(df, k=k, num_tries=num_tries, cost_name=cost_name, preprocess=False)\n",
    "                costs.append(cost)\n",
    "            results[label][name].append((k, np.mean(costs), np.std(costs)))"
   ]
  },
  {
   "cell_type": "code",
   "execution_count": null,
   "id": "9adaad03",
   "metadata": {},
   "outputs": [],
   "source": [
    "np.random.seed(0)\n",
    "\n",
    "for factor in tqdm([0.5,1,2], leave=False):\n",
    "    label = f\"merged_{factor}\"\n",
    "    results[label] = defaultdict(list)\n",
    "    for name, df in preprocessed.items():\n",
    "        df = preprocessing.StandardScaler().fit_transform(df)\n",
    "        for k in tqdm(the_ks, leave=False):\n",
    "            costs = []\n",
    "            for seed in tqdm(range(num_repeats), leave=False):\n",
    "                clusters = k_means_heuristic(df, k=k, n_clusters=int(len(df)/k*factor))\n",
    "                cost = multi_cost(df, clusters, cost_name=cost_name, preprocess=True)\n",
    "                costs.append(cost)\n",
    "            results[label][name].append((k, np.mean(costs), np.std(costs)))"
   ]
  },
  {
   "cell_type": "code",
   "execution_count": 21,
   "id": "2c9133d9",
   "metadata": {},
   "outputs": [
    {
     "name": "stdout",
     "output_type": "stream",
     "text": [
      "Tarragona 834\n",
      "EIA 4092\n"
     ]
    }
   ],
   "source": [
    "for name, df in preprocessed.items():\n",
    "    print(name, len(df))"
   ]
  },
  {
   "cell_type": "code",
   "execution_count": 22,
   "id": "650d7da6",
   "metadata": {},
   "outputs": [],
   "source": [
    "import matplotlib.pyplot as plt"
   ]
  },
  {
   "cell_type": "code",
   "execution_count": 23,
   "id": "9ccd3a7c",
   "metadata": {},
   "outputs": [],
   "source": [
    "import matplotlib\n",
    "from pathlib import Path"
   ]
  },
  {
   "cell_type": "code",
   "execution_count": 24,
   "id": "a316c204",
   "metadata": {},
   "outputs": [],
   "source": [
    "rc_fonts = {\n",
    "    \"font.family\": \"serif\",\n",
    "    \"font.size\": 12,\n",
    "    'figure.figsize': (5, 3),\n",
    "    \"text.usetex\": True,\n",
    "    'text.latex.preamble': \n",
    "        r\"\"\"\n",
    "        \\usepackage{libertine}\n",
    "        \\usepackage[libertine]{newtxmath}\n",
    "        \"\"\",\n",
    "}\n",
    "matplotlib.rcParams.update(rc_fonts)"
   ]
  },
  {
   "cell_type": "code",
   "execution_count": 25,
   "id": "93dbb0b0",
   "metadata": {},
   "outputs": [],
   "source": [
    "def plot_external_legend(original_ax, identifier, figsize=(12, 0.5), fontsize=16):\n",
    "    import warnings\n",
    "    with warnings.catch_warnings():\n",
    "        warnings.simplefilter(\"ignore\")\n",
    "        fig, legend_ax = plt.subplots(1, 1,figsize=figsize, sharey=True)\n",
    "        #fig.set_facecolor(\"black\")\n",
    "        #fig.pad_inches(0)\n",
    "        fig.set_tight_layout(True)\n",
    "        #legend_ax.set_facecolor(\"black\")\n",
    "        #legend_ax.set_ymargin(-0.1)\n",
    "        handles, labels = original_ax.get_legend_handles_labels()\n",
    "        #labels, handles = zip(*sorted(zip(labels, handles)))\n",
    "        legend_ax.axis('off')\n",
    "        print(legend_ax.margins())\n",
    "        #legend_ax.margins(y=0)\n",
    "        fig.legend(handles, labels, loc='center', mode=\"expand\", ncol=10,  fontsize=fontsize)\n",
    "        #legend_ax.set_autoscale(enable=True, tight=True)\n",
    "        fig.savefig(Path(\".\")/Path('figures')/f'legend_{fontsize}_{identifier}.pdf')"
   ]
  },
  {
   "cell_type": "code",
   "execution_count": 34,
   "id": "4bd3a83d",
   "metadata": {},
   "outputs": [
    {
     "name": "stdout",
     "output_type": "stream",
     "text": [
      "(0.05, 0.05)\n"
     ]
    },
    {
     "data": {
      "image/png": "[encoded data removed]",
      "text/plain": [
       "<Figure size 500x300 with 1 Axes>"
      ]
     },
     "metadata": {},
     "output_type": "display_data"
    },
    {
     "data": {
      "image/png": "[encoded data removed]",
      "text/plain": [
       "<Figure size 1200x50 with 1 Axes>"
      ]
     },
     "metadata": {},
     "output_type": "display_data"
    },
    {
     "name": "stdout",
     "output_type": "stream",
     "text": [
      "(0.05, 0.05)\n"
     ]
    },
    {
     "data": {
      "image/png": "[encoded data removed]",
      "text/plain": [
       "<Figure size 500x300 with 1 Axes>"
      ]
     },
     "metadata": {},
     "output_type": "display_data"
    },
    {
     "data": {
      "image/png": "[encoded data removed]",
      "text/plain": [
       "<Figure size 1200x50 with 1 Axes>"
      ]
     },
     "metadata": {},
     "output_type": "display_data"
    }
   ],
   "source": [
    "for dataset in [\"EIA\", \"Tarragona\"]:\n",
    "    fig = plt.figure(figsize=(5,3))\n",
    "    for label, method, color in zip([\"poly_10\", \"PCA\", \"random_10\", \"random_50\", \"random_100\", \"kmeans_0.5\", \"kmeans_1\", \"kmeans_2\"],\n",
    "        [\"pca\", \"random_10\", \"random_50\", \"random_100\", \"merged_0.5\", \"merged_1\", \"merged_2\"], \n",
    "                            [\"darkgray\", \"lightsalmon\", \"salmon\", \"red\",\"lightskyblue\", \"cornflowerblue\", \"royalblue\" ]):\n",
    "        if method not in results:\n",
    "            continue\n",
    "        res = results[method][dataset]\n",
    "        arr = np.array(res)\n",
    "        \n",
    "        # print(arr, method, dataset)\n",
    "        if arr.shape[1]==3:\n",
    "            x = arr[:,0]\n",
    "            y = arr[:,1]\n",
    "            yerr = arr[:,2]\n",
    "            plt.errorbar(x, y, yerr=yerr, label=label, color=color)\n",
    "        else:\n",
    "            x = arr[:,0]\n",
    "            y = arr[:,1]\n",
    "            plt.plot(x,y, label=label, color=color)\n",
    "    # plt.legend()\n",
    "    plt.xlabel(\"minimum group size k\")\n",
    "    plt.ylabel(\"Reconstruction Error (SSE)\")\n",
    "    # plt.title(dataset)\n",
    "    \n",
    "    fig.savefig(Path(\".\")/'figures'/(dataset+\".pdf\"), bbox_inches = 'tight', transparent=True)\n",
    "    # plt.show()\n",
    "    plot_external_legend(plt.gca(), dataset)\n",
    "    plt.show()"
   ]
  },
  {
   "cell_type": "code",
   "execution_count": 31,
   "id": "6c3ec5b9",
   "metadata": {},
   "outputs": [],
   "source": [
    "from datetime import datetime\n",
    "from pathlib import Path\n",
    "import pickle\n",
    "def save_results(prefix, data):\n",
    "    now = datetime.now()\n",
    "    \n",
    "    date_suffix = now.strftime(\"%Y_%m_%d__%H_%M_%S\")\n",
    "    folder = Path(\"./results/\")\n",
    "    if not folder.exists():\n",
    "        raise ValueError(f'Path \"{folder.absolute()}\" not found')\n",
    "    out_name = folder/(f\"{prefix}_\"+date_suffix+\".pkl\")\n",
    "\n",
    "\n",
    "    print(out_name)\n",
    "    with open(out_name, \"wb\") as f:\n",
    "        pickle.dump(data, f)"
   ]
  },
  {
   "cell_type": "code",
   "execution_count": null,
   "id": "ec9d675c",
   "metadata": {},
   "outputs": [],
   "source": [
    "save_results(\".\", results)"
   ]
  },
  {
   "cell_type": "code",
   "execution_count": null,
   "id": "c27b18f6",
   "metadata": {},
   "outputs": [],
   "source": [
    "print(\n",
    "    len(dfs[\"EIA\"]),\n",
    "    len(dfs[\"EIA\"].columns))"
   ]
  },
  {
   "cell_type": "code",
   "execution_count": null,
   "id": "d0484db1",
   "metadata": {},
   "outputs": [],
   "source": [
    "print(\n",
    "    len(dfs[\"Tarragona\"]),\n",
    "    len(dfs[\"Tarragona\"].columns))"
   ]
  },
  {
   "cell_type": "code",
   "execution_count": null,
   "id": "3f1eeab9",
   "metadata": {},
   "outputs": [],
   "source": []
  }
 ],
 "metadata": {
  "kernelspec": {
   "display_name": "Python 3 (ipykernel)",
   "language": "python",
   "name": "python3"
  },
  "language_info": {
   "codemirror_mode": {
    "name": "ipython",
    "version": 3
   },
   "file_extension": ".py",
   "mimetype": "text/x-python",
   "name": "python",
   "nbconvert_exporter": "python",
   "pygments_lexer": "ipython3",
   "version": "3.10.11"
  }
 },
 "nbformat": 4,
 "nbformat_minor": 5
}
